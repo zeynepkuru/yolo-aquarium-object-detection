{
 "cells": [
  {
   "cell_type": "code",
   "execution_count": 1,
   "id": "332efa1e",
   "metadata": {
    "_cell_guid": "b1076dfc-b9ad-4769-8c92-a6c4dae69d19",
    "_uuid": "8f2839f25d086af736a60e9eeb907d3b93b6e0e5",
    "execution": {
     "iopub.execute_input": "2024-07-22T11:38:44.186096Z",
     "iopub.status.busy": "2024-07-22T11:38:44.185178Z",
     "iopub.status.idle": "2024-07-22T11:39:11.594649Z",
     "shell.execute_reply": "2024-07-22T11:39:11.593118Z"
    },
    "papermill": {
     "duration": 27.417431,
     "end_time": "2024-07-22T11:39:11.597411",
     "exception": false,
     "start_time": "2024-07-22T11:38:44.179980",
     "status": "completed"
    },
    "tags": []
   },
   "outputs": [
    {
     "name": "stdout",
     "output_type": "stream",
     "text": [
      "\u001b[31mERROR: pip's dependency resolver does not currently take into account all the packages that are installed. This behaviour is the source of the following dependency conflicts.\r\n",
      "tensorflow-decision-forests 1.8.1 requires wurlitzer, which is not installed.\r\n",
      "jupyterlab 4.2.3 requires jupyter-lsp>=2.0.0, but you have jupyter-lsp 1.5.1 which is incompatible.\r\n",
      "jupyterlab-lsp 5.1.0 requires jupyter-lsp>=2.0.0, but you have jupyter-lsp 1.5.1 which is incompatible.\r\n",
      "tensorflow 2.15.0 requires keras<2.16,>=2.15.0, but you have keras 3.4.1 which is incompatible.\r\n",
      "ydata-profiling 4.6.4 requires numpy<1.26,>=1.16.0, but you have numpy 1.26.4 which is incompatible.\u001b[0m\u001b[31m\r\n",
      "\u001b[0m"
     ]
    }
   ],
   "source": [
    "!pip install roboflow -q\n",
    "!pip install ultralytics -q"
   ]
  },
  {
   "cell_type": "code",
   "execution_count": 2,
   "id": "5cce5234",
   "metadata": {
    "execution": {
     "iopub.execute_input": "2024-07-22T11:39:11.605875Z",
     "iopub.status.busy": "2024-07-22T11:39:11.605483Z",
     "iopub.status.idle": "2024-07-22T11:39:15.456214Z",
     "shell.execute_reply": "2024-07-22T11:39:15.455365Z"
    },
    "papermill": {
     "duration": 3.857858,
     "end_time": "2024-07-22T11:39:15.458756",
     "exception": false,
     "start_time": "2024-07-22T11:39:11.600898",
     "status": "completed"
    },
    "tags": []
   },
   "outputs": [],
   "source": [
    "from roboflow import Roboflow\n",
    "from ultralytics import YOLO"
   ]
  },
  {
   "cell_type": "code",
   "execution_count": 3,
   "id": "e56d04e7",
   "metadata": {
    "execution": {
     "iopub.execute_input": "2024-07-22T11:39:15.466383Z",
     "iopub.status.busy": "2024-07-22T11:39:15.465906Z",
     "iopub.status.idle": "2024-07-22T11:39:22.128645Z",
     "shell.execute_reply": "2024-07-22T11:39:22.127789Z"
    },
    "papermill": {
     "duration": 6.66913,
     "end_time": "2024-07-22T11:39:22.130942",
     "exception": false,
     "start_time": "2024-07-22T11:39:15.461812",
     "status": "completed"
    },
    "tags": []
   },
   "outputs": [
    {
     "name": "stdout",
     "output_type": "stream",
     "text": [
      "\r",
      "loading Roboflow workspace...\n"
     ]
    },
    {
     "name": "stdout",
     "output_type": "stream",
     "text": [
      "\r",
      "loading Roboflow project...\n"
     ]
    },
    {
     "name": "stdout",
     "output_type": "stream",
     "text": [
      "Dependency ultralytics==8.0.196 is required but found version=8.2.62, to fix: `pip install ultralytics==8.0.196`\n"
     ]
    },
    {
     "name": "stderr",
     "output_type": "stream",
     "text": [
      "\r",
      "Downloading Dataset Version Zip in YOLOv8_1-1 to yolov8::   0%|          | 0/34663 [00:00<?, ?it/s]"
     ]
    },
    {
     "name": "stderr",
     "output_type": "stream",
     "text": [
      "\r",
      "Downloading Dataset Version Zip in YOLOv8_1-1 to yolov8::   0%|          | 47/34663 [00:00<02:14, 256.66it/s]"
     ]
    },
    {
     "name": "stderr",
     "output_type": "stream",
     "text": [
      "\r",
      "Downloading Dataset Version Zip in YOLOv8_1-1 to yolov8::   0%|          | 79/34663 [00:00<02:37, 219.97it/s]"
     ]
    },
    {
     "name": "stderr",
     "output_type": "stream",
     "text": [
      "\r",
      "Downloading Dataset Version Zip in YOLOv8_1-1 to yolov8::   0%|          | 159/34663 [00:00<01:25, 404.56it/s]"
     ]
    },
    {
     "name": "stderr",
     "output_type": "stream",
     "text": [
      "\r",
      "Downloading Dataset Version Zip in YOLOv8_1-1 to yolov8::   1%|          | 223/34663 [00:00<01:13, 469.78it/s]"
     ]
    },
    {
     "name": "stderr",
     "output_type": "stream",
     "text": [
      "\r",
      "Downloading Dataset Version Zip in YOLOv8_1-1 to yolov8::   1%|          | 335/34663 [00:00<00:51, 667.23it/s]"
     ]
    },
    {
     "name": "stderr",
     "output_type": "stream",
     "text": [
      "\r",
      "Downloading Dataset Version Zip in YOLOv8_1-1 to yolov8::   2%|▏         | 527/34663 [00:00<00:32, 1043.56it/s]"
     ]
    },
    {
     "name": "stderr",
     "output_type": "stream",
     "text": [
      "\r",
      "Downloading Dataset Version Zip in YOLOv8_1-1 to yolov8::   2%|▏         | 767/34663 [00:00<00:23, 1451.96it/s]"
     ]
    },
    {
     "name": "stderr",
     "output_type": "stream",
     "text": [
      "\r",
      "Downloading Dataset Version Zip in YOLOv8_1-1 to yolov8::   3%|▎         | 1183/34663 [00:00<00:14, 2265.76it/s]"
     ]
    },
    {
     "name": "stderr",
     "output_type": "stream",
     "text": [
      "\r",
      "Downloading Dataset Version Zip in YOLOv8_1-1 to yolov8::   5%|▌         | 1791/34663 [00:01<00:09, 3411.11it/s]"
     ]
    },
    {
     "name": "stderr",
     "output_type": "stream",
     "text": [
      "\r",
      "Downloading Dataset Version Zip in YOLOv8_1-1 to yolov8::   8%|▊         | 2817/34663 [00:01<00:05, 5466.16it/s]"
     ]
    },
    {
     "name": "stderr",
     "output_type": "stream",
     "text": [
      "\r",
      "Downloading Dataset Version Zip in YOLOv8_1-1 to yolov8::  12%|█▏        | 4306/34663 [00:01<00:03, 8294.60it/s]"
     ]
    },
    {
     "name": "stderr",
     "output_type": "stream",
     "text": [
      "\r",
      "Downloading Dataset Version Zip in YOLOv8_1-1 to yolov8::  20%|█▉        | 6856/34663 [00:01<00:02, 13456.10it/s]"
     ]
    },
    {
     "name": "stderr",
     "output_type": "stream",
     "text": [
      "\r",
      "Downloading Dataset Version Zip in YOLOv8_1-1 to yolov8::  24%|██▎       | 8219/34663 [00:01<00:02, 12722.55it/s]"
     ]
    },
    {
     "name": "stderr",
     "output_type": "stream",
     "text": [
      "\r",
      "Downloading Dataset Version Zip in YOLOv8_1-1 to yolov8::  34%|███▎      | 11615/34663 [00:01<00:01, 18499.65it/s]"
     ]
    },
    {
     "name": "stderr",
     "output_type": "stream",
     "text": [
      "\r",
      "Downloading Dataset Version Zip in YOLOv8_1-1 to yolov8::  40%|███▉      | 13701/34663 [00:01<00:01, 19177.19it/s]"
     ]
    },
    {
     "name": "stderr",
     "output_type": "stream",
     "text": [
      "\r",
      "Downloading Dataset Version Zip in YOLOv8_1-1 to yolov8::  46%|████▌     | 15774/34663 [00:01<00:00, 18968.73it/s]"
     ]
    },
    {
     "name": "stderr",
     "output_type": "stream",
     "text": [
      "\r",
      "Downloading Dataset Version Zip in YOLOv8_1-1 to yolov8::  56%|█████▌    | 19494/34663 [00:01<00:00, 21091.42it/s]"
     ]
    },
    {
     "name": "stderr",
     "output_type": "stream",
     "text": [
      "\r",
      "Downloading Dataset Version Zip in YOLOv8_1-1 to yolov8::  62%|██████▏   | 21568/34663 [00:02<00:00, 20166.71it/s]"
     ]
    },
    {
     "name": "stderr",
     "output_type": "stream",
     "text": [
      "\r",
      "Downloading Dataset Version Zip in YOLOv8_1-1 to yolov8::  72%|███████▏  | 24908/34663 [00:02<00:00, 21680.41it/s]"
     ]
    },
    {
     "name": "stderr",
     "output_type": "stream",
     "text": [
      "\r",
      "Downloading Dataset Version Zip in YOLOv8_1-1 to yolov8::  83%|████████▎ | 28651/34663 [00:02<00:00, 22769.80it/s]"
     ]
    },
    {
     "name": "stderr",
     "output_type": "stream",
     "text": [
      "\r",
      "Downloading Dataset Version Zip in YOLOv8_1-1 to yolov8::  93%|█████████▎| 32311/34663 [00:02<00:00, 26164.86it/s]"
     ]
    },
    {
     "name": "stderr",
     "output_type": "stream",
     "text": [
      "\r",
      "Downloading Dataset Version Zip in YOLOv8_1-1 to yolov8:: 100%|██████████| 34663/34663 [00:02<00:00, 13528.06it/s]"
     ]
    },
    {
     "name": "stdout",
     "output_type": "stream",
     "text": [
      "\n"
     ]
    },
    {
     "name": "stderr",
     "output_type": "stream",
     "text": [
      "\n"
     ]
    },
    {
     "name": "stderr",
     "output_type": "stream",
     "text": [
      "\r",
      "Extracting Dataset Version Zip to YOLOv8_1-1 in yolov8::   0%|          | 0/1210 [00:00<?, ?it/s]"
     ]
    },
    {
     "name": "stderr",
     "output_type": "stream",
     "text": [
      "\r",
      "Extracting Dataset Version Zip to YOLOv8_1-1 in yolov8::  40%|████      | 487/1210 [00:00<00:00, 4861.38it/s]"
     ]
    },
    {
     "name": "stderr",
     "output_type": "stream",
     "text": [
      "\r",
      "Extracting Dataset Version Zip to YOLOv8_1-1 in yolov8:: 100%|██████████| 1210/1210 [00:00<00:00, 6135.83it/s]"
     ]
    },
    {
     "name": "stderr",
     "output_type": "stream",
     "text": [
      "\n"
     ]
    }
   ],
   "source": [
    "# Roboflow API anahtarı ile veri kümesini indir\n",
    "api_key = \"u4qzKF3PtVjxg6rsNntg\"\n",
    "rf = Roboflow(api_key=api_key)\n",
    "project = rf.workspace(\"zeynep-xchq9\").project(\"yolov8_1-ogrtd\")\n",
    "version = project.version(1)\n",
    "dataset = version.download(\"yolov8\")\n"
   ]
  },
  {
   "cell_type": "code",
   "execution_count": 4,
   "id": "755a8b21",
   "metadata": {
    "execution": {
     "iopub.execute_input": "2024-07-22T11:39:22.142794Z",
     "iopub.status.busy": "2024-07-22T11:39:22.142422Z",
     "iopub.status.idle": "2024-07-22T11:39:22.147028Z",
     "shell.execute_reply": "2024-07-22T11:39:22.146100Z"
    },
    "papermill": {
     "duration": 0.013083,
     "end_time": "2024-07-22T11:39:22.149137",
     "exception": false,
     "start_time": "2024-07-22T11:39:22.136054",
     "status": "completed"
    },
    "tags": []
   },
   "outputs": [],
   "source": [
    "# YOLOv8 için konfigürasyon dosyasının doğru yolunu ayarla\n",
    "config_path = \"/kaggle/input/yolov8lll/yolov8.yaml\"\n"
   ]
  },
  {
   "cell_type": "code",
   "execution_count": 5,
   "id": "bd8bfdad",
   "metadata": {
    "execution": {
     "iopub.execute_input": "2024-07-22T11:39:22.161063Z",
     "iopub.status.busy": "2024-07-22T11:39:22.160414Z",
     "iopub.status.idle": "2024-07-22T11:39:22.167776Z",
     "shell.execute_reply": "2024-07-22T11:39:22.166739Z"
    },
    "papermill": {
     "duration": 0.015643,
     "end_time": "2024-07-22T11:39:22.169885",
     "exception": false,
     "start_time": "2024-07-22T11:39:22.154242",
     "status": "completed"
    },
    "tags": []
   },
   "outputs": [],
   "source": [
    "import os \n",
    "os.environ['WANDB_MODE'] = 'disabled'\n",
    "\n",
    "from ultralytics import settings\n",
    "settings.update({\"wandb\":False})"
   ]
  },
  {
   "cell_type": "code",
   "execution_count": 6,
   "id": "fe49b7d0",
   "metadata": {
    "execution": {
     "iopub.execute_input": "2024-07-22T11:39:22.181923Z",
     "iopub.status.busy": "2024-07-22T11:39:22.181162Z"
    },
    "papermill": {
     "duration": null,
     "end_time": null,
     "exception": false,
     "start_time": "2024-07-22T11:39:22.175108",
     "status": "running"
    },
    "tags": []
   },
   "outputs": [
    {
     "name": "stdout",
     "output_type": "stream",
     "text": [
      "Downloading https://github.com/ultralytics/assets/releases/download/v8.2.0/yolov8l.pt to 'yolov8l.pt'...\n"
     ]
    },
    {
     "name": "stderr",
     "output_type": "stream",
     "text": [
      "\r",
      "  0%|          | 0.00/83.7M [00:00<?, ?B/s]"
     ]
    },
    {
     "name": "stderr",
     "output_type": "stream",
     "text": [
      "\r",
      "  0%|          | 144k/83.7M [00:00<01:01, 1.43MB/s]"
     ]
    },
    {
     "name": "stderr",
     "output_type": "stream",
     "text": [
      "\r",
      "  2%|▏         | 1.39M/83.7M [00:00<00:10, 7.92MB/s]"
     ]
    },
    {
     "name": "stderr",
     "output_type": "stream",
     "text": [
      "\r",
      " 11%|█▏        | 9.57M/83.7M [00:00<00:01, 41.3MB/s]"
     ]
    },
    {
     "name": "stderr",
     "output_type": "stream",
     "text": [
      "\r",
      " 25%|██▌       | 21.3M/83.7M [00:00<00:00, 70.7MB/s]"
     ]
    },
    {
     "name": "stderr",
     "output_type": "stream",
     "text": [
      "\r",
      " 39%|███▉      | 33.0M/83.7M [00:00<00:00, 86.6MB/s]"
     ]
    },
    {
     "name": "stderr",
     "output_type": "stream",
     "text": [
      "\r",
      " 53%|█████▎    | 44.5M/83.7M [00:00<00:00, 96.0MB/s]"
     ]
    },
    {
     "name": "stderr",
     "output_type": "stream",
     "text": [
      "\r",
      " 67%|██████▋   | 55.9M/83.7M [00:00<00:00, 101MB/s] "
     ]
    },
    {
     "name": "stderr",
     "output_type": "stream",
     "text": [
      "\r",
      " 81%|████████  | 67.6M/83.7M [00:00<00:00, 106MB/s]"
     ]
    },
    {
     "name": "stderr",
     "output_type": "stream",
     "text": [
      "\r",
      " 95%|█████████▍| 79.1M/83.7M [00:00<00:00, 108MB/s]"
     ]
    },
    {
     "name": "stderr",
     "output_type": "stream",
     "text": [
      "\r",
      "100%|██████████| 83.7M/83.7M [00:00<00:00, 88.0MB/s]"
     ]
    },
    {
     "name": "stderr",
     "output_type": "stream",
     "text": [
      "\n"
     ]
    },
    {
     "name": "stdout",
     "output_type": "stream",
     "text": [
      "Ultralytics YOLOv8.2.62 🚀 Python-3.10.13 torch-2.1.2+cpu CPU (Intel Xeon 2.20GHz)\n"
     ]
    },
    {
     "name": "stdout",
     "output_type": "stream",
     "text": [
      "\u001b[34m\u001b[1mengine/trainer: \u001b[0mtask=detect, mode=train, model=yolov8l.pt, data=/kaggle/input/yolov8lll/yolov8.yaml, epochs=100, time=None, patience=100, batch=16, imgsz=640, save=True, save_period=-1, cache=False, device=None, workers=8, project=None, name=train, exist_ok=False, pretrained=True, optimizer=auto, verbose=True, seed=0, deterministic=True, single_cls=False, rect=False, cos_lr=False, close_mosaic=10, resume=False, amp=True, fraction=1.0, profile=False, freeze=None, multi_scale=False, overlap_mask=True, mask_ratio=4, dropout=0.0, val=True, split=val, save_json=False, save_hybrid=False, conf=None, iou=0.7, max_det=300, half=False, dnn=False, plots=True, source=None, vid_stride=1, stream_buffer=False, visualize=False, augment=False, agnostic_nms=False, classes=None, retina_masks=False, embed=None, show=False, save_frames=False, save_txt=False, save_conf=False, save_crop=False, show_labels=True, show_conf=True, show_boxes=True, line_width=None, format=torchscript, keras=False, optimize=False, int8=False, dynamic=False, simplify=False, opset=None, workspace=4, nms=False, lr0=0.01, lrf=0.01, momentum=0.937, weight_decay=0.0005, warmup_epochs=3.0, warmup_momentum=0.8, warmup_bias_lr=0.1, box=7.5, cls=0.5, dfl=1.5, pose=12.0, kobj=1.0, label_smoothing=0.0, nbs=64, hsv_h=0.015, hsv_s=0.7, hsv_v=0.4, degrees=0.0, translate=0.1, scale=0.5, shear=0.0, perspective=0.0, flipud=0.0, fliplr=0.5, bgr=0.0, mosaic=1.0, mixup=0.0, copy_paste=0.0, auto_augment=randaugment, erasing=0.4, crop_fraction=1.0, cfg=None, tracker=botsort.yaml, save_dir=runs/detect/train\n"
     ]
    },
    {
     "name": "stdout",
     "output_type": "stream",
     "text": [
      "Downloading https://ultralytics.com/assets/Arial.ttf to '/root/.config/Ultralytics/Arial.ttf'...\n"
     ]
    },
    {
     "name": "stderr",
     "output_type": "stream",
     "text": [
      "\r",
      "  0%|          | 0.00/755k [00:00<?, ?B/s]"
     ]
    },
    {
     "name": "stderr",
     "output_type": "stream",
     "text": [
      "\r",
      " 20%|██        | 152k/755k [00:00<00:00, 1.47MB/s]"
     ]
    },
    {
     "name": "stderr",
     "output_type": "stream",
     "text": [
      "\r",
      "100%|██████████| 755k/755k [00:00<00:00, 4.28MB/s]"
     ]
    },
    {
     "name": "stderr",
     "output_type": "stream",
     "text": [
      "\n"
     ]
    },
    {
     "name": "stderr",
     "output_type": "stream",
     "text": [
      "2024-07-22 11:39:30,264\tINFO util.py:124 -- Outdated packages:\n",
      "  ipywidgets==7.7.1 found, needs ipywidgets>=8\n",
      "Run `pip install -U ipywidgets`, then restart the notebook server for rich notebook output.\n"
     ]
    },
    {
     "name": "stderr",
     "output_type": "stream",
     "text": [
      "2024-07-22 11:39:31,959\tINFO util.py:124 -- Outdated packages:\n",
      "  ipywidgets==7.7.1 found, needs ipywidgets>=8\n",
      "Run `pip install -U ipywidgets`, then restart the notebook server for rich notebook output.\n"
     ]
    },
    {
     "name": "stdout",
     "output_type": "stream",
     "text": [
      "Overriding model.yaml nc=80 with nc=7\n"
     ]
    },
    {
     "name": "stdout",
     "output_type": "stream",
     "text": [
      "\n",
      "                   from  n    params  module                                       arguments                     \n"
     ]
    },
    {
     "name": "stdout",
     "output_type": "stream",
     "text": [
      "  0                  -1  1      1856  ultralytics.nn.modules.conv.Conv             [3, 64, 3, 2]                 \n"
     ]
    },
    {
     "name": "stdout",
     "output_type": "stream",
     "text": [
      "  1                  -1  1     73984  ultralytics.nn.modules.conv.Conv             [64, 128, 3, 2]               \n"
     ]
    },
    {
     "name": "stdout",
     "output_type": "stream",
     "text": [
      "  2                  -1  3    279808  ultralytics.nn.modules.block.C2f             [128, 128, 3, True]           \n"
     ]
    },
    {
     "name": "stdout",
     "output_type": "stream",
     "text": [
      "  3                  -1  1    295424  ultralytics.nn.modules.conv.Conv             [128, 256, 3, 2]              \n"
     ]
    },
    {
     "name": "stdout",
     "output_type": "stream",
     "text": [
      "  4                  -1  6   2101248  ultralytics.nn.modules.block.C2f             [256, 256, 6, True]           \n"
     ]
    },
    {
     "name": "stdout",
     "output_type": "stream",
     "text": [
      "  5                  -1  1   1180672  ultralytics.nn.modules.conv.Conv             [256, 512, 3, 2]              \n"
     ]
    },
    {
     "name": "stdout",
     "output_type": "stream",
     "text": [
      "  6                  -1  6   8396800  ultralytics.nn.modules.block.C2f             [512, 512, 6, True]           \n"
     ]
    },
    {
     "name": "stdout",
     "output_type": "stream",
     "text": [
      "  7                  -1  1   2360320  ultralytics.nn.modules.conv.Conv             [512, 512, 3, 2]              \n"
     ]
    },
    {
     "name": "stdout",
     "output_type": "stream",
     "text": [
      "  8                  -1  3   4461568  ultralytics.nn.modules.block.C2f             [512, 512, 3, True]           \n"
     ]
    },
    {
     "name": "stdout",
     "output_type": "stream",
     "text": [
      "  9                  -1  1    656896  ultralytics.nn.modules.block.SPPF            [512, 512, 5]                 \n"
     ]
    },
    {
     "name": "stdout",
     "output_type": "stream",
     "text": [
      " 10                  -1  1         0  torch.nn.modules.upsampling.Upsample         [None, 2, 'nearest']          \n"
     ]
    },
    {
     "name": "stdout",
     "output_type": "stream",
     "text": [
      " 11             [-1, 6]  1         0  ultralytics.nn.modules.conv.Concat           [1]                           \n"
     ]
    },
    {
     "name": "stdout",
     "output_type": "stream",
     "text": [
      " 12                  -1  3   4723712  ultralytics.nn.modules.block.C2f             [1024, 512, 3]                \n"
     ]
    },
    {
     "name": "stdout",
     "output_type": "stream",
     "text": [
      " 13                  -1  1         0  torch.nn.modules.upsampling.Upsample         [None, 2, 'nearest']          \n"
     ]
    },
    {
     "name": "stdout",
     "output_type": "stream",
     "text": [
      " 14             [-1, 4]  1         0  ultralytics.nn.modules.conv.Concat           [1]                           \n"
     ]
    },
    {
     "name": "stdout",
     "output_type": "stream",
     "text": [
      " 15                  -1  3   1247744  ultralytics.nn.modules.block.C2f             [768, 256, 3]                 \n"
     ]
    },
    {
     "name": "stdout",
     "output_type": "stream",
     "text": [
      " 16                  -1  1    590336  ultralytics.nn.modules.conv.Conv             [256, 256, 3, 2]              \n"
     ]
    },
    {
     "name": "stdout",
     "output_type": "stream",
     "text": [
      " 17            [-1, 12]  1         0  ultralytics.nn.modules.conv.Concat           [1]                           \n"
     ]
    },
    {
     "name": "stdout",
     "output_type": "stream",
     "text": [
      " 18                  -1  3   4592640  ultralytics.nn.modules.block.C2f             [768, 512, 3]                 \n"
     ]
    },
    {
     "name": "stdout",
     "output_type": "stream",
     "text": [
      " 19                  -1  1   2360320  ultralytics.nn.modules.conv.Conv             [512, 512, 3, 2]              \n"
     ]
    },
    {
     "name": "stdout",
     "output_type": "stream",
     "text": [
      " 20             [-1, 9]  1         0  ultralytics.nn.modules.conv.Concat           [1]                           \n"
     ]
    },
    {
     "name": "stdout",
     "output_type": "stream",
     "text": [
      " 21                  -1  3   4723712  ultralytics.nn.modules.block.C2f             [1024, 512, 3]                \n"
     ]
    },
    {
     "name": "stdout",
     "output_type": "stream",
     "text": [
      " 22        [15, 18, 21]  1   5588197  ultralytics.nn.modules.head.Detect           [7, [256, 512, 512]]          \n"
     ]
    },
    {
     "name": "stdout",
     "output_type": "stream",
     "text": [
      "Model summary: 365 layers, 43,635,237 parameters, 43,635,221 gradients, 165.4 GFLOPs\n"
     ]
    },
    {
     "name": "stdout",
     "output_type": "stream",
     "text": [
      "\n"
     ]
    },
    {
     "name": "stdout",
     "output_type": "stream",
     "text": [
      "Transferred 589/595 items from pretrained weights\n"
     ]
    },
    {
     "name": "stdout",
     "output_type": "stream",
     "text": [
      "\u001b[34m\u001b[1mTensorBoard: \u001b[0mStart with 'tensorboard --logdir runs/detect/train', view at http://localhost:6006/\n"
     ]
    },
    {
     "name": "stdout",
     "output_type": "stream",
     "text": [
      "Freezing layer 'model.22.dfl.conv.weight'\n"
     ]
    },
    {
     "name": "stderr",
     "output_type": "stream",
     "text": [
      "\r",
      "\u001b[34m\u001b[1mtrain: \u001b[0mScanning /kaggle/working/YOLOv8_1-1/train/labels...:   0%|          | 0/447 [00:00<?, ?it/s]"
     ]
    },
    {
     "name": "stderr",
     "output_type": "stream",
     "text": [
      "\r",
      "\u001b[34m\u001b[1mtrain: \u001b[0mScanning /kaggle/working/YOLOv8_1-1/train/labels... 114 images, 0 backgrounds, 0 corrupt:  26%|██▌       | 114/447 [00:00<00:00, 1128.78it/s]"
     ]
    },
    {
     "name": "stderr",
     "output_type": "stream",
     "text": [
      "\r",
      "\u001b[34m\u001b[1mtrain: \u001b[0mScanning /kaggle/working/YOLOv8_1-1/train/labels... 229 images, 0 backgrounds, 0 corrupt:  51%|█████     | 229/447 [00:00<00:00, 1139.61it/s]"
     ]
    },
    {
     "name": "stderr",
     "output_type": "stream",
     "text": [
      "\r",
      "\u001b[34m\u001b[1mtrain: \u001b[0mScanning /kaggle/working/YOLOv8_1-1/train/labels... 354 images, 0 backgrounds, 0 corrupt:  79%|███████▉  | 354/447 [00:00<00:00, 1185.27it/s]"
     ]
    },
    {
     "name": "stderr",
     "output_type": "stream",
     "text": [
      "\r",
      "\u001b[34m\u001b[1mtrain: \u001b[0mScanning /kaggle/working/YOLOv8_1-1/train/labels... 447 images, 0 backgrounds, 0 corrupt: 100%|██████████| 447/447 [00:00<00:00, 1186.34it/s]"
     ]
    },
    {
     "name": "stdout",
     "output_type": "stream",
     "text": [
      "\u001b[34m\u001b[1mtrain: \u001b[0mNew cache created: /kaggle/working/YOLOv8_1-1/train/labels.cache\n"
     ]
    },
    {
     "name": "stderr",
     "output_type": "stream",
     "text": [
      "\n"
     ]
    },
    {
     "name": "stdout",
     "output_type": "stream",
     "text": [
      "\u001b[34m\u001b[1malbumentations: \u001b[0mBlur(p=0.01, blur_limit=(3, 7)), MedianBlur(p=0.01, blur_limit=(3, 7)), ToGray(p=0.01), CLAHE(p=0.01, clip_limit=(1, 4.0), tile_grid_size=(8, 8))\n"
     ]
    },
    {
     "name": "stderr",
     "output_type": "stream",
     "text": [
      "\r",
      "\u001b[34m\u001b[1mval: \u001b[0mScanning /kaggle/working/YOLOv8_1-1/valid/labels...:   0%|          | 0/89 [00:00<?, ?it/s]"
     ]
    },
    {
     "name": "stderr",
     "output_type": "stream",
     "text": [
      "\r",
      "\u001b[34m\u001b[1mval: \u001b[0mScanning /kaggle/working/YOLOv8_1-1/valid/labels... 89 images, 0 backgrounds, 0 corrupt: 100%|██████████| 89/89 [00:00<00:00, 1209.50it/s]"
     ]
    },
    {
     "name": "stdout",
     "output_type": "stream",
     "text": [
      "\u001b[34m\u001b[1mval: \u001b[0mNew cache created: /kaggle/working/YOLOv8_1-1/valid/labels.cache\n"
     ]
    },
    {
     "name": "stderr",
     "output_type": "stream",
     "text": [
      "\n"
     ]
    },
    {
     "name": "stdout",
     "output_type": "stream",
     "text": [
      "Plotting labels to runs/detect/train/labels.jpg... \n"
     ]
    },
    {
     "name": "stdout",
     "output_type": "stream",
     "text": [
      "\u001b[34m\u001b[1moptimizer:\u001b[0m 'optimizer=auto' found, ignoring 'lr0=0.01' and 'momentum=0.937' and determining best 'optimizer', 'lr0' and 'momentum' automatically... \n"
     ]
    },
    {
     "name": "stdout",
     "output_type": "stream",
     "text": [
      "\u001b[34m\u001b[1moptimizer:\u001b[0m AdamW(lr=0.000909, momentum=0.9) with parameter groups 97 weight(decay=0.0), 104 weight(decay=0.0005), 103 bias(decay=0.0)\n"
     ]
    },
    {
     "name": "stdout",
     "output_type": "stream",
     "text": [
      "\u001b[34m\u001b[1mTensorBoard: \u001b[0mmodel graph visualization added ✅\n"
     ]
    },
    {
     "name": "stdout",
     "output_type": "stream",
     "text": [
      "Image sizes 640 train, 640 val\n",
      "Using 0 dataloader workers\n",
      "Logging results to \u001b[1mruns/detect/train\u001b[0m\n",
      "Starting training for 100 epochs...\n"
     ]
    },
    {
     "name": "stdout",
     "output_type": "stream",
     "text": [
      "\n",
      "      Epoch    GPU_mem   box_loss   cls_loss   dfl_loss  Instances       Size\n"
     ]
    },
    {
     "name": "stderr",
     "output_type": "stream",
     "text": [
      "\r",
      "  0%|          | 0/28 [00:00<?, ?it/s]"
     ]
    },
    {
     "name": "stderr",
     "output_type": "stream",
     "text": [
      "\r",
      "      1/100         0G      1.837      4.836      1.587        261        640:   0%|          | 0/28 [01:38<?, ?it/s]"
     ]
    },
    {
     "name": "stderr",
     "output_type": "stream",
     "text": [
      "\r",
      "      1/100         0G      1.837      4.836      1.587        261        640:   4%|▎         | 1/28 [01:38<44:30, 98.92s/it]"
     ]
    },
    {
     "name": "stderr",
     "output_type": "stream",
     "text": [
      "\r",
      "      1/100         0G      1.791      4.816      1.668        121        640:   4%|▎         | 1/28 [03:07<44:30, 98.92s/it]"
     ]
    },
    {
     "name": "stderr",
     "output_type": "stream",
     "text": [
      "\r",
      "      1/100         0G      1.791      4.816      1.668        121        640:   7%|▋         | 2/28 [03:07<40:16, 92.95s/it]"
     ]
    },
    {
     "name": "stderr",
     "output_type": "stream",
     "text": [
      "\r",
      "      1/100         0G      1.694      4.698      1.607        115        640:   7%|▋         | 2/28 [04:33<40:16, 92.95s/it]"
     ]
    },
    {
     "name": "stderr",
     "output_type": "stream",
     "text": [
      "\r",
      "      1/100         0G      1.694      4.698      1.607        115        640:  11%|█         | 3/28 [04:33<37:21, 89.65s/it]"
     ]
    },
    {
     "name": "stderr",
     "output_type": "stream",
     "text": [
      "\r",
      "      1/100         0G       1.65      4.622      1.579        159        640:  11%|█         | 3/28 [05:58<37:21, 89.65s/it]"
     ]
    },
    {
     "name": "stderr",
     "output_type": "stream",
     "text": [
      "\r",
      "      1/100         0G       1.65      4.622      1.579        159        640:  14%|█▍        | 4/28 [05:58<35:10, 87.92s/it]"
     ]
    },
    {
     "name": "stderr",
     "output_type": "stream",
     "text": [
      "\r",
      "      1/100         0G      1.588      4.488      1.538        181        640:  14%|█▍        | 4/28 [07:20<35:10, 87.92s/it]"
     ]
    },
    {
     "name": "stderr",
     "output_type": "stream",
     "text": [
      "\r",
      "      1/100         0G      1.588      4.488      1.538        181        640:  18%|█▊        | 5/28 [07:20<32:49, 85.63s/it]"
     ]
    },
    {
     "name": "stderr",
     "output_type": "stream",
     "text": [
      "\r",
      "      1/100         0G      1.577      4.285      1.531        204        640:  18%|█▊        | 5/28 [08:39<32:49, 85.63s/it]"
     ]
    },
    {
     "name": "stderr",
     "output_type": "stream",
     "text": [
      "\r",
      "      1/100         0G      1.577      4.285      1.531        204        640:  21%|██▏       | 6/28 [08:39<30:36, 83.47s/it]"
     ]
    },
    {
     "name": "stderr",
     "output_type": "stream",
     "text": [
      "\r",
      "      1/100         0G      1.574      4.119      1.529        160        640:  21%|██▏       | 6/28 [09:58<30:36, 83.47s/it]"
     ]
    },
    {
     "name": "stderr",
     "output_type": "stream",
     "text": [
      "\r",
      "      1/100         0G      1.574      4.119      1.529        160        640:  25%|██▌       | 7/28 [09:58<28:43, 82.05s/it]"
     ]
    },
    {
     "name": "stderr",
     "output_type": "stream",
     "text": [
      "\r",
      "      1/100         0G      1.538      3.949      1.504        137        640:  25%|██▌       | 7/28 [11:19<28:43, 82.05s/it]"
     ]
    },
    {
     "name": "stderr",
     "output_type": "stream",
     "text": [
      "\r",
      "      1/100         0G      1.538      3.949      1.504        137        640:  29%|██▊       | 8/28 [11:19<27:14, 81.73s/it]"
     ]
    },
    {
     "name": "stderr",
     "output_type": "stream",
     "text": [
      "\r",
      "      1/100         0G      1.539      3.842      1.502        162        640:  29%|██▊       | 8/28 [12:38<27:14, 81.73s/it]"
     ]
    },
    {
     "name": "stderr",
     "output_type": "stream",
     "text": [
      "\r",
      "      1/100         0G      1.539      3.842      1.502        162        640:  32%|███▏      | 9/28 [12:38<25:32, 80.68s/it]"
     ]
    },
    {
     "name": "stderr",
     "output_type": "stream",
     "text": [
      "\r",
      "      1/100         0G      1.526      3.727      1.483        160        640:  32%|███▏      | 9/28 [13:54<25:32, 80.68s/it]"
     ]
    },
    {
     "name": "stderr",
     "output_type": "stream",
     "text": [
      "\r",
      "      1/100         0G      1.526      3.727      1.483        160        640:  36%|███▌      | 10/28 [13:54<23:50, 79.46s/it]"
     ]
    },
    {
     "name": "stderr",
     "output_type": "stream",
     "text": [
      "\r",
      "      1/100         0G      1.518       3.62      1.468        195        640:  36%|███▌      | 10/28 [15:10<23:50, 79.46s/it]"
     ]
    },
    {
     "name": "stderr",
     "output_type": "stream",
     "text": [
      "\r",
      "      1/100         0G      1.518       3.62      1.468        195        640:  39%|███▉      | 11/28 [15:10<22:09, 78.23s/it]"
     ]
    },
    {
     "name": "stderr",
     "output_type": "stream",
     "text": [
      "\r",
      "      1/100         0G      1.527      3.556      1.466        206        640:  39%|███▉      | 11/28 [16:25<22:09, 78.23s/it]"
     ]
    },
    {
     "name": "stderr",
     "output_type": "stream",
     "text": [
      "\r",
      "      1/100         0G      1.527      3.556      1.466        206        640:  43%|████▎     | 12/28 [16:25<20:38, 77.42s/it]"
     ]
    },
    {
     "name": "stderr",
     "output_type": "stream",
     "text": [
      "\r",
      "      1/100         0G       1.53       3.48      1.455        129        640:  43%|████▎     | 12/28 [17:39<20:38, 77.42s/it]"
     ]
    },
    {
     "name": "stderr",
     "output_type": "stream",
     "text": [
      "\r",
      "      1/100         0G       1.53       3.48      1.455        129        640:  46%|████▋     | 13/28 [17:39<19:05, 76.39s/it]"
     ]
    },
    {
     "name": "stderr",
     "output_type": "stream",
     "text": [
      "\r",
      "      1/100         0G      1.521      3.395      1.442        162        640:  46%|████▋     | 13/28 [18:54<19:05, 76.39s/it]"
     ]
    },
    {
     "name": "stderr",
     "output_type": "stream",
     "text": [
      "\r",
      "      1/100         0G      1.521      3.395      1.442        162        640:  50%|█████     | 14/28 [18:54<17:41, 75.84s/it]"
     ]
    },
    {
     "name": "stderr",
     "output_type": "stream",
     "text": [
      "\r",
      "      1/100         0G      1.513      3.309       1.43        175        640:  50%|█████     | 14/28 [20:12<17:41, 75.84s/it]"
     ]
    },
    {
     "name": "stderr",
     "output_type": "stream",
     "text": [
      "\r",
      "      1/100         0G      1.513      3.309       1.43        175        640:  54%|█████▎    | 15/28 [20:12<16:34, 76.48s/it]"
     ]
    },
    {
     "name": "stderr",
     "output_type": "stream",
     "text": [
      "\r",
      "      1/100         0G      1.512      3.244      1.421        158        640:  54%|█████▎    | 15/28 [21:26<16:34, 76.48s/it]"
     ]
    },
    {
     "name": "stderr",
     "output_type": "stream",
     "text": [
      "\r",
      "      1/100         0G      1.512      3.244      1.421        158        640:  57%|█████▋    | 16/28 [21:26<15:10, 75.87s/it]"
     ]
    },
    {
     "name": "stderr",
     "output_type": "stream",
     "text": [
      "\r",
      "      1/100         0G      1.519       3.22      1.428        120        640:  57%|█████▋    | 16/28 [22:40<15:10, 75.87s/it]"
     ]
    },
    {
     "name": "stderr",
     "output_type": "stream",
     "text": [
      "\r",
      "      1/100         0G      1.519       3.22      1.428        120        640:  61%|██████    | 17/28 [22:40<13:48, 75.28s/it]"
     ]
    },
    {
     "name": "stderr",
     "output_type": "stream",
     "text": [
      "\r",
      "      1/100         0G      1.516      3.158      1.424        259        640:  61%|██████    | 17/28 [23:54<13:48, 75.28s/it]"
     ]
    },
    {
     "name": "stderr",
     "output_type": "stream",
     "text": [
      "\r",
      "      1/100         0G      1.516      3.158      1.424        259        640:  64%|██████▍   | 18/28 [23:54<12:27, 74.77s/it]"
     ]
    },
    {
     "name": "stderr",
     "output_type": "stream",
     "text": [
      "\r",
      "      1/100         0G      1.515      3.107      1.424        165        640:  64%|██████▍   | 18/28 [25:09<12:27, 74.77s/it]"
     ]
    },
    {
     "name": "stderr",
     "output_type": "stream",
     "text": [
      "\r",
      "      1/100         0G      1.515      3.107      1.424        165        640:  68%|██████▊   | 19/28 [25:09<11:14, 74.92s/it]"
     ]
    },
    {
     "name": "stderr",
     "output_type": "stream",
     "text": [
      "\r",
      "      1/100         0G      1.515      3.055      1.422        208        640:  68%|██████▊   | 19/28 [26:24<11:14, 74.92s/it]"
     ]
    },
    {
     "name": "stderr",
     "output_type": "stream",
     "text": [
      "\r",
      "      1/100         0G      1.515      3.055      1.422        208        640:  71%|███████▏  | 20/28 [26:24<09:59, 74.89s/it]"
     ]
    },
    {
     "name": "stderr",
     "output_type": "stream",
     "text": [
      "\r",
      "      1/100         0G      1.511       3.01      1.421        152        640:  71%|███████▏  | 20/28 [27:42<09:59, 74.89s/it]"
     ]
    },
    {
     "name": "stderr",
     "output_type": "stream",
     "text": [
      "\r",
      "      1/100         0G      1.511       3.01      1.421        152        640:  75%|███████▌  | 21/28 [27:42<08:51, 75.95s/it]"
     ]
    },
    {
     "name": "stderr",
     "output_type": "stream",
     "text": [
      "\r",
      "      1/100         0G      1.508       2.96      1.414        209        640:  75%|███████▌  | 21/28 [28:57<08:51, 75.95s/it]"
     ]
    },
    {
     "name": "stderr",
     "output_type": "stream",
     "text": [
      "\r",
      "      1/100         0G      1.508       2.96      1.414        209        640:  79%|███████▊  | 22/28 [28:57<07:33, 75.65s/it]"
     ]
    },
    {
     "name": "stderr",
     "output_type": "stream",
     "text": [
      "\r",
      "      1/100         0G       1.51      2.927      1.417        149        640:  79%|███████▊  | 22/28 [30:15<07:33, 75.65s/it]"
     ]
    },
    {
     "name": "stderr",
     "output_type": "stream",
     "text": [
      "\r",
      "      1/100         0G       1.51      2.927      1.417        149        640:  82%|████████▏ | 23/28 [30:15<06:21, 76.39s/it]"
     ]
    },
    {
     "name": "stderr",
     "output_type": "stream",
     "text": [
      "\r",
      "      1/100         0G      1.508      2.893      1.418        140        640:  82%|████████▏ | 23/28 [31:30<06:21, 76.39s/it]"
     ]
    },
    {
     "name": "stderr",
     "output_type": "stream",
     "text": [
      "\r",
      "      1/100         0G      1.508      2.893      1.418        140        640:  86%|████████▌ | 24/28 [31:30<05:03, 75.85s/it]"
     ]
    },
    {
     "name": "stderr",
     "output_type": "stream",
     "text": [
      "\r",
      "      1/100         0G      1.506      2.857      1.419        147        640:  86%|████████▌ | 24/28 [32:51<05:03, 75.85s/it]"
     ]
    },
    {
     "name": "stderr",
     "output_type": "stream",
     "text": [
      "\r",
      "      1/100         0G      1.506      2.857      1.419        147        640:  89%|████████▉ | 25/28 [32:51<03:52, 77.54s/it]"
     ]
    },
    {
     "name": "stderr",
     "output_type": "stream",
     "text": [
      "\r",
      "      1/100         0G      1.507      2.826       1.42        227        640:  89%|████████▉ | 25/28 [34:09<03:52, 77.54s/it]"
     ]
    },
    {
     "name": "stderr",
     "output_type": "stream",
     "text": [
      "\r",
      "      1/100         0G      1.507      2.826       1.42        227        640:  93%|█████████▎| 26/28 [34:09<02:35, 77.63s/it]"
     ]
    },
    {
     "name": "stderr",
     "output_type": "stream",
     "text": [
      "\r",
      "      1/100         0G      1.503      2.796      1.416        235        640:  93%|█████████▎| 26/28 [35:27<02:35, 77.63s/it]"
     ]
    },
    {
     "name": "stderr",
     "output_type": "stream",
     "text": [
      "\r",
      "      1/100         0G      1.503      2.796      1.416        235        640:  96%|█████████▋| 27/28 [35:27<01:17, 77.70s/it]"
     ]
    },
    {
     "name": "stderr",
     "output_type": "stream",
     "text": [
      "\r",
      "      1/100         0G      1.509       2.77      1.421        151        640:  96%|█████████▋| 27/28 [36:38<01:17, 77.70s/it]"
     ]
    },
    {
     "name": "stderr",
     "output_type": "stream",
     "text": [
      "\r",
      "      1/100         0G      1.509       2.77      1.421        151        640: 100%|██████████| 28/28 [36:38<00:00, 75.60s/it]"
     ]
    },
    {
     "name": "stderr",
     "output_type": "stream",
     "text": [
      "\r",
      "      1/100         0G      1.509       2.77      1.421        151        640: 100%|██████████| 28/28 [36:38<00:00, 78.51s/it]"
     ]
    },
    {
     "name": "stderr",
     "output_type": "stream",
     "text": [
      "\n"
     ]
    },
    {
     "name": "stderr",
     "output_type": "stream",
     "text": [
      "\r",
      "                 Class     Images  Instances      Box(P          R      mAP50  mAP50-95):   0%|          | 0/3 [00:00<?, ?it/s]"
     ]
    },
    {
     "name": "stderr",
     "output_type": "stream",
     "text": [
      "\r",
      "                 Class     Images  Instances      Box(P          R      mAP50  mAP50-95):  33%|███▎      | 1/3 [00:56<01:52, 56.02s/it]"
     ]
    },
    {
     "name": "stderr",
     "output_type": "stream",
     "text": [
      "\r",
      "                 Class     Images  Instances      Box(P          R      mAP50  mAP50-95):  67%|██████▋   | 2/3 [01:52<00:56, 56.29s/it]"
     ]
    },
    {
     "name": "stderr",
     "output_type": "stream",
     "text": [
      "\r",
      "                 Class     Images  Instances      Box(P          R      mAP50  mAP50-95): 100%|██████████| 3/3 [02:37<00:00, 51.33s/it]"
     ]
    },
    {
     "name": "stderr",
     "output_type": "stream",
     "text": [
      "\r",
      "                 Class     Images  Instances      Box(P          R      mAP50  mAP50-95): 100%|██████████| 3/3 [02:37<00:00, 52.64s/it]"
     ]
    },
    {
     "name": "stdout",
     "output_type": "stream",
     "text": [
      "                   all         89        672      0.204      0.276      0.162      0.072\n"
     ]
    },
    {
     "name": "stderr",
     "output_type": "stream",
     "text": [
      "\n"
     ]
    },
    {
     "name": "stdout",
     "output_type": "stream",
     "text": [
      "\n",
      "      Epoch    GPU_mem   box_loss   cls_loss   dfl_loss  Instances       Size\n"
     ]
    },
    {
     "name": "stderr",
     "output_type": "stream",
     "text": [
      "\r",
      "  0%|          | 0/28 [00:00<?, ?it/s]"
     ]
    },
    {
     "name": "stderr",
     "output_type": "stream",
     "text": [
      "\r",
      "      2/100         0G      1.644       1.98      1.446        200        640:   0%|          | 0/28 [01:25<?, ?it/s]"
     ]
    },
    {
     "name": "stderr",
     "output_type": "stream",
     "text": [
      "\r",
      "      2/100         0G      1.644       1.98      1.446        200        640:   4%|▎         | 1/28 [01:25<38:17, 85.10s/it]"
     ]
    },
    {
     "name": "stderr",
     "output_type": "stream",
     "text": [
      "\r",
      "      2/100         0G      1.603      2.049       1.47        167        640:   4%|▎         | 1/28 [02:45<38:17, 85.10s/it]"
     ]
    },
    {
     "name": "stderr",
     "output_type": "stream",
     "text": [
      "\r",
      "      2/100         0G      1.603      2.049       1.47        167        640:   7%|▋         | 2/28 [02:45<35:38, 82.24s/it]"
     ]
    },
    {
     "name": "stderr",
     "output_type": "stream",
     "text": [
      "\r",
      "      2/100         0G      1.645       2.19      1.493        112        640:   7%|▋         | 2/28 [04:06<35:38, 82.24s/it]"
     ]
    },
    {
     "name": "stderr",
     "output_type": "stream",
     "text": [
      "\r",
      "      2/100         0G      1.645       2.19      1.493        112        640:  11%|█         | 3/28 [04:06<34:04, 81.77s/it]"
     ]
    },
    {
     "name": "stderr",
     "output_type": "stream",
     "text": [
      "\r",
      "      2/100         0G       1.62      2.296      1.485        139        640:  11%|█         | 3/28 [05:26<34:04, 81.77s/it]"
     ]
    },
    {
     "name": "stderr",
     "output_type": "stream",
     "text": [
      "\r",
      "      2/100         0G       1.62      2.296      1.485        139        640:  14%|█▍        | 4/28 [05:26<32:20, 80.87s/it]"
     ]
    },
    {
     "name": "stderr",
     "output_type": "stream",
     "text": [
      "\r",
      "      2/100         0G       1.62      2.285       1.48        136        640:  14%|█▍        | 4/28 [06:46<32:20, 80.87s/it]"
     ]
    },
    {
     "name": "stderr",
     "output_type": "stream",
     "text": [
      "\r",
      "      2/100         0G       1.62      2.285       1.48        136        640:  18%|█▊        | 5/28 [06:46<31:00, 80.87s/it]"
     ]
    },
    {
     "name": "stderr",
     "output_type": "stream",
     "text": [
      "\r",
      "      2/100         0G      1.609      2.277      1.479        161        640:  18%|█▊        | 5/28 [08:06<31:00, 80.87s/it]"
     ]
    },
    {
     "name": "stderr",
     "output_type": "stream",
     "text": [
      "\r",
      "      2/100         0G      1.609      2.277      1.479        161        640:  21%|██▏       | 6/28 [08:06<29:29, 80.43s/it]"
     ]
    },
    {
     "name": "stderr",
     "output_type": "stream",
     "text": [
      "\r",
      "      2/100         0G      1.621      2.283      1.467        183        640:  21%|██▏       | 6/28 [09:28<29:29, 80.43s/it]"
     ]
    },
    {
     "name": "stderr",
     "output_type": "stream",
     "text": [
      "\r",
      "      2/100         0G      1.621      2.283      1.467        183        640:  25%|██▌       | 7/28 [09:28<28:16, 80.80s/it]"
     ]
    },
    {
     "name": "stderr",
     "output_type": "stream",
     "text": [
      "\r",
      "      2/100         0G      1.595      2.242       1.44        198        640:  25%|██▌       | 7/28 [10:47<28:16, 80.80s/it]"
     ]
    },
    {
     "name": "stderr",
     "output_type": "stream",
     "text": [
      "\r",
      "      2/100         0G      1.595      2.242       1.44        198        640:  29%|██▊       | 8/28 [10:47<26:50, 80.51s/it]"
     ]
    },
    {
     "name": "stderr",
     "output_type": "stream",
     "text": [
      "\r",
      "      2/100         0G      1.592      2.278      1.443        110        640:  29%|██▊       | 8/28 [12:13<26:50, 80.51s/it]"
     ]
    },
    {
     "name": "stderr",
     "output_type": "stream",
     "text": [
      "\r",
      "      2/100         0G      1.592      2.278      1.443        110        640:  32%|███▏      | 9/28 [12:13<25:57, 81.97s/it]"
     ]
    },
    {
     "name": "stderr",
     "output_type": "stream",
     "text": [
      "\r",
      "      2/100         0G      1.578      2.271      1.442        136        640:  32%|███▏      | 9/28 [13:32<25:57, 81.97s/it]"
     ]
    },
    {
     "name": "stderr",
     "output_type": "stream",
     "text": [
      "\r",
      "      2/100         0G      1.578      2.271      1.442        136        640:  36%|███▌      | 10/28 [13:32<24:22, 81.23s/it]"
     ]
    },
    {
     "name": "stderr",
     "output_type": "stream",
     "text": [
      "\r",
      "      2/100         0G      1.583      2.267      1.453        137        640:  36%|███▌      | 10/28 [14:55<24:22, 81.23s/it]"
     ]
    },
    {
     "name": "stderr",
     "output_type": "stream",
     "text": [
      "\r",
      "      2/100         0G      1.583      2.267      1.453        137        640:  39%|███▉      | 11/28 [14:55<23:09, 81.72s/it]"
     ]
    },
    {
     "name": "stderr",
     "output_type": "stream",
     "text": [
      "\r",
      "      2/100         0G      1.588       2.27      1.456        113        640:  39%|███▉      | 11/28 [16:14<23:09, 81.72s/it]"
     ]
    },
    {
     "name": "stderr",
     "output_type": "stream",
     "text": [
      "\r",
      "      2/100         0G      1.588       2.27      1.456        113        640:  43%|████▎     | 12/28 [16:14<21:36, 81.02s/it]"
     ]
    },
    {
     "name": "stderr",
     "output_type": "stream",
     "text": [
      "\r",
      "      2/100         0G      1.581      2.242      1.454        157        640:  43%|████▎     | 12/28 [17:34<21:36, 81.02s/it]"
     ]
    },
    {
     "name": "stderr",
     "output_type": "stream",
     "text": [
      "\r",
      "      2/100         0G      1.581      2.242      1.454        157        640:  46%|████▋     | 13/28 [17:34<20:09, 80.61s/it]"
     ]
    },
    {
     "name": "stderr",
     "output_type": "stream",
     "text": [
      "\r",
      "      2/100         0G      1.583      2.215      1.453        178        640:  46%|████▋     | 13/28 [18:53<20:09, 80.61s/it]"
     ]
    },
    {
     "name": "stderr",
     "output_type": "stream",
     "text": [
      "\r",
      "      2/100         0G      1.583      2.215      1.453        178        640:  50%|█████     | 14/28 [18:53<18:41, 80.13s/it]"
     ]
    },
    {
     "name": "stderr",
     "output_type": "stream",
     "text": [
      "\r",
      "      2/100         0G      1.592      2.207      1.467        141        640:  50%|█████     | 14/28 [20:15<18:41, 80.13s/it]"
     ]
    },
    {
     "name": "stderr",
     "output_type": "stream",
     "text": [
      "\r",
      "      2/100         0G      1.592      2.207      1.467        141        640:  54%|█████▎    | 15/28 [20:15<17:28, 80.66s/it]"
     ]
    },
    {
     "name": "stderr",
     "output_type": "stream",
     "text": [
      "\r",
      "      2/100         0G      1.594      2.211      1.467        125        640:  54%|█████▎    | 15/28 [21:35<17:28, 80.66s/it]"
     ]
    },
    {
     "name": "stderr",
     "output_type": "stream",
     "text": [
      "\r",
      "      2/100         0G      1.594      2.211      1.467        125        640:  57%|█████▋    | 16/28 [21:35<16:04, 80.37s/it]"
     ]
    },
    {
     "name": "stderr",
     "output_type": "stream",
     "text": [
      "\r",
      "      2/100         0G      1.601      2.195      1.473        181        640:  57%|█████▋    | 16/28 [22:57<16:04, 80.37s/it]"
     ]
    },
    {
     "name": "stderr",
     "output_type": "stream",
     "text": [
      "\r",
      "      2/100         0G      1.601      2.195      1.473        181        640:  61%|██████    | 17/28 [22:57<14:49, 80.86s/it]"
     ]
    },
    {
     "name": "stderr",
     "output_type": "stream",
     "text": [
      "\r",
      "      2/100         0G      1.605      2.188      1.478        124        640:  61%|██████    | 17/28 [24:16<14:49, 80.86s/it]"
     ]
    },
    {
     "name": "stderr",
     "output_type": "stream",
     "text": [
      "\r",
      "      2/100         0G      1.605      2.188      1.478        124        640:  64%|██████▍   | 18/28 [24:16<13:23, 80.35s/it]"
     ]
    },
    {
     "name": "stderr",
     "output_type": "stream",
     "text": [
      "\r",
      "      2/100         0G      1.609      2.176      1.483        220        640:  64%|██████▍   | 18/28 [25:37<13:23, 80.35s/it]"
     ]
    },
    {
     "name": "stderr",
     "output_type": "stream",
     "text": [
      "\r",
      "      2/100         0G      1.609      2.176      1.483        220        640:  68%|██████▊   | 19/28 [25:37<12:06, 80.69s/it]"
     ]
    },
    {
     "name": "stderr",
     "output_type": "stream",
     "text": [
      "\r",
      "      2/100         0G      1.606      2.154      1.479        197        640:  68%|██████▊   | 19/28 [26:57<12:06, 80.69s/it]"
     ]
    },
    {
     "name": "stderr",
     "output_type": "stream",
     "text": [
      "\r",
      "      2/100         0G      1.606      2.154      1.479        197        640:  71%|███████▏  | 20/28 [26:57<10:43, 80.44s/it]"
     ]
    },
    {
     "name": "stderr",
     "output_type": "stream",
     "text": [
      "\r",
      "      2/100         0G      1.612      2.151      1.484        151        640:  71%|███████▏  | 20/28 [28:18<10:43, 80.44s/it]"
     ]
    },
    {
     "name": "stderr",
     "output_type": "stream",
     "text": [
      "\r",
      "      2/100         0G      1.612      2.151      1.484        151        640:  75%|███████▌  | 21/28 [28:18<09:23, 80.45s/it]"
     ]
    },
    {
     "name": "stderr",
     "output_type": "stream",
     "text": [
      "\r",
      "      2/100         0G      1.613      2.146      1.486        129        640:  75%|███████▌  | 21/28 [29:37<09:23, 80.45s/it]"
     ]
    },
    {
     "name": "stderr",
     "output_type": "stream",
     "text": [
      "\r",
      "      2/100         0G      1.613      2.146      1.486        129        640:  79%|███████▊  | 22/28 [29:37<08:00, 80.08s/it]"
     ]
    },
    {
     "name": "stderr",
     "output_type": "stream",
     "text": [
      "\r",
      "      2/100         0G      1.613      2.147      1.486        270        640:  79%|███████▊  | 22/28 [30:58<08:00, 80.08s/it]"
     ]
    },
    {
     "name": "stderr",
     "output_type": "stream",
     "text": [
      "\r",
      "      2/100         0G      1.613      2.147      1.486        270        640:  82%|████████▏ | 23/28 [30:58<06:41, 80.39s/it]"
     ]
    },
    {
     "name": "stderr",
     "output_type": "stream",
     "text": [
      "\r",
      "      2/100         0G      1.613      2.137      1.485        202        640:  82%|████████▏ | 23/28 [32:18<06:41, 80.39s/it]"
     ]
    },
    {
     "name": "stderr",
     "output_type": "stream",
     "text": [
      "\r",
      "      2/100         0G      1.613      2.137      1.485        202        640:  86%|████████▌ | 24/28 [32:18<05:21, 80.31s/it]"
     ]
    },
    {
     "name": "stderr",
     "output_type": "stream",
     "text": [
      "\r",
      "      2/100         0G      1.612      2.124      1.483        193        640:  86%|████████▌ | 24/28 [33:38<05:21, 80.31s/it]"
     ]
    },
    {
     "name": "stderr",
     "output_type": "stream",
     "text": [
      "\r",
      "      2/100         0G      1.612      2.124      1.483        193        640:  89%|████████▉ | 25/28 [33:38<04:00, 80.31s/it]"
     ]
    },
    {
     "name": "stderr",
     "output_type": "stream",
     "text": [
      "\r",
      "      2/100         0G      1.611      2.113      1.481        172        640:  89%|████████▉ | 25/28 [34:58<04:00, 80.31s/it]"
     ]
    },
    {
     "name": "stderr",
     "output_type": "stream",
     "text": [
      "\r",
      "      2/100         0G      1.611      2.113      1.481        172        640:  93%|█████████▎| 26/28 [34:58<02:40, 80.14s/it]"
     ]
    },
    {
     "name": "stderr",
     "output_type": "stream",
     "text": [
      "\r",
      "      2/100         0G      1.612      2.107      1.483        225        640:  93%|█████████▎| 26/28 [36:17<02:40, 80.14s/it]"
     ]
    },
    {
     "name": "stderr",
     "output_type": "stream",
     "text": [
      "\r",
      "      2/100         0G      1.612      2.107      1.483        225        640:  96%|█████████▋| 27/28 [36:17<01:19, 79.79s/it]"
     ]
    },
    {
     "name": "stderr",
     "output_type": "stream",
     "text": [
      "\r",
      "      2/100         0G      1.612       2.11      1.488        140        640:  96%|█████████▋| 27/28 [37:30<01:19, 79.79s/it]"
     ]
    },
    {
     "name": "stderr",
     "output_type": "stream",
     "text": [
      "\r",
      "      2/100         0G      1.612       2.11      1.488        140        640: 100%|██████████| 28/28 [37:30<00:00, 77.76s/it]"
     ]
    },
    {
     "name": "stderr",
     "output_type": "stream",
     "text": [
      "\r",
      "      2/100         0G      1.612       2.11      1.488        140        640: 100%|██████████| 28/28 [37:30<00:00, 80.38s/it]"
     ]
    },
    {
     "name": "stderr",
     "output_type": "stream",
     "text": [
      "\n"
     ]
    },
    {
     "name": "stderr",
     "output_type": "stream",
     "text": [
      "\r",
      "                 Class     Images  Instances      Box(P          R      mAP50  mAP50-95):   0%|          | 0/3 [00:00<?, ?it/s]"
     ]
    },
    {
     "name": "stderr",
     "output_type": "stream",
     "text": [
      "\r",
      "                 Class     Images  Instances      Box(P          R      mAP50  mAP50-95):  33%|███▎      | 1/3 [00:53<01:47, 53.75s/it]"
     ]
    },
    {
     "name": "stderr",
     "output_type": "stream",
     "text": [
      "\r",
      "                 Class     Images  Instances      Box(P          R      mAP50  mAP50-95):  67%|██████▋   | 2/3 [01:47<00:53, 53.95s/it]"
     ]
    },
    {
     "name": "stderr",
     "output_type": "stream",
     "text": [
      "\r",
      "                 Class     Images  Instances      Box(P          R      mAP50  mAP50-95): 100%|██████████| 3/3 [02:31<00:00, 49.46s/it]"
     ]
    },
    {
     "name": "stderr",
     "output_type": "stream",
     "text": [
      "\r",
      "                 Class     Images  Instances      Box(P          R      mAP50  mAP50-95): 100%|██████████| 3/3 [02:31<00:00, 50.65s/it]"
     ]
    },
    {
     "name": "stdout",
     "output_type": "stream",
     "text": [
      "                   all         89        672      0.326      0.153     0.0759     0.0353\n"
     ]
    },
    {
     "name": "stderr",
     "output_type": "stream",
     "text": [
      "\n"
     ]
    },
    {
     "name": "stdout",
     "output_type": "stream",
     "text": [
      "\n",
      "      Epoch    GPU_mem   box_loss   cls_loss   dfl_loss  Instances       Size\n"
     ]
    },
    {
     "name": "stderr",
     "output_type": "stream",
     "text": [
      "\r",
      "  0%|          | 0/28 [00:00<?, ?it/s]"
     ]
    },
    {
     "name": "stderr",
     "output_type": "stream",
     "text": [
      "\r",
      "      3/100         0G      1.906      2.575      1.781        108        640:   0%|          | 0/28 [01:21<?, ?it/s]"
     ]
    },
    {
     "name": "stderr",
     "output_type": "stream",
     "text": [
      "\r",
      "      3/100         0G      1.906      2.575      1.781        108        640:   4%|▎         | 1/28 [01:21<36:31, 81.18s/it]"
     ]
    },
    {
     "name": "stderr",
     "output_type": "stream",
     "text": [
      "\r",
      "      3/100         0G       1.75      2.279      1.695        110        640:   4%|▎         | 1/28 [02:39<36:31, 81.18s/it]"
     ]
    },
    {
     "name": "stderr",
     "output_type": "stream",
     "text": [
      "\r",
      "      3/100         0G       1.75      2.279      1.695        110        640:   7%|▋         | 2/28 [02:39<34:24, 79.41s/it]"
     ]
    },
    {
     "name": "stderr",
     "output_type": "stream",
     "text": [
      "\r",
      "      3/100         0G      1.768      2.225      1.641        138        640:   7%|▋         | 2/28 [03:59<34:24, 79.41s/it]"
     ]
    },
    {
     "name": "stderr",
     "output_type": "stream",
     "text": [
      "\r",
      "      3/100         0G      1.768      2.225      1.641        138        640:  11%|█         | 3/28 [03:59<33:13, 79.75s/it]"
     ]
    },
    {
     "name": "stderr",
     "output_type": "stream",
     "text": [
      "\r",
      "      3/100         0G      1.707      2.148      1.565        272        640:  11%|█         | 3/28 [05:20<33:13, 79.75s/it]"
     ]
    },
    {
     "name": "stderr",
     "output_type": "stream",
     "text": [
      "\r",
      "      3/100         0G      1.707      2.148      1.565        272        640:  14%|█▍        | 4/28 [05:20<32:05, 80.21s/it]"
     ]
    },
    {
     "name": "stderr",
     "output_type": "stream",
     "text": [
      "\r",
      "      3/100         0G      1.677      2.121      1.527        183        640:  14%|█▍        | 4/28 [06:39<32:05, 80.21s/it]"
     ]
    },
    {
     "name": "stderr",
     "output_type": "stream",
     "text": [
      "\r",
      "      3/100         0G      1.677      2.121      1.527        183        640:  18%|█▊        | 5/28 [06:39<30:37, 79.87s/it]"
     ]
    },
    {
     "name": "stderr",
     "output_type": "stream",
     "text": [
      "\r",
      "      3/100         0G      1.673        2.1      1.523        204        640:  18%|█▊        | 5/28 [08:00<30:37, 79.87s/it]"
     ]
    },
    {
     "name": "stderr",
     "output_type": "stream",
     "text": [
      "\r",
      "      3/100         0G      1.673        2.1      1.523        204        640:  21%|██▏       | 6/28 [08:00<29:21, 80.06s/it]"
     ]
    },
    {
     "name": "stderr",
     "output_type": "stream",
     "text": [
      "\r",
      "      3/100         0G      1.664      2.078      1.502        250        640:  21%|██▏       | 6/28 [09:21<29:21, 80.06s/it]"
     ]
    },
    {
     "name": "stderr",
     "output_type": "stream",
     "text": [
      "\r",
      "      3/100         0G      1.664      2.078      1.502        250        640:  25%|██▌       | 7/28 [09:21<28:13, 80.62s/it]"
     ]
    },
    {
     "name": "stderr",
     "output_type": "stream",
     "text": [
      "\r",
      "      3/100         0G       1.66      2.143      1.508        107        640:  25%|██▌       | 7/28 [10:40<28:13, 80.62s/it]"
     ]
    },
    {
     "name": "stderr",
     "output_type": "stream",
     "text": [
      "\r",
      "      3/100         0G       1.66      2.143      1.508        107        640:  29%|██▊       | 8/28 [10:40<26:41, 80.08s/it]"
     ]
    },
    {
     "name": "stderr",
     "output_type": "stream",
     "text": [
      "\r",
      "      3/100         0G      1.655      2.144      1.504        193        640:  29%|██▊       | 8/28 [12:02<26:41, 80.08s/it]"
     ]
    },
    {
     "name": "stderr",
     "output_type": "stream",
     "text": [
      "\r",
      "      3/100         0G      1.655      2.144      1.504        193        640:  32%|███▏      | 9/28 [12:02<25:30, 80.57s/it]"
     ]
    },
    {
     "name": "stderr",
     "output_type": "stream",
     "text": [
      "\r",
      "      3/100         0G      1.659      2.114      1.492        333        640:  32%|███▏      | 9/28 [13:23<25:30, 80.57s/it]"
     ]
    },
    {
     "name": "stderr",
     "output_type": "stream",
     "text": [
      "\r",
      "      3/100         0G      1.659      2.114      1.492        333        640:  36%|███▌      | 10/28 [13:23<24:11, 80.65s/it]"
     ]
    },
    {
     "name": "stderr",
     "output_type": "stream",
     "text": [
      "\r",
      "      3/100         0G      1.658      2.102      1.484        264        640:  36%|███▌      | 10/28 [14:42<24:11, 80.65s/it]"
     ]
    },
    {
     "name": "stderr",
     "output_type": "stream",
     "text": [
      "\r",
      "      3/100         0G      1.658      2.102      1.484        264        640:  39%|███▉      | 11/28 [14:42<22:44, 80.28s/it]"
     ]
    },
    {
     "name": "stderr",
     "output_type": "stream",
     "text": [
      "\r",
      "      3/100         0G      1.661      2.117      1.485        172        640:  39%|███▉      | 11/28 [16:04<22:44, 80.28s/it]"
     ]
    },
    {
     "name": "stderr",
     "output_type": "stream",
     "text": [
      "\r",
      "      3/100         0G      1.661      2.117      1.485        172        640:  43%|████▎     | 12/28 [16:04<21:32, 80.79s/it]"
     ]
    },
    {
     "name": "stderr",
     "output_type": "stream",
     "text": [
      "\r",
      "      3/100         0G      1.652       2.15      1.475        265        640:  43%|████▎     | 12/28 [17:26<21:32, 80.79s/it]"
     ]
    },
    {
     "name": "stderr",
     "output_type": "stream",
     "text": [
      "\r",
      "      3/100         0G      1.652       2.15      1.475        265        640:  46%|████▋     | 13/28 [17:26<20:16, 81.09s/it]"
     ]
    },
    {
     "name": "stderr",
     "output_type": "stream",
     "text": [
      "\r",
      "      3/100         0G      1.646      2.148      1.468        164        640:  46%|████▋     | 13/28 [18:45<20:16, 81.09s/it]"
     ]
    },
    {
     "name": "stderr",
     "output_type": "stream",
     "text": [
      "\r",
      "      3/100         0G      1.646      2.148      1.468        164        640:  50%|█████     | 14/28 [18:45<18:46, 80.50s/it]"
     ]
    },
    {
     "name": "stderr",
     "output_type": "stream",
     "text": [
      "\r",
      "      3/100         0G      1.651      2.153       1.47        160        640:  50%|█████     | 14/28 [20:05<18:46, 80.50s/it]"
     ]
    },
    {
     "name": "stderr",
     "output_type": "stream",
     "text": [
      "\r",
      "      3/100         0G      1.651      2.153       1.47        160        640:  54%|█████▎    | 15/28 [20:05<17:23, 80.30s/it]"
     ]
    },
    {
     "name": "stderr",
     "output_type": "stream",
     "text": [
      "\r",
      "      3/100         0G      1.642      2.159      1.474        142        640:  54%|█████▎    | 15/28 [21:25<17:23, 80.30s/it]"
     ]
    },
    {
     "name": "stderr",
     "output_type": "stream",
     "text": [
      "\r",
      "      3/100         0G      1.642      2.159      1.474        142        640:  57%|█████▋    | 16/28 [21:25<16:03, 80.26s/it]"
     ]
    },
    {
     "name": "stderr",
     "output_type": "stream",
     "text": [
      "\r",
      "      3/100         0G      1.634      2.154       1.47        153        640:  57%|█████▋    | 16/28 [22:43<16:03, 80.26s/it]"
     ]
    },
    {
     "name": "stderr",
     "output_type": "stream",
     "text": [
      "\r",
      "      3/100         0G      1.634      2.154       1.47        153        640:  61%|██████    | 17/28 [22:43<14:34, 79.51s/it]"
     ]
    },
    {
     "name": "stderr",
     "output_type": "stream",
     "text": [
      "\r",
      "      3/100         0G      1.636       2.15      1.474        160        640:  61%|██████    | 17/28 [24:04<14:34, 79.51s/it]"
     ]
    },
    {
     "name": "stderr",
     "output_type": "stream",
     "text": [
      "\r",
      "      3/100         0G      1.636       2.15      1.474        160        640:  64%|██████▍   | 18/28 [24:04<13:20, 80.08s/it]"
     ]
    },
    {
     "name": "stderr",
     "output_type": "stream",
     "text": [
      "\r",
      "      3/100         0G      1.637      2.152      1.489        125        640:  64%|██████▍   | 18/28 [25:26<13:20, 80.08s/it]"
     ]
    },
    {
     "name": "stderr",
     "output_type": "stream",
     "text": [
      "\r",
      "      3/100         0G      1.637      2.152      1.489        125        640:  68%|██████▊   | 19/28 [25:26<12:04, 80.52s/it]"
     ]
    },
    {
     "name": "stderr",
     "output_type": "stream",
     "text": [
      "\r",
      "      3/100         0G      1.638      2.146       1.49        175        640:  68%|██████▊   | 19/28 [26:45<12:04, 80.52s/it]"
     ]
    },
    {
     "name": "stderr",
     "output_type": "stream",
     "text": [
      "\r",
      "      3/100         0G      1.638      2.146       1.49        175        640:  71%|███████▏  | 20/28 [26:45<10:40, 80.02s/it]"
     ]
    },
    {
     "name": "stderr",
     "output_type": "stream",
     "text": [
      "\r",
      "      3/100         0G      1.644      2.137      1.489        240        640:  71%|███████▏  | 20/28 [28:08<10:40, 80.02s/it]"
     ]
    },
    {
     "name": "stderr",
     "output_type": "stream",
     "text": [
      "\r",
      "      3/100         0G      1.644      2.137      1.489        240        640:  75%|███████▌  | 21/28 [28:08<09:26, 80.87s/it]"
     ]
    },
    {
     "name": "stderr",
     "output_type": "stream",
     "text": [
      "\r",
      "      3/100         0G      1.648      2.123      1.493        169        640:  75%|███████▌  | 21/28 [29:28<09:26, 80.87s/it]"
     ]
    },
    {
     "name": "stderr",
     "output_type": "stream",
     "text": [
      "\r",
      "      3/100         0G      1.648      2.123      1.493        169        640:  79%|███████▊  | 22/28 [29:28<08:04, 80.81s/it]"
     ]
    },
    {
     "name": "stderr",
     "output_type": "stream",
     "text": [
      "\r",
      "      3/100         0G      1.639      2.099      1.484        248        640:  79%|███████▊  | 22/28 [30:47<08:04, 80.81s/it]"
     ]
    },
    {
     "name": "stderr",
     "output_type": "stream",
     "text": [
      "\r",
      "      3/100         0G      1.639      2.099      1.484        248        640:  82%|████████▏ | 23/28 [30:47<06:41, 80.34s/it]"
     ]
    },
    {
     "name": "stderr",
     "output_type": "stream",
     "text": [
      "\r",
      "      3/100         0G      1.639      2.091      1.485        145        640:  82%|████████▏ | 23/28 [32:10<06:41, 80.34s/it]"
     ]
    },
    {
     "name": "stderr",
     "output_type": "stream",
     "text": [
      "\r",
      "      3/100         0G      1.639      2.091      1.485        145        640:  86%|████████▌ | 24/28 [32:10<05:24, 81.03s/it]"
     ]
    },
    {
     "name": "stderr",
     "output_type": "stream",
     "text": [
      "\r",
      "      3/100         0G       1.64      2.098      1.491         80        640:  86%|████████▌ | 24/28 [33:31<05:24, 81.03s/it]"
     ]
    },
    {
     "name": "stderr",
     "output_type": "stream",
     "text": [
      "\r",
      "      3/100         0G       1.64      2.098      1.491         80        640:  89%|████████▉ | 25/28 [33:31<04:03, 81.10s/it]"
     ]
    },
    {
     "name": "stderr",
     "output_type": "stream",
     "text": [
      "\r",
      "      3/100         0G      1.646      2.091      1.494        171        640:  89%|████████▉ | 25/28 [34:50<04:03, 81.10s/it]"
     ]
    },
    {
     "name": "stderr",
     "output_type": "stream",
     "text": [
      "\r",
      "      3/100         0G      1.646      2.091      1.494        171        640:  93%|█████████▎| 26/28 [34:50<02:40, 80.29s/it]"
     ]
    },
    {
     "name": "stderr",
     "output_type": "stream",
     "text": [
      "\r",
      "      3/100         0G      1.653      2.083      1.497        196        640:  93%|█████████▎| 26/28 [36:10<02:40, 80.29s/it]"
     ]
    },
    {
     "name": "stderr",
     "output_type": "stream",
     "text": [
      "\r",
      "      3/100         0G      1.653      2.083      1.497        196        640:  96%|█████████▋| 27/28 [36:10<01:20, 80.33s/it]"
     ]
    },
    {
     "name": "stderr",
     "output_type": "stream",
     "text": [
      "\r",
      "      3/100         0G      1.655      2.082      1.503        150        640:  96%|█████████▋| 27/28 [37:25<01:20, 80.33s/it]"
     ]
    },
    {
     "name": "stderr",
     "output_type": "stream",
     "text": [
      "\r",
      "      3/100         0G      1.655      2.082      1.503        150        640: 100%|██████████| 28/28 [37:25<00:00, 78.60s/it]"
     ]
    },
    {
     "name": "stderr",
     "output_type": "stream",
     "text": [
      "\r",
      "      3/100         0G      1.655      2.082      1.503        150        640: 100%|██████████| 28/28 [37:25<00:00, 80.19s/it]"
     ]
    },
    {
     "name": "stderr",
     "output_type": "stream",
     "text": [
      "\n"
     ]
    },
    {
     "name": "stderr",
     "output_type": "stream",
     "text": [
      "\r",
      "                 Class     Images  Instances      Box(P          R      mAP50  mAP50-95):   0%|          | 0/3 [00:00<?, ?it/s]"
     ]
    },
    {
     "name": "stdout",
     "output_type": "stream",
     "text": [
      "WARNING ⚠️ NMS time limit 3.600s exceeded\n"
     ]
    },
    {
     "name": "stderr",
     "output_type": "stream",
     "text": [
      "\r",
      "                 Class     Images  Instances      Box(P          R      mAP50  mAP50-95):  33%|███▎      | 1/3 [00:57<01:54, 57.19s/it]"
     ]
    },
    {
     "name": "stderr",
     "output_type": "stream",
     "text": [
      "\r",
      "                 Class     Images  Instances      Box(P          R      mAP50  mAP50-95):  67%|██████▋   | 2/3 [01:54<00:57, 57.18s/it]"
     ]
    },
    {
     "name": "stdout",
     "output_type": "stream",
     "text": [
      "WARNING ⚠️ NMS time limit 3.250s exceeded\n"
     ]
    },
    {
     "name": "stderr",
     "output_type": "stream",
     "text": [
      "\r",
      "                 Class     Images  Instances      Box(P          R      mAP50  mAP50-95): 100%|██████████| 3/3 [02:38<00:00, 51.02s/it]"
     ]
    },
    {
     "name": "stderr",
     "output_type": "stream",
     "text": [
      "\r",
      "                 Class     Images  Instances      Box(P          R      mAP50  mAP50-95): 100%|██████████| 3/3 [02:38<00:00, 52.68s/it]"
     ]
    },
    {
     "name": "stdout",
     "output_type": "stream",
     "text": [
      "                   all         89        672     0.0356      0.138     0.0226     0.0107\n"
     ]
    },
    {
     "name": "stderr",
     "output_type": "stream",
     "text": [
      "\n"
     ]
    },
    {
     "name": "stdout",
     "output_type": "stream",
     "text": [
      "\n",
      "      Epoch    GPU_mem   box_loss   cls_loss   dfl_loss  Instances       Size\n"
     ]
    },
    {
     "name": "stderr",
     "output_type": "stream",
     "text": [
      "\r",
      "  0%|          | 0/28 [00:00<?, ?it/s]"
     ]
    },
    {
     "name": "stderr",
     "output_type": "stream",
     "text": [
      "\r",
      "      4/100         0G      1.536      1.808      1.457        138        640:   0%|          | 0/28 [01:19<?, ?it/s]"
     ]
    },
    {
     "name": "stderr",
     "output_type": "stream",
     "text": [
      "\r",
      "      4/100         0G      1.536      1.808      1.457        138        640:   4%|▎         | 1/28 [01:19<35:46, 79.50s/it]"
     ]
    },
    {
     "name": "stderr",
     "output_type": "stream",
     "text": [
      "\r",
      "      4/100         0G      1.562      1.787      1.464        211        640:   4%|▎         | 1/28 [02:42<35:46, 79.50s/it]"
     ]
    },
    {
     "name": "stderr",
     "output_type": "stream",
     "text": [
      "\r",
      "      4/100         0G      1.562      1.787      1.464        211        640:   7%|▋         | 2/28 [02:42<35:14, 81.33s/it]"
     ]
    },
    {
     "name": "stderr",
     "output_type": "stream",
     "text": [
      "\r",
      "      4/100         0G       1.65      1.882      1.506        169        640:   7%|▋         | 2/28 [04:01<35:14, 81.33s/it]"
     ]
    },
    {
     "name": "stderr",
     "output_type": "stream",
     "text": [
      "\r",
      "      4/100         0G       1.65      1.882      1.506        169        640:  11%|█         | 3/28 [04:01<33:28, 80.33s/it]"
     ]
    },
    {
     "name": "stderr",
     "output_type": "stream",
     "text": [
      "\r",
      "      4/100         0G      1.675      1.964      1.536        137        640:  11%|█         | 3/28 [05:23<33:28, 80.33s/it]"
     ]
    },
    {
     "name": "stderr",
     "output_type": "stream",
     "text": [
      "\r",
      "      4/100         0G      1.675      1.964      1.536        137        640:  14%|█▍        | 4/28 [05:23<32:21, 80.89s/it]"
     ]
    },
    {
     "name": "stderr",
     "output_type": "stream",
     "text": [
      "\r",
      "      4/100         0G      1.657      1.974      1.546        123        640:  14%|█▍        | 4/28 [06:42<32:21, 80.89s/it]"
     ]
    },
    {
     "name": "stderr",
     "output_type": "stream",
     "text": [
      "\r",
      "      4/100         0G      1.657      1.974      1.546        123        640:  18%|█▊        | 5/28 [06:42<30:52, 80.53s/it]"
     ]
    },
    {
     "name": "stderr",
     "output_type": "stream",
     "text": [
      "\r",
      "      4/100         0G      1.665      1.933      1.537        294        640:  18%|█▊        | 5/28 [08:06<30:52, 80.53s/it]"
     ]
    },
    {
     "name": "stderr",
     "output_type": "stream",
     "text": [
      "\r",
      "      4/100         0G      1.665      1.933      1.537        294        640:  21%|██▏       | 6/28 [08:06<29:51, 81.43s/it]"
     ]
    },
    {
     "name": "stderr",
     "output_type": "stream",
     "text": [
      "\r",
      "      4/100         0G       1.65      1.922      1.521        219        640:  21%|██▏       | 6/28 [09:27<29:51, 81.43s/it]"
     ]
    },
    {
     "name": "stderr",
     "output_type": "stream",
     "text": [
      "\r",
      "      4/100         0G       1.65      1.922      1.521        219        640:  25%|██▌       | 7/28 [09:27<28:27, 81.29s/it]"
     ]
    },
    {
     "name": "stderr",
     "output_type": "stream",
     "text": [
      "\r",
      "      4/100         0G      1.674      1.949      1.537        173        640:  25%|██▌       | 7/28 [10:49<28:27, 81.29s/it]"
     ]
    },
    {
     "name": "stderr",
     "output_type": "stream",
     "text": [
      "\r",
      "      4/100         0G      1.674      1.949      1.537        173        640:  29%|██▊       | 8/28 [10:49<27:14, 81.71s/it]"
     ]
    },
    {
     "name": "stderr",
     "output_type": "stream",
     "text": [
      "\r",
      "      4/100         0G      1.686       1.96      1.536        198        640:  29%|██▊       | 8/28 [12:09<27:14, 81.71s/it]"
     ]
    },
    {
     "name": "stderr",
     "output_type": "stream",
     "text": [
      "\r",
      "      4/100         0G      1.686       1.96      1.536        198        640:  32%|███▏      | 9/28 [12:09<25:40, 81.07s/it]"
     ]
    },
    {
     "name": "stderr",
     "output_type": "stream",
     "text": [
      "\r",
      "      4/100         0G      1.697      1.953      1.538        238        640:  32%|███▏      | 9/28 [13:30<25:40, 81.07s/it]"
     ]
    },
    {
     "name": "stderr",
     "output_type": "stream",
     "text": [
      "\r",
      "      4/100         0G      1.697      1.953      1.538        238        640:  36%|███▌      | 10/28 [13:30<24:21, 81.19s/it]"
     ]
    },
    {
     "name": "stderr",
     "output_type": "stream",
     "text": [
      "\r",
      "      4/100         0G       1.68      1.949      1.533        168        640:  36%|███▌      | 10/28 [14:51<24:21, 81.19s/it]"
     ]
    },
    {
     "name": "stderr",
     "output_type": "stream",
     "text": [
      "\r",
      "      4/100         0G       1.68      1.949      1.533        168        640:  39%|███▉      | 11/28 [14:51<22:55, 80.92s/it]"
     ]
    },
    {
     "name": "stderr",
     "output_type": "stream",
     "text": [
      "\r",
      "      4/100         0G      1.687      1.958      1.533        199        640:  39%|███▉      | 11/28 [16:12<22:55, 80.92s/it]"
     ]
    },
    {
     "name": "stderr",
     "output_type": "stream",
     "text": [
      "\r",
      "      4/100         0G      1.687      1.958      1.533        199        640:  43%|████▎     | 12/28 [16:12<21:36, 81.04s/it]"
     ]
    },
    {
     "name": "stderr",
     "output_type": "stream",
     "text": [
      "\r",
      "      4/100         0G      1.679      1.948      1.521        215        640:  43%|████▎     | 12/28 [17:31<21:36, 81.04s/it]"
     ]
    },
    {
     "name": "stderr",
     "output_type": "stream",
     "text": [
      "\r",
      "      4/100         0G      1.679      1.948      1.521        215        640:  46%|████▋     | 13/28 [17:31<20:06, 80.46s/it]"
     ]
    },
    {
     "name": "stderr",
     "output_type": "stream",
     "text": [
      "\r",
      "      4/100         0G      1.684      1.969      1.528        143        640:  46%|████▋     | 13/28 [18:52<20:06, 80.46s/it]"
     ]
    },
    {
     "name": "stderr",
     "output_type": "stream",
     "text": [
      "\r",
      "      4/100         0G      1.684      1.969      1.528        143        640:  50%|█████     | 14/28 [18:52<18:48, 80.63s/it]"
     ]
    },
    {
     "name": "stderr",
     "output_type": "stream",
     "text": [
      "\r",
      "      4/100         0G      1.679      1.963      1.519        278        640:  50%|█████     | 14/28 [20:19<18:48, 80.63s/it]"
     ]
    },
    {
     "name": "stderr",
     "output_type": "stream",
     "text": [
      "\r",
      "      4/100         0G      1.679      1.963      1.519        278        640:  54%|█████▎    | 15/28 [20:19<17:51, 82.45s/it]"
     ]
    },
    {
     "name": "stderr",
     "output_type": "stream",
     "text": [
      "\r",
      "      4/100         0G      1.684      1.988       1.53        111        640:  54%|█████▎    | 15/28 [21:41<17:51, 82.45s/it]"
     ]
    },
    {
     "name": "stderr",
     "output_type": "stream",
     "text": [
      "\r",
      "      4/100         0G      1.684      1.988       1.53        111        640:  57%|█████▋    | 16/28 [21:41<16:28, 82.34s/it]"
     ]
    },
    {
     "name": "stderr",
     "output_type": "stream",
     "text": [
      "\r",
      "      4/100         0G      1.684      1.979       1.53        162        640:  57%|█████▋    | 16/28 [23:01<16:28, 82.34s/it]"
     ]
    },
    {
     "name": "stderr",
     "output_type": "stream",
     "text": [
      "\r",
      "      4/100         0G      1.684      1.979       1.53        162        640:  61%|██████    | 17/28 [23:01<14:57, 81.62s/it]"
     ]
    },
    {
     "name": "stderr",
     "output_type": "stream",
     "text": [
      "\r",
      "      4/100         0G      1.682      1.974      1.529        187        640:  61%|██████    | 17/28 [24:24<14:57, 81.62s/it]"
     ]
    },
    {
     "name": "stderr",
     "output_type": "stream",
     "text": [
      "\r",
      "      4/100         0G      1.682      1.974      1.529        187        640:  64%|██████▍   | 18/28 [24:24<13:39, 81.97s/it]"
     ]
    },
    {
     "name": "stderr",
     "output_type": "stream",
     "text": [
      "\r",
      "      4/100         0G      1.675      1.968      1.527        148        640:  64%|██████▍   | 18/28 [25:45<13:39, 81.97s/it]"
     ]
    },
    {
     "name": "stderr",
     "output_type": "stream",
     "text": [
      "\r",
      "      4/100         0G      1.675      1.968      1.527        148        640:  68%|██████▊   | 19/28 [25:45<12:15, 81.72s/it]"
     ]
    },
    {
     "name": "stderr",
     "output_type": "stream",
     "text": [
      "\r",
      "      4/100         0G      1.679      1.979      1.537        110        640:  68%|██████▊   | 19/28 [27:05<12:15, 81.72s/it]"
     ]
    },
    {
     "name": "stderr",
     "output_type": "stream",
     "text": [
      "\r",
      "      4/100         0G      1.679      1.979      1.537        110        640:  71%|███████▏  | 20/28 [27:05<10:51, 81.40s/it]"
     ]
    },
    {
     "name": "stderr",
     "output_type": "stream",
     "text": [
      "\r",
      "      4/100         0G      1.679       1.98      1.537        127        640:  71%|███████▏  | 20/28 [28:24<10:51, 81.40s/it]"
     ]
    },
    {
     "name": "stderr",
     "output_type": "stream",
     "text": [
      "\r",
      "      4/100         0G      1.679       1.98      1.537        127        640:  75%|███████▌  | 21/28 [28:24<09:24, 80.70s/it]"
     ]
    },
    {
     "name": "stderr",
     "output_type": "stream",
     "text": [
      "\r",
      "      4/100         0G      1.678       1.99       1.54        140        640:  75%|███████▌  | 21/28 [29:45<09:24, 80.70s/it]"
     ]
    },
    {
     "name": "stderr",
     "output_type": "stream",
     "text": [
      "\r",
      "      4/100         0G      1.678       1.99       1.54        140        640:  79%|███████▊  | 22/28 [29:45<08:04, 80.73s/it]"
     ]
    },
    {
     "name": "stderr",
     "output_type": "stream",
     "text": [
      "\r",
      "      4/100         0G      1.684      1.995      1.544        122        640:  79%|███████▊  | 22/28 [31:08<08:04, 80.73s/it]"
     ]
    },
    {
     "name": "stderr",
     "output_type": "stream",
     "text": [
      "\r",
      "      4/100         0G      1.684      1.995      1.544        122        640:  82%|████████▏ | 23/28 [31:08<06:45, 81.20s/it]"
     ]
    },
    {
     "name": "stderr",
     "output_type": "stream",
     "text": [
      "\r",
      "      4/100         0G      1.685      1.997      1.548        210        640:  82%|████████▏ | 23/28 [32:30<06:45, 81.20s/it]"
     ]
    },
    {
     "name": "stderr",
     "output_type": "stream",
     "text": [
      "\r",
      "      4/100         0G      1.685      1.997      1.548        210        640:  86%|████████▌ | 24/28 [32:30<05:26, 81.59s/it]"
     ]
    },
    {
     "name": "stderr",
     "output_type": "stream",
     "text": [
      "\r",
      "      4/100         0G      1.685      1.993      1.551        159        640:  86%|████████▌ | 24/28 [33:50<05:26, 81.59s/it]"
     ]
    },
    {
     "name": "stderr",
     "output_type": "stream",
     "text": [
      "\r",
      "      4/100         0G      1.685      1.993      1.551        159        640:  89%|████████▉ | 25/28 [33:50<04:03, 81.01s/it]"
     ]
    },
    {
     "name": "stderr",
     "output_type": "stream",
     "text": [
      "\r",
      "      4/100         0G      1.688      1.998      1.558        108        640:  89%|████████▉ | 25/28 [35:11<04:03, 81.01s/it]"
     ]
    },
    {
     "name": "stderr",
     "output_type": "stream",
     "text": [
      "\r",
      "      4/100         0G      1.688      1.998      1.558        108        640:  93%|█████████▎| 26/28 [35:11<02:42, 81.19s/it]"
     ]
    },
    {
     "name": "stderr",
     "output_type": "stream",
     "text": [
      "\r",
      "      4/100         0G      1.682      1.992      1.558        173        640:  93%|█████████▎| 26/28 [36:34<02:42, 81.19s/it]"
     ]
    },
    {
     "name": "stderr",
     "output_type": "stream",
     "text": [
      "\r",
      "      4/100         0G      1.682      1.992      1.558        173        640:  96%|█████████▋| 27/28 [36:34<01:21, 81.63s/it]"
     ]
    },
    {
     "name": "stderr",
     "output_type": "stream",
     "text": [
      "\r",
      "      4/100         0G      1.679      1.988      1.556        161        640:  96%|█████████▋| 27/28 [37:48<01:21, 81.63s/it]"
     ]
    },
    {
     "name": "stderr",
     "output_type": "stream",
     "text": [
      "\r",
      "      4/100         0G      1.679      1.988      1.556        161        640: 100%|██████████| 28/28 [37:48<00:00, 79.40s/it]"
     ]
    },
    {
     "name": "stderr",
     "output_type": "stream",
     "text": [
      "\r",
      "      4/100         0G      1.679      1.988      1.556        161        640: 100%|██████████| 28/28 [37:48<00:00, 81.02s/it]"
     ]
    },
    {
     "name": "stderr",
     "output_type": "stream",
     "text": [
      "\n"
     ]
    },
    {
     "name": "stderr",
     "output_type": "stream",
     "text": [
      "\r",
      "                 Class     Images  Instances      Box(P          R      mAP50  mAP50-95):   0%|          | 0/3 [00:00<?, ?it/s]"
     ]
    },
    {
     "name": "stderr",
     "output_type": "stream",
     "text": [
      "\r",
      "                 Class     Images  Instances      Box(P          R      mAP50  mAP50-95):  33%|███▎      | 1/3 [00:56<01:52, 56.10s/it]"
     ]
    },
    {
     "name": "stdout",
     "output_type": "stream",
     "text": [
      "WARNING ⚠️ NMS time limit 3.600s exceeded\n"
     ]
    },
    {
     "name": "stderr",
     "output_type": "stream",
     "text": [
      "\r",
      "                 Class     Images  Instances      Box(P          R      mAP50  mAP50-95):  67%|██████▋   | 2/3 [01:52<00:56, 56.06s/it]"
     ]
    },
    {
     "name": "stderr",
     "output_type": "stream",
     "text": [
      "\r",
      "                 Class     Images  Instances      Box(P          R      mAP50  mAP50-95): 100%|██████████| 3/3 [02:34<00:00, 50.00s/it]"
     ]
    },
    {
     "name": "stderr",
     "output_type": "stream",
     "text": [
      "\r",
      "                 Class     Images  Instances      Box(P          R      mAP50  mAP50-95): 100%|██████████| 3/3 [02:34<00:00, 51.64s/it]"
     ]
    },
    {
     "name": "stdout",
     "output_type": "stream",
     "text": [
      "                   all         89        672     0.0189      0.135     0.0199    0.00902\n"
     ]
    },
    {
     "name": "stderr",
     "output_type": "stream",
     "text": [
      "\n"
     ]
    },
    {
     "name": "stdout",
     "output_type": "stream",
     "text": [
      "\n",
      "      Epoch    GPU_mem   box_loss   cls_loss   dfl_loss  Instances       Size\n"
     ]
    },
    {
     "name": "stderr",
     "output_type": "stream",
     "text": [
      "\r",
      "  0%|          | 0/28 [00:00<?, ?it/s]"
     ]
    },
    {
     "name": "stderr",
     "output_type": "stream",
     "text": [
      "\r",
      "      5/100         0G      1.693      1.878      1.656        179        640:   0%|          | 0/28 [01:19<?, ?it/s]"
     ]
    },
    {
     "name": "stderr",
     "output_type": "stream",
     "text": [
      "\r",
      "      5/100         0G      1.693      1.878      1.656        179        640:   4%|▎         | 1/28 [01:19<35:59, 79.97s/it]"
     ]
    },
    {
     "name": "stderr",
     "output_type": "stream",
     "text": [
      "\r",
      "      5/100         0G      1.667      1.837      1.642        203        640:   4%|▎         | 1/28 [02:40<35:59, 79.97s/it]"
     ]
    },
    {
     "name": "stderr",
     "output_type": "stream",
     "text": [
      "\r",
      "      5/100         0G      1.667      1.837      1.642        203        640:   7%|▋         | 2/28 [02:40<34:49, 80.35s/it]"
     ]
    },
    {
     "name": "stderr",
     "output_type": "stream",
     "text": [
      "\r",
      "      5/100         0G      1.643      1.867      1.621        126        640:   7%|▋         | 2/28 [03:59<34:49, 80.35s/it]"
     ]
    },
    {
     "name": "stderr",
     "output_type": "stream",
     "text": [
      "\r",
      "      5/100         0G      1.643      1.867      1.621        126        640:  11%|█         | 3/28 [03:59<33:18, 79.92s/it]"
     ]
    },
    {
     "name": "stderr",
     "output_type": "stream",
     "text": [
      "\r",
      "      5/100         0G       1.63       1.92      1.575        193        640:  11%|█         | 3/28 [05:30<33:18, 79.92s/it]"
     ]
    },
    {
     "name": "stderr",
     "output_type": "stream",
     "text": [
      "\r",
      "      5/100         0G       1.63       1.92      1.575        193        640:  14%|█▍        | 4/28 [05:30<33:36, 84.02s/it]"
     ]
    },
    {
     "name": "stderr",
     "output_type": "stream",
     "text": [
      "\r",
      "      5/100         0G      1.645      1.944       1.57        162        640:  14%|█▍        | 4/28 [06:49<33:36, 84.02s/it]"
     ]
    },
    {
     "name": "stderr",
     "output_type": "stream",
     "text": [
      "\r",
      "      5/100         0G      1.645      1.944       1.57        162        640:  18%|█▊        | 5/28 [06:49<31:32, 82.28s/it]"
     ]
    },
    {
     "name": "stderr",
     "output_type": "stream",
     "text": [
      "\r",
      "      5/100         0G      1.649      1.956      1.566        167        640:  18%|█▊        | 5/28 [08:10<31:32, 82.28s/it]"
     ]
    },
    {
     "name": "stderr",
     "output_type": "stream",
     "text": [
      "\r",
      "      5/100         0G      1.649      1.956      1.566        167        640:  21%|██▏       | 6/28 [08:10<29:59, 81.82s/it]"
     ]
    },
    {
     "name": "stderr",
     "output_type": "stream",
     "text": [
      "\r",
      "      5/100         0G      1.649      1.904      1.565        180        640:  21%|██▏       | 6/28 [09:31<29:59, 81.82s/it]"
     ]
    },
    {
     "name": "stderr",
     "output_type": "stream",
     "text": [
      "\r",
      "      5/100         0G      1.649      1.904      1.565        180        640:  25%|██▌       | 7/28 [09:31<28:34, 81.64s/it]"
     ]
    },
    {
     "name": "stderr",
     "output_type": "stream",
     "text": [
      "\r",
      "      5/100         0G      1.658      1.887      1.547        314        640:  25%|██▌       | 7/28 [10:52<28:34, 81.64s/it]"
     ]
    },
    {
     "name": "stderr",
     "output_type": "stream",
     "text": [
      "\r",
      "      5/100         0G      1.658      1.887      1.547        314        640:  29%|██▊       | 8/28 [10:52<27:09, 81.48s/it]"
     ]
    },
    {
     "name": "stderr",
     "output_type": "stream",
     "text": [
      "\r",
      "      5/100         0G      1.644      1.955      1.552        108        640:  29%|██▊       | 8/28 [12:21<27:09, 81.48s/it]"
     ]
    },
    {
     "name": "stderr",
     "output_type": "stream",
     "text": [
      "\r",
      "      5/100         0G      1.644      1.955      1.552        108        640:  32%|███▏      | 9/28 [12:21<26:33, 83.87s/it]"
     ]
    },
    {
     "name": "stderr",
     "output_type": "stream",
     "text": [
      "\r",
      "      5/100         0G      1.645      1.961      1.554        150        640:  32%|███▏      | 9/28 [13:43<26:33, 83.87s/it]"
     ]
    },
    {
     "name": "stderr",
     "output_type": "stream",
     "text": [
      "\r",
      "      5/100         0G      1.645      1.961      1.554        150        640:  36%|███▌      | 10/28 [13:43<24:59, 83.28s/it]"
     ]
    },
    {
     "name": "stderr",
     "output_type": "stream",
     "text": [
      "\r",
      "      5/100         0G       1.65      1.932      1.551        218        640:  36%|███▌      | 10/28 [15:05<24:59, 83.28s/it]"
     ]
    },
    {
     "name": "stderr",
     "output_type": "stream",
     "text": [
      "\r",
      "      5/100         0G       1.65      1.932      1.551        218        640:  39%|███▉      | 11/28 [15:05<23:25, 82.65s/it]"
     ]
    },
    {
     "name": "stderr",
     "output_type": "stream",
     "text": [
      "\r",
      "      5/100         0G      1.644      1.901      1.542        269        640:  39%|███▉      | 11/28 [16:27<23:25, 82.65s/it]"
     ]
    },
    {
     "name": "stderr",
     "output_type": "stream",
     "text": [
      "\r",
      "      5/100         0G      1.644      1.901      1.542        269        640:  43%|████▎     | 12/28 [16:27<22:02, 82.67s/it]"
     ]
    },
    {
     "name": "stderr",
     "output_type": "stream",
     "text": [
      "\r",
      "      5/100         0G      1.632      1.879      1.532        210        640:  43%|████▎     | 12/28 [17:46<22:02, 82.67s/it]"
     ]
    },
    {
     "name": "stderr",
     "output_type": "stream",
     "text": [
      "\r",
      "      5/100         0G      1.632      1.879      1.532        210        640:  46%|████▋     | 13/28 [17:46<20:22, 81.48s/it]"
     ]
    },
    {
     "name": "stderr",
     "output_type": "stream",
     "text": [
      "\r",
      "      5/100         0G      1.634      1.875      1.521        192        640:  46%|████▋     | 13/28 [19:07<20:22, 81.48s/it]"
     ]
    },
    {
     "name": "stderr",
     "output_type": "stream",
     "text": [
      "\r",
      "      5/100         0G      1.634      1.875      1.521        192        640:  50%|█████     | 14/28 [19:07<18:58, 81.34s/it]"
     ]
    },
    {
     "name": "stderr",
     "output_type": "stream",
     "text": [
      "\r",
      "      5/100         0G      1.646      1.886       1.53        159        640:  50%|█████     | 14/28 [20:28<18:58, 81.34s/it]"
     ]
    },
    {
     "name": "stderr",
     "output_type": "stream",
     "text": [
      "\r",
      "      5/100         0G      1.646      1.886       1.53        159        640:  54%|█████▎    | 15/28 [20:28<17:35, 81.18s/it]"
     ]
    },
    {
     "name": "stderr",
     "output_type": "stream",
     "text": [
      "\r",
      "      5/100         0G      1.654      1.919      1.539        107        640:  54%|█████▎    | 15/28 [21:49<17:35, 81.18s/it]"
     ]
    },
    {
     "name": "stderr",
     "output_type": "stream",
     "text": [
      "\r",
      "      5/100         0G      1.654      1.919      1.539        107        640:  57%|█████▋    | 16/28 [21:49<16:14, 81.19s/it]"
     ]
    },
    {
     "name": "stderr",
     "output_type": "stream",
     "text": [
      "\r",
      "      5/100         0G      1.654      1.932      1.546        117        640:  57%|█████▋    | 16/28 [23:16<16:14, 81.19s/it]"
     ]
    },
    {
     "name": "stderr",
     "output_type": "stream",
     "text": [
      "\r",
      "      5/100         0G      1.654      1.932      1.546        117        640:  61%|██████    | 17/28 [23:16<15:11, 82.89s/it]"
     ]
    },
    {
     "name": "stderr",
     "output_type": "stream",
     "text": [
      "\r",
      "      5/100         0G      1.657      1.941      1.553        135        640:  61%|██████    | 17/28 [24:39<15:11, 82.89s/it]"
     ]
    },
    {
     "name": "stderr",
     "output_type": "stream",
     "text": [
      "\r",
      "      5/100         0G      1.657      1.941      1.553        135        640:  64%|██████▍   | 18/28 [24:39<13:47, 82.79s/it]"
     ]
    },
    {
     "name": "stderr",
     "output_type": "stream",
     "text": [
      "\r",
      "      5/100         0G      1.667      1.952      1.557        146        640:  64%|██████▍   | 18/28 [26:00<13:47, 82.79s/it]"
     ]
    },
    {
     "name": "stderr",
     "output_type": "stream",
     "text": [
      "\r",
      "      5/100         0G      1.667      1.952      1.557        146        640:  68%|██████▊   | 19/28 [26:00<12:20, 82.27s/it]"
     ]
    },
    {
     "name": "stderr",
     "output_type": "stream",
     "text": [
      "\r",
      "      5/100         0G      1.671      1.949      1.558        129        640:  68%|██████▊   | 19/28 [27:21<12:20, 82.27s/it]"
     ]
    },
    {
     "name": "stderr",
     "output_type": "stream",
     "text": [
      "\r",
      "      5/100         0G      1.671      1.949      1.558        129        640:  71%|███████▏  | 20/28 [27:21<10:57, 82.13s/it]"
     ]
    },
    {
     "name": "stderr",
     "output_type": "stream",
     "text": [
      "\r",
      "      5/100         0G      1.672      1.947      1.554        219        640:  71%|███████▏  | 20/28 [28:41<10:57, 82.13s/it]"
     ]
    },
    {
     "name": "stderr",
     "output_type": "stream",
     "text": [
      "\r",
      "      5/100         0G      1.672      1.947      1.554        219        640:  75%|███████▌  | 21/28 [28:41<09:28, 81.25s/it]"
     ]
    },
    {
     "name": "stderr",
     "output_type": "stream",
     "text": [
      "\r",
      "      5/100         0G      1.671      1.941      1.549        227        640:  75%|███████▌  | 21/28 [30:02<09:28, 81.25s/it]"
     ]
    },
    {
     "name": "stderr",
     "output_type": "stream",
     "text": [
      "\r",
      "      5/100         0G      1.671      1.941      1.549        227        640:  79%|███████▊  | 22/28 [30:02<08:07, 81.19s/it]"
     ]
    },
    {
     "name": "stderr",
     "output_type": "stream",
     "text": [
      "\r",
      "      5/100         0G       1.67      1.933      1.547        228        640:  79%|███████▊  | 22/28 [31:22<08:07, 81.19s/it]"
     ]
    },
    {
     "name": "stderr",
     "output_type": "stream",
     "text": [
      "\r",
      "      5/100         0G       1.67      1.933      1.547        228        640:  82%|████████▏ | 23/28 [31:22<06:44, 80.83s/it]"
     ]
    },
    {
     "name": "stderr",
     "output_type": "stream",
     "text": [
      "\r",
      "      5/100         0G      1.668       1.93      1.551        115        640:  82%|████████▏ | 23/28 [32:41<06:44, 80.83s/it]"
     ]
    },
    {
     "name": "stderr",
     "output_type": "stream",
     "text": [
      "\r",
      "      5/100         0G      1.668       1.93      1.551        115        640:  86%|████████▌ | 24/28 [32:41<05:22, 80.54s/it]"
     ]
    },
    {
     "name": "stderr",
     "output_type": "stream",
     "text": [
      "\r",
      "      5/100         0G      1.662       1.94      1.551         93        640:  86%|████████▌ | 24/28 [34:07<05:22, 80.54s/it]"
     ]
    },
    {
     "name": "stderr",
     "output_type": "stream",
     "text": [
      "\r",
      "      5/100         0G      1.662       1.94      1.551         93        640:  89%|████████▉ | 25/28 [34:07<04:05, 81.92s/it]"
     ]
    },
    {
     "name": "stderr",
     "output_type": "stream",
     "text": [
      "\r",
      "      5/100         0G      1.664      1.944      1.554        157        640:  89%|████████▉ | 25/28 [35:29<04:05, 81.92s/it]"
     ]
    },
    {
     "name": "stderr",
     "output_type": "stream",
     "text": [
      "\r",
      "      5/100         0G      1.664      1.944      1.554        157        640:  93%|█████████▎| 26/28 [35:29<02:44, 82.07s/it]"
     ]
    },
    {
     "name": "stderr",
     "output_type": "stream",
     "text": [
      "\r",
      "      5/100         0G      1.666      1.945      1.555        180        640:  93%|█████████▎| 26/28 [36:49<02:44, 82.07s/it]"
     ]
    },
    {
     "name": "stderr",
     "output_type": "stream",
     "text": [
      "\r",
      "      5/100         0G      1.666      1.945      1.555        180        640:  96%|█████████▋| 27/28 [36:49<01:21, 81.50s/it]"
     ]
    },
    {
     "name": "stderr",
     "output_type": "stream",
     "text": [
      "\r",
      "      5/100         0G      1.668      1.941      1.558        199        640:  96%|█████████▋| 27/28 [38:04<01:21, 81.50s/it]"
     ]
    },
    {
     "name": "stderr",
     "output_type": "stream",
     "text": [
      "\r",
      "      5/100         0G      1.668      1.941      1.558        199        640: 100%|██████████| 28/28 [38:04<00:00, 79.60s/it]"
     ]
    },
    {
     "name": "stderr",
     "output_type": "stream",
     "text": [
      "\r",
      "      5/100         0G      1.668      1.941      1.558        199        640: 100%|██████████| 28/28 [38:04<00:00, 81.60s/it]"
     ]
    },
    {
     "name": "stderr",
     "output_type": "stream",
     "text": [
      "\n"
     ]
    },
    {
     "name": "stderr",
     "output_type": "stream",
     "text": [
      "\r",
      "                 Class     Images  Instances      Box(P          R      mAP50  mAP50-95):   0%|          | 0/3 [00:00<?, ?it/s]"
     ]
    },
    {
     "name": "stderr",
     "output_type": "stream",
     "text": [
      "\r",
      "                 Class     Images  Instances      Box(P          R      mAP50  mAP50-95):  33%|███▎      | 1/3 [00:53<01:47, 53.73s/it]"
     ]
    },
    {
     "name": "stderr",
     "output_type": "stream",
     "text": [
      "\r",
      "                 Class     Images  Instances      Box(P          R      mAP50  mAP50-95):  67%|██████▋   | 2/3 [01:48<00:54, 54.26s/it]"
     ]
    },
    {
     "name": "stderr",
     "output_type": "stream",
     "text": [
      "\r",
      "                 Class     Images  Instances      Box(P          R      mAP50  mAP50-95): 100%|██████████| 3/3 [02:30<00:00, 48.50s/it]"
     ]
    },
    {
     "name": "stderr",
     "output_type": "stream",
     "text": [
      "\r",
      "                 Class     Images  Instances      Box(P          R      mAP50  mAP50-95): 100%|██████████| 3/3 [02:30<00:00, 50.01s/it]"
     ]
    },
    {
     "name": "stdout",
     "output_type": "stream",
     "text": [
      "                   all         89        672      0.126       0.31      0.093     0.0401\n"
     ]
    },
    {
     "name": "stderr",
     "output_type": "stream",
     "text": [
      "\n"
     ]
    },
    {
     "name": "stdout",
     "output_type": "stream",
     "text": [
      "\n",
      "      Epoch    GPU_mem   box_loss   cls_loss   dfl_loss  Instances       Size\n"
     ]
    },
    {
     "name": "stderr",
     "output_type": "stream",
     "text": [
      "\r",
      "  0%|          | 0/28 [00:00<?, ?it/s]"
     ]
    },
    {
     "name": "stderr",
     "output_type": "stream",
     "text": [
      "\r",
      "      6/100         0G      1.686      1.785       1.53        167        640:   0%|          | 0/28 [01:20<?, ?it/s]"
     ]
    },
    {
     "name": "stderr",
     "output_type": "stream",
     "text": [
      "\r",
      "      6/100         0G      1.686      1.785       1.53        167        640:   4%|▎         | 1/28 [01:20<36:05, 80.21s/it]"
     ]
    },
    {
     "name": "stderr",
     "output_type": "stream",
     "text": [
      "\r",
      "      6/100         0G      1.673      1.807      1.542        152        640:   4%|▎         | 1/28 [02:40<36:05, 80.21s/it]"
     ]
    },
    {
     "name": "stderr",
     "output_type": "stream",
     "text": [
      "\r",
      "      6/100         0G      1.673      1.807      1.542        152        640:   7%|▋         | 2/28 [02:40<34:51, 80.46s/it]"
     ]
    },
    {
     "name": "stderr",
     "output_type": "stream",
     "text": [
      "\r",
      "      6/100         0G      1.702      2.016      1.579        191        640:   7%|▋         | 2/28 [04:02<34:51, 80.46s/it]"
     ]
    },
    {
     "name": "stderr",
     "output_type": "stream",
     "text": [
      "\r",
      "      6/100         0G      1.702      2.016      1.579        191        640:  11%|█         | 3/28 [04:02<33:49, 81.19s/it]"
     ]
    },
    {
     "name": "stderr",
     "output_type": "stream",
     "text": [
      "\r",
      "      6/100         0G      1.696       2.05      1.618        133        640:  11%|█         | 3/28 [05:23<33:49, 81.19s/it]"
     ]
    },
    {
     "name": "stderr",
     "output_type": "stream",
     "text": [
      "\r",
      "      6/100         0G      1.696       2.05      1.618        133        640:  14%|█▍        | 4/28 [05:23<32:26, 81.10s/it]"
     ]
    },
    {
     "name": "stderr",
     "output_type": "stream",
     "text": [
      "\r",
      "      6/100         0G      1.712      2.002      1.608        300        640:  14%|█▍        | 4/28 [06:43<32:26, 81.10s/it]"
     ]
    },
    {
     "name": "stderr",
     "output_type": "stream",
     "text": [
      "\r",
      "      6/100         0G      1.712      2.002      1.608        300        640:  18%|█▊        | 5/28 [06:43<30:53, 80.57s/it]"
     ]
    },
    {
     "name": "stderr",
     "output_type": "stream",
     "text": [
      "\r",
      "      6/100         0G      1.716      1.958      1.608        348        640:  18%|█▊        | 5/28 [08:04<30:53, 80.57s/it]"
     ]
    },
    {
     "name": "stderr",
     "output_type": "stream",
     "text": [
      "\r",
      "      6/100         0G      1.716      1.958      1.608        348        640:  21%|██▏       | 6/28 [08:04<29:34, 80.68s/it]"
     ]
    },
    {
     "name": "stderr",
     "output_type": "stream",
     "text": [
      "\r",
      "      6/100         0G      1.691      1.911      1.596        237        640:  21%|██▏       | 6/28 [09:25<29:34, 80.68s/it]"
     ]
    },
    {
     "name": "stderr",
     "output_type": "stream",
     "text": [
      "\r",
      "      6/100         0G      1.691      1.911      1.596        237        640:  25%|██▌       | 7/28 [09:25<28:15, 80.76s/it]"
     ]
    },
    {
     "name": "stderr",
     "output_type": "stream",
     "text": [
      "\r",
      "      6/100         0G      1.692      1.902      1.597        198        640:  25%|██▌       | 7/28 [10:48<28:15, 80.76s/it]"
     ]
    },
    {
     "name": "stderr",
     "output_type": "stream",
     "text": [
      "\r",
      "      6/100         0G      1.692      1.902      1.597        198        640:  29%|██▊       | 8/28 [10:48<27:07, 81.38s/it]"
     ]
    },
    {
     "name": "stderr",
     "output_type": "stream",
     "text": [
      "\r",
      "      6/100         0G      1.675      1.858      1.581        261        640:  29%|██▊       | 8/28 [12:07<27:07, 81.38s/it]"
     ]
    },
    {
     "name": "stderr",
     "output_type": "stream",
     "text": [
      "\r",
      "      6/100         0G      1.675      1.858      1.581        261        640:  32%|███▏      | 9/28 [12:07<25:37, 80.94s/it]"
     ]
    },
    {
     "name": "stderr",
     "output_type": "stream",
     "text": [
      "\r",
      "      6/100         0G      1.685      1.923      1.594        125        640:  32%|███▏      | 9/28 [13:29<25:37, 80.94s/it]"
     ]
    },
    {
     "name": "stderr",
     "output_type": "stream",
     "text": [
      "\r",
      "      6/100         0G      1.685      1.923      1.594        125        640:  36%|███▌      | 10/28 [13:29<24:19, 81.06s/it]"
     ]
    },
    {
     "name": "stderr",
     "output_type": "stream",
     "text": [
      "\r",
      "      6/100         0G      1.669      1.917      1.594        206        640:  36%|███▌      | 10/28 [14:50<24:19, 81.06s/it]"
     ]
    },
    {
     "name": "stderr",
     "output_type": "stream",
     "text": [
      "\r",
      "      6/100         0G      1.669      1.917      1.594        206        640:  39%|███▉      | 11/28 [14:50<22:57, 81.06s/it]"
     ]
    },
    {
     "name": "stderr",
     "output_type": "stream",
     "text": [
      "\r",
      "      6/100         0G      1.672      1.894      1.595        236        640:  39%|███▉      | 11/28 [16:11<22:57, 81.06s/it]"
     ]
    },
    {
     "name": "stderr",
     "output_type": "stream",
     "text": [
      "\r",
      "      6/100         0G      1.672      1.894      1.595        236        640:  43%|████▎     | 12/28 [16:11<21:36, 81.04s/it]"
     ]
    },
    {
     "name": "stderr",
     "output_type": "stream",
     "text": [
      "\r",
      "      6/100         0G      1.671      1.877      1.594        197        640:  43%|████▎     | 12/28 [17:29<21:36, 81.04s/it]"
     ]
    },
    {
     "name": "stderr",
     "output_type": "stream",
     "text": [
      "\r",
      "      6/100         0G      1.671      1.877      1.594        197        640:  46%|████▋     | 13/28 [17:29<20:03, 80.23s/it]"
     ]
    },
    {
     "name": "stderr",
     "output_type": "stream",
     "text": [
      "\r",
      "      6/100         0G      1.674      1.909      1.598        118        640:  46%|████▋     | 13/28 [18:49<20:03, 80.23s/it]"
     ]
    },
    {
     "name": "stderr",
     "output_type": "stream",
     "text": [
      "\r",
      "      6/100         0G      1.674      1.909      1.598        118        640:  50%|█████     | 14/28 [18:49<18:40, 80.01s/it]"
     ]
    },
    {
     "name": "stderr",
     "output_type": "stream",
     "text": [
      "\r",
      "      6/100         0G      1.664      1.893      1.589        213        640:  50%|█████     | 14/28 [20:09<18:40, 80.01s/it]"
     ]
    },
    {
     "name": "stderr",
     "output_type": "stream",
     "text": [
      "\r",
      "      6/100         0G      1.664      1.893      1.589        213        640:  54%|█████▎    | 15/28 [20:09<17:22, 80.18s/it]"
     ]
    },
    {
     "name": "stderr",
     "output_type": "stream",
     "text": [
      "\r",
      "      6/100         0G      1.664      1.894      1.587        139        640:  54%|█████▎    | 15/28 [21:30<17:22, 80.18s/it]"
     ]
    },
    {
     "name": "stderr",
     "output_type": "stream",
     "text": [
      "\r",
      "      6/100         0G      1.664      1.894      1.587        139        640:  57%|█████▋    | 16/28 [21:30<16:04, 80.40s/it]"
     ]
    },
    {
     "name": "stderr",
     "output_type": "stream",
     "text": [
      "\r",
      "      6/100         0G      1.666      1.892      1.585        175        640:  57%|█████▋    | 16/28 [22:49<16:04, 80.40s/it]"
     ]
    },
    {
     "name": "stderr",
     "output_type": "stream",
     "text": [
      "\r",
      "      6/100         0G      1.666      1.892      1.585        175        640:  61%|██████    | 17/28 [22:49<14:38, 79.88s/it]"
     ]
    },
    {
     "name": "stderr",
     "output_type": "stream",
     "text": [
      "\r",
      "      6/100         0G      1.665      1.893       1.59        133        640:  61%|██████    | 17/28 [24:09<14:38, 79.88s/it]"
     ]
    },
    {
     "name": "stderr",
     "output_type": "stream",
     "text": [
      "\r",
      "      6/100         0G      1.665      1.893       1.59        133        640:  64%|██████▍   | 18/28 [24:09<13:20, 80.08s/it]"
     ]
    },
    {
     "name": "stderr",
     "output_type": "stream",
     "text": [
      "\r",
      "      6/100         0G      1.669      1.901      1.596        103        640:  64%|██████▍   | 18/28 [25:30<13:20, 80.08s/it]"
     ]
    },
    {
     "name": "stderr",
     "output_type": "stream",
     "text": [
      "\r",
      "      6/100         0G      1.669      1.901      1.596        103        640:  68%|██████▊   | 19/28 [25:30<12:02, 80.26s/it]"
     ]
    },
    {
     "name": "stderr",
     "output_type": "stream",
     "text": [
      "\r",
      "      6/100         0G      1.666       1.89      1.591        162        640:  68%|██████▊   | 19/28 [26:51<12:02, 80.26s/it]"
     ]
    },
    {
     "name": "stderr",
     "output_type": "stream",
     "text": [
      "\r",
      "      6/100         0G      1.666       1.89      1.591        162        640:  71%|███████▏  | 20/28 [26:51<10:42, 80.30s/it]"
     ]
    },
    {
     "name": "stderr",
     "output_type": "stream",
     "text": [
      "\r",
      "      6/100         0G      1.667      1.884      1.589        188        640:  71%|███████▏  | 20/28 [28:11<10:42, 80.30s/it]"
     ]
    },
    {
     "name": "stderr",
     "output_type": "stream",
     "text": [
      "\r",
      "      6/100         0G      1.667      1.884      1.589        188        640:  75%|███████▌  | 21/28 [28:11<09:22, 80.31s/it]"
     ]
    },
    {
     "name": "stderr",
     "output_type": "stream",
     "text": [
      "\r",
      "      6/100         0G       1.66      1.878      1.586        156        640:  75%|███████▌  | 21/28 [29:32<09:22, 80.31s/it]"
     ]
    },
    {
     "name": "stderr",
     "output_type": "stream",
     "text": [
      "\r",
      "      6/100         0G       1.66      1.878      1.586        156        640:  79%|███████▊  | 22/28 [29:32<08:03, 80.55s/it]"
     ]
    },
    {
     "name": "stderr",
     "output_type": "stream",
     "text": [
      "\r",
      "      6/100         0G      1.657      1.871      1.581        220        640:  79%|███████▊  | 22/28 [30:52<08:03, 80.55s/it]"
     ]
    },
    {
     "name": "stderr",
     "output_type": "stream",
     "text": [
      "\r",
      "      6/100         0G      1.657      1.871      1.581        220        640:  82%|████████▏ | 23/28 [30:52<06:42, 80.40s/it]"
     ]
    },
    {
     "name": "stderr",
     "output_type": "stream",
     "text": [
      "\r",
      "      6/100         0G      1.664      1.884      1.583        134        640:  82%|████████▏ | 23/28 [32:14<06:42, 80.40s/it]"
     ]
    },
    {
     "name": "stderr",
     "output_type": "stream",
     "text": [
      "\r",
      "      6/100         0G      1.664      1.884      1.583        134        640:  86%|████████▌ | 24/28 [32:14<05:23, 80.96s/it]"
     ]
    },
    {
     "name": "stderr",
     "output_type": "stream",
     "text": [
      "\r",
      "      6/100         0G      1.674        1.9      1.591        105        640:  86%|████████▌ | 24/28 [33:35<05:23, 80.96s/it]"
     ]
    },
    {
     "name": "stderr",
     "output_type": "stream",
     "text": [
      "\r",
      "      6/100         0G      1.674        1.9      1.591        105        640:  89%|████████▉ | 25/28 [33:35<04:02, 80.76s/it]"
     ]
    },
    {
     "name": "stderr",
     "output_type": "stream",
     "text": [
      "\r",
      "      6/100         0G      1.671      1.891      1.588        143        640:  89%|████████▉ | 25/28 [34:56<04:02, 80.76s/it]"
     ]
    },
    {
     "name": "stderr",
     "output_type": "stream",
     "text": [
      "\r",
      "      6/100         0G      1.671      1.891      1.588        143        640:  93%|█████████▎| 26/28 [34:56<02:42, 81.09s/it]"
     ]
    },
    {
     "name": "stderr",
     "output_type": "stream",
     "text": [
      "\r",
      "      6/100         0G      1.673      1.891      1.587        163        640:  93%|█████████▎| 26/28 [36:18<02:42, 81.09s/it]"
     ]
    },
    {
     "name": "stderr",
     "output_type": "stream",
     "text": [
      "\r",
      "      6/100         0G      1.673      1.891      1.587        163        640:  96%|█████████▋| 27/28 [36:18<01:21, 81.26s/it]"
     ]
    },
    {
     "name": "stderr",
     "output_type": "stream",
     "text": [
      "\r",
      "      6/100         0G      1.677      1.885      1.591        177        640:  96%|█████████▋| 27/28 [37:34<01:21, 81.26s/it]"
     ]
    },
    {
     "name": "stderr",
     "output_type": "stream",
     "text": [
      "\r",
      "      6/100         0G      1.677      1.885      1.591        177        640: 100%|██████████| 28/28 [37:34<00:00, 79.61s/it]"
     ]
    },
    {
     "name": "stderr",
     "output_type": "stream",
     "text": [
      "\r",
      "      6/100         0G      1.677      1.885      1.591        177        640: 100%|██████████| 28/28 [37:34<00:00, 80.51s/it]"
     ]
    },
    {
     "name": "stderr",
     "output_type": "stream",
     "text": [
      "\n"
     ]
    },
    {
     "name": "stderr",
     "output_type": "stream",
     "text": [
      "\r",
      "                 Class     Images  Instances      Box(P          R      mAP50  mAP50-95):   0%|          | 0/3 [00:00<?, ?it/s]"
     ]
    },
    {
     "name": "stderr",
     "output_type": "stream",
     "text": [
      "\r",
      "                 Class     Images  Instances      Box(P          R      mAP50  mAP50-95):  33%|███▎      | 1/3 [00:53<01:46, 53.41s/it]"
     ]
    },
    {
     "name": "stderr",
     "output_type": "stream",
     "text": [
      "\r",
      "                 Class     Images  Instances      Box(P          R      mAP50  mAP50-95):  67%|██████▋   | 2/3 [01:46<00:53, 53.35s/it]"
     ]
    },
    {
     "name": "stderr",
     "output_type": "stream",
     "text": [
      "\r",
      "                 Class     Images  Instances      Box(P          R      mAP50  mAP50-95): 100%|██████████| 3/3 [02:31<00:00, 49.58s/it]"
     ]
    },
    {
     "name": "stderr",
     "output_type": "stream",
     "text": [
      "\r",
      "                 Class     Images  Instances      Box(P          R      mAP50  mAP50-95): 100%|██████████| 3/3 [02:31<00:00, 50.60s/it]"
     ]
    },
    {
     "name": "stdout",
     "output_type": "stream",
     "text": [
      "                   all         89        672      0.201       0.16     0.0964     0.0447\n"
     ]
    },
    {
     "name": "stderr",
     "output_type": "stream",
     "text": [
      "\n"
     ]
    },
    {
     "name": "stdout",
     "output_type": "stream",
     "text": [
      "\n",
      "      Epoch    GPU_mem   box_loss   cls_loss   dfl_loss  Instances       Size\n"
     ]
    },
    {
     "name": "stderr",
     "output_type": "stream",
     "text": [
      "\r",
      "  0%|          | 0/28 [00:00<?, ?it/s]"
     ]
    },
    {
     "name": "stderr",
     "output_type": "stream",
     "text": [
      "\r",
      "      7/100         0G      1.632      1.846      1.524        173        640:   0%|          | 0/28 [01:18<?, ?it/s]"
     ]
    },
    {
     "name": "stderr",
     "output_type": "stream",
     "text": [
      "\r",
      "      7/100         0G      1.632      1.846      1.524        173        640:   4%|▎         | 1/28 [01:18<35:25, 78.71s/it]"
     ]
    },
    {
     "name": "stderr",
     "output_type": "stream",
     "text": [
      "\r",
      "      7/100         0G      1.761      1.928      1.642        133        640:   4%|▎         | 1/28 [02:44<35:25, 78.71s/it]"
     ]
    },
    {
     "name": "stderr",
     "output_type": "stream",
     "text": [
      "\r",
      "      7/100         0G      1.761      1.928      1.642        133        640:   7%|▋         | 2/28 [02:44<36:02, 83.16s/it]"
     ]
    },
    {
     "name": "stderr",
     "output_type": "stream",
     "text": [
      "\r",
      "      7/100         0G      1.737      1.946      1.652        143        640:   7%|▋         | 2/28 [04:07<36:02, 83.16s/it]"
     ]
    },
    {
     "name": "stderr",
     "output_type": "stream",
     "text": [
      "\r",
      "      7/100         0G      1.737      1.946      1.652        143        640:  11%|█         | 3/28 [04:07<34:28, 82.74s/it]"
     ]
    },
    {
     "name": "stderr",
     "output_type": "stream",
     "text": [
      "\r",
      "      7/100         0G       1.74      1.962      1.631        242        640:  11%|█         | 3/28 [05:29<34:28, 82.74s/it]"
     ]
    },
    {
     "name": "stderr",
     "output_type": "stream",
     "text": [
      "\r",
      "      7/100         0G       1.74      1.962      1.631        242        640:  14%|█▍        | 4/28 [05:29<33:04, 82.67s/it]"
     ]
    },
    {
     "name": "stderr",
     "output_type": "stream",
     "text": [
      "\r",
      "      7/100         0G      1.733      1.895      1.619        208        640:  14%|█▍        | 4/28 [06:49<33:04, 82.67s/it]"
     ]
    },
    {
     "name": "stderr",
     "output_type": "stream",
     "text": [
      "\r",
      "      7/100         0G      1.733      1.895      1.619        208        640:  18%|█▊        | 5/28 [06:49<31:14, 81.50s/it]"
     ]
    },
    {
     "name": "stderr",
     "output_type": "stream",
     "text": [
      "\r",
      "      7/100         0G      1.729      1.878      1.626        194        640:  18%|█▊        | 5/28 [08:11<31:14, 81.50s/it]"
     ]
    },
    {
     "name": "stderr",
     "output_type": "stream",
     "text": [
      "\r",
      "      7/100         0G      1.729      1.878      1.626        194        640:  21%|██▏       | 6/28 [08:11<29:57, 81.69s/it]"
     ]
    },
    {
     "name": "stderr",
     "output_type": "stream",
     "text": [
      "\r",
      "      7/100         0G        1.7      1.857      1.599        166        640:  21%|██▏       | 6/28 [09:32<29:57, 81.69s/it]"
     ]
    },
    {
     "name": "stderr",
     "output_type": "stream",
     "text": [
      "\r",
      "      7/100         0G        1.7      1.857      1.599        166        640:  25%|██▌       | 7/28 [09:32<28:35, 81.69s/it]"
     ]
    },
    {
     "name": "stderr",
     "output_type": "stream",
     "text": [
      "\r",
      "      7/100         0G        1.7      1.849       1.59        169        640:  25%|██▌       | 7/28 [10:54<28:35, 81.69s/it]"
     ]
    },
    {
     "name": "stderr",
     "output_type": "stream",
     "text": [
      "\r",
      "      7/100         0G        1.7      1.849       1.59        169        640:  29%|██▊       | 8/28 [10:54<27:14, 81.75s/it]"
     ]
    },
    {
     "name": "stderr",
     "output_type": "stream",
     "text": [
      "\r",
      "      7/100         0G      1.704       1.85      1.591        175        640:  29%|██▊       | 8/28 [12:14<27:14, 81.75s/it]"
     ]
    },
    {
     "name": "stderr",
     "output_type": "stream",
     "text": [
      "\r",
      "      7/100         0G      1.704       1.85      1.591        175        640:  32%|███▏      | 9/28 [12:14<25:40, 81.08s/it]"
     ]
    },
    {
     "name": "stderr",
     "output_type": "stream",
     "text": [
      "\r",
      "      7/100         0G      1.698      1.866      1.597        114        640:  32%|███▏      | 9/28 [13:36<25:40, 81.08s/it]"
     ]
    },
    {
     "name": "stderr",
     "output_type": "stream",
     "text": [
      "\r",
      "      7/100         0G      1.698      1.866      1.597        114        640:  36%|███▌      | 10/28 [13:36<24:25, 81.42s/it]"
     ]
    },
    {
     "name": "stderr",
     "output_type": "stream",
     "text": [
      "\r",
      "      7/100         0G      1.704       1.87      1.594        199        640:  36%|███▌      | 10/28 [14:57<24:25, 81.42s/it]"
     ]
    },
    {
     "name": "stderr",
     "output_type": "stream",
     "text": [
      "\r",
      "      7/100         0G      1.704       1.87      1.594        199        640:  39%|███▉      | 11/28 [14:57<23:03, 81.37s/it]"
     ]
    },
    {
     "name": "stderr",
     "output_type": "stream",
     "text": [
      "\r",
      "      7/100         0G      1.693      1.876      1.591        156        640:  39%|███▉      | 11/28 [16:20<23:03, 81.37s/it]"
     ]
    },
    {
     "name": "stderr",
     "output_type": "stream",
     "text": [
      "\r",
      "      7/100         0G      1.693      1.876      1.591        156        640:  43%|████▎     | 12/28 [16:20<21:49, 81.85s/it]"
     ]
    },
    {
     "name": "stderr",
     "output_type": "stream",
     "text": [
      "\r",
      "      7/100         0G       1.69      1.866      1.588        132        640:  43%|████▎     | 12/28 [17:47<21:49, 81.85s/it]"
     ]
    },
    {
     "name": "stderr",
     "output_type": "stream",
     "text": [
      "\r",
      "      7/100         0G       1.69      1.866      1.588        132        640:  46%|████▋     | 13/28 [17:47<20:51, 83.44s/it]"
     ]
    },
    {
     "name": "stderr",
     "output_type": "stream",
     "text": [
      "\r",
      "      7/100         0G      1.682      1.864      1.589         90        640:  46%|████▋     | 13/28 [19:11<20:51, 83.44s/it]"
     ]
    },
    {
     "name": "stderr",
     "output_type": "stream",
     "text": [
      "\r",
      "      7/100         0G      1.682      1.864      1.589         90        640:  50%|█████     | 14/28 [19:11<19:30, 83.57s/it]"
     ]
    },
    {
     "name": "stderr",
     "output_type": "stream",
     "text": [
      "\r",
      "      7/100         0G      1.681      1.864      1.596        137        640:  50%|█████     | 14/28 [20:34<19:30, 83.57s/it]"
     ]
    },
    {
     "name": "stderr",
     "output_type": "stream",
     "text": [
      "\r",
      "      7/100         0G      1.681      1.864      1.596        137        640:  54%|█████▎    | 15/28 [20:34<18:01, 83.20s/it]"
     ]
    },
    {
     "name": "stderr",
     "output_type": "stream",
     "text": [
      "\r",
      "      7/100         0G      1.679      1.846      1.592        197        640:  54%|█████▎    | 15/28 [21:56<18:01, 83.20s/it]"
     ]
    },
    {
     "name": "stderr",
     "output_type": "stream",
     "text": [
      "\r",
      "      7/100         0G      1.679      1.846      1.592        197        640:  57%|█████▋    | 16/28 [21:56<16:34, 82.91s/it]"
     ]
    },
    {
     "name": "stderr",
     "output_type": "stream",
     "text": [
      "\r",
      "      7/100         0G       1.68      1.842      1.592        190        640:  57%|█████▋    | 16/28 [23:16<16:34, 82.91s/it]"
     ]
    },
    {
     "name": "stderr",
     "output_type": "stream",
     "text": [
      "\r",
      "      7/100         0G       1.68      1.842      1.592        190        640:  61%|██████    | 17/28 [23:16<15:04, 82.19s/it]"
     ]
    },
    {
     "name": "stderr",
     "output_type": "stream",
     "text": [
      "\r",
      "      7/100         0G      1.674      1.846      1.592        192        640:  61%|██████    | 17/28 [24:37<15:04, 82.19s/it]"
     ]
    },
    {
     "name": "stderr",
     "output_type": "stream",
     "text": [
      "\r",
      "      7/100         0G      1.674      1.846      1.592        192        640:  64%|██████▍   | 18/28 [24:37<13:38, 81.82s/it]"
     ]
    },
    {
     "name": "stderr",
     "output_type": "stream",
     "text": [
      "\r",
      "      7/100         0G      1.666      1.835      1.587        140        640:  64%|██████▍   | 18/28 [25:58<13:38, 81.82s/it]"
     ]
    },
    {
     "name": "stderr",
     "output_type": "stream",
     "text": [
      "\r",
      "      7/100         0G      1.666      1.835      1.587        140        640:  68%|██████▊   | 19/28 [25:58<12:13, 81.47s/it]"
     ]
    },
    {
     "name": "stderr",
     "output_type": "stream",
     "text": [
      "\r",
      "      7/100         0G      1.665      1.831      1.587        134        640:  68%|██████▊   | 19/28 [27:19<12:13, 81.47s/it]"
     ]
    },
    {
     "name": "stderr",
     "output_type": "stream",
     "text": [
      "\r",
      "      7/100         0G      1.665      1.831      1.587        134        640:  71%|███████▏  | 20/28 [27:19<10:50, 81.33s/it]"
     ]
    },
    {
     "name": "stderr",
     "output_type": "stream",
     "text": [
      "\r",
      "      7/100         0G      1.674      1.844      1.591        130        640:  71%|███████▏  | 20/28 [28:54<10:50, 81.33s/it]"
     ]
    },
    {
     "name": "stderr",
     "output_type": "stream",
     "text": [
      "\r",
      "      7/100         0G      1.674      1.844      1.591        130        640:  75%|███████▌  | 21/28 [28:54<09:56, 85.28s/it]"
     ]
    },
    {
     "name": "stderr",
     "output_type": "stream",
     "text": [
      "\r",
      "      7/100         0G      1.672      1.835      1.588        158        640:  75%|███████▌  | 21/28 [30:15<09:56, 85.28s/it]"
     ]
    },
    {
     "name": "stderr",
     "output_type": "stream",
     "text": [
      "\r",
      "      7/100         0G      1.672      1.835      1.588        158        640:  79%|███████▊  | 22/28 [30:15<08:25, 84.26s/it]"
     ]
    },
    {
     "name": "stderr",
     "output_type": "stream",
     "text": [
      "\r",
      "      7/100         0G      1.679      1.843      1.592         91        640:  79%|███████▊  | 22/28 [31:36<08:25, 84.26s/it]"
     ]
    },
    {
     "name": "stderr",
     "output_type": "stream",
     "text": [
      "\r",
      "      7/100         0G      1.679      1.843      1.592         91        640:  82%|████████▏ | 23/28 [31:36<06:55, 83.14s/it]"
     ]
    },
    {
     "name": "stderr",
     "output_type": "stream",
     "text": [
      "\r",
      "      7/100         0G      1.683       1.85      1.595        122        640:  82%|████████▏ | 23/28 [32:57<06:55, 83.14s/it]"
     ]
    },
    {
     "name": "stderr",
     "output_type": "stream",
     "text": [
      "\r",
      "      7/100         0G      1.683       1.85      1.595        122        640:  86%|████████▌ | 24/28 [32:57<05:29, 82.48s/it]"
     ]
    },
    {
     "name": "stderr",
     "output_type": "stream",
     "text": [
      "\r",
      "      7/100         0G      1.681      1.851      1.593        157        640:  86%|████████▌ | 24/28 [34:16<05:29, 82.48s/it]"
     ]
    },
    {
     "name": "stderr",
     "output_type": "stream",
     "text": [
      "\r",
      "      7/100         0G      1.681      1.851      1.593        157        640:  89%|████████▉ | 25/28 [34:16<04:04, 81.49s/it]"
     ]
    },
    {
     "name": "stderr",
     "output_type": "stream",
     "text": [
      "\r",
      "      7/100         0G      1.677      1.851      1.591        144        640:  89%|████████▉ | 25/28 [35:38<04:04, 81.49s/it]"
     ]
    },
    {
     "name": "stderr",
     "output_type": "stream",
     "text": [
      "\r",
      "      7/100         0G      1.677      1.851      1.591        144        640:  93%|█████████▎| 26/28 [35:38<02:43, 81.61s/it]"
     ]
    },
    {
     "name": "stderr",
     "output_type": "stream",
     "text": [
      "\r",
      "      7/100         0G      1.674      1.841      1.589        166        640:  93%|█████████▎| 26/28 [36:59<02:43, 81.61s/it]"
     ]
    },
    {
     "name": "stderr",
     "output_type": "stream",
     "text": [
      "\r",
      "      7/100         0G      1.674      1.841      1.589        166        640:  96%|█████████▋| 27/28 [36:59<01:21, 81.42s/it]"
     ]
    },
    {
     "name": "stderr",
     "output_type": "stream",
     "text": [
      "\r",
      "      7/100         0G       1.67      1.835      1.589        131        640:  96%|█████████▋| 27/28 [38:14<01:21, 81.42s/it]"
     ]
    },
    {
     "name": "stderr",
     "output_type": "stream",
     "text": [
      "\r",
      "      7/100         0G       1.67      1.835      1.589        131        640: 100%|██████████| 28/28 [38:14<00:00, 79.38s/it]"
     ]
    },
    {
     "name": "stderr",
     "output_type": "stream",
     "text": [
      "\r",
      "      7/100         0G       1.67      1.835      1.589        131        640: 100%|██████████| 28/28 [38:14<00:00, 81.93s/it]"
     ]
    },
    {
     "name": "stderr",
     "output_type": "stream",
     "text": [
      "\n"
     ]
    },
    {
     "name": "stderr",
     "output_type": "stream",
     "text": [
      "\r",
      "                 Class     Images  Instances      Box(P          R      mAP50  mAP50-95):   0%|          | 0/3 [00:00<?, ?it/s]"
     ]
    },
    {
     "name": "stderr",
     "output_type": "stream",
     "text": [
      "\r",
      "                 Class     Images  Instances      Box(P          R      mAP50  mAP50-95):  33%|███▎      | 1/3 [00:52<01:45, 52.79s/it]"
     ]
    },
    {
     "name": "stderr",
     "output_type": "stream",
     "text": [
      "\r",
      "                 Class     Images  Instances      Box(P          R      mAP50  mAP50-95):  67%|██████▋   | 2/3 [01:45<00:52, 52.75s/it]"
     ]
    },
    {
     "name": "stderr",
     "output_type": "stream",
     "text": [
      "\r",
      "                 Class     Images  Instances      Box(P          R      mAP50  mAP50-95): 100%|██████████| 3/3 [02:25<00:00, 46.93s/it]"
     ]
    },
    {
     "name": "stderr",
     "output_type": "stream",
     "text": [
      "\r",
      "                 Class     Images  Instances      Box(P          R      mAP50  mAP50-95): 100%|██████████| 3/3 [02:25<00:00, 48.50s/it]"
     ]
    },
    {
     "name": "stdout",
     "output_type": "stream",
     "text": [
      "                   all         89        672      0.311      0.304      0.236      0.121\n"
     ]
    },
    {
     "name": "stderr",
     "output_type": "stream",
     "text": [
      "\n"
     ]
    },
    {
     "name": "stdout",
     "output_type": "stream",
     "text": [
      "\n",
      "      Epoch    GPU_mem   box_loss   cls_loss   dfl_loss  Instances       Size\n"
     ]
    },
    {
     "name": "stderr",
     "output_type": "stream",
     "text": [
      "\r",
      "  0%|          | 0/28 [00:00<?, ?it/s]"
     ]
    },
    {
     "name": "stderr",
     "output_type": "stream",
     "text": [
      "\r",
      "      8/100         0G      1.689      1.574      1.445        246        640:   0%|          | 0/28 [01:19<?, ?it/s]"
     ]
    },
    {
     "name": "stderr",
     "output_type": "stream",
     "text": [
      "\r",
      "      8/100         0G      1.689      1.574      1.445        246        640:   4%|▎         | 1/28 [01:19<35:57, 79.92s/it]"
     ]
    },
    {
     "name": "stderr",
     "output_type": "stream",
     "text": [
      "\r",
      "      8/100         0G      1.613      1.612      1.468        205        640:   4%|▎         | 1/28 [02:39<35:57, 79.92s/it]"
     ]
    },
    {
     "name": "stderr",
     "output_type": "stream",
     "text": [
      "\r",
      "      8/100         0G      1.613      1.612      1.468        205        640:   7%|▋         | 2/28 [02:39<34:35, 79.81s/it]"
     ]
    },
    {
     "name": "stderr",
     "output_type": "stream",
     "text": [
      "\r",
      "      8/100         0G      1.626       1.73      1.512        146        640:   7%|▋         | 2/28 [04:00<34:35, 79.81s/it]"
     ]
    },
    {
     "name": "stderr",
     "output_type": "stream",
     "text": [
      "\r",
      "      8/100         0G      1.626       1.73      1.512        146        640:  11%|█         | 3/28 [04:00<33:27, 80.30s/it]"
     ]
    },
    {
     "name": "stderr",
     "output_type": "stream",
     "text": [
      "\r",
      "      8/100         0G      1.634       1.67      1.494        187        640:  11%|█         | 3/28 [05:29<33:27, 80.30s/it]"
     ]
    },
    {
     "name": "stderr",
     "output_type": "stream",
     "text": [
      "\r",
      "      8/100         0G      1.634       1.67      1.494        187        640:  14%|█▍        | 4/28 [05:29<33:25, 83.56s/it]"
     ]
    },
    {
     "name": "stderr",
     "output_type": "stream",
     "text": [
      "\r",
      "      8/100         0G      1.631      1.664      1.486        236        640:  14%|█▍        | 4/28 [06:48<33:25, 83.56s/it]"
     ]
    },
    {
     "name": "stderr",
     "output_type": "stream",
     "text": [
      "\r",
      "      8/100         0G      1.631      1.664      1.486        236        640:  18%|█▊        | 5/28 [06:48<31:28, 82.13s/it]"
     ]
    },
    {
     "name": "stderr",
     "output_type": "stream",
     "text": [
      "\r",
      "      8/100         0G      1.623      1.644      1.492        201        640:  18%|█▊        | 5/28 [08:09<31:28, 82.13s/it]"
     ]
    },
    {
     "name": "stderr",
     "output_type": "stream",
     "text": [
      "\r",
      "      8/100         0G      1.623      1.644      1.492        201        640:  21%|██▏       | 6/28 [08:09<29:59, 81.79s/it]"
     ]
    },
    {
     "name": "stderr",
     "output_type": "stream",
     "text": [
      "\r",
      "      8/100         0G      1.605      1.622      1.501        161        640:  21%|██▏       | 6/28 [09:31<29:59, 81.79s/it]"
     ]
    },
    {
     "name": "stderr",
     "output_type": "stream",
     "text": [
      "\r",
      "      8/100         0G      1.605      1.622      1.501        161        640:  25%|██▌       | 7/28 [09:31<28:35, 81.68s/it]"
     ]
    },
    {
     "name": "stderr",
     "output_type": "stream",
     "text": [
      "\r",
      "      8/100         0G      1.608      1.625      1.505        191        640:  25%|██▌       | 7/28 [10:53<28:35, 81.68s/it]"
     ]
    },
    {
     "name": "stderr",
     "output_type": "stream",
     "text": [
      "\r",
      "      8/100         0G      1.608      1.625      1.505        191        640:  29%|██▊       | 8/28 [10:53<27:14, 81.73s/it]"
     ]
    },
    {
     "name": "stderr",
     "output_type": "stream",
     "text": [
      "\r",
      "      8/100         0G      1.597      1.606      1.499        164        640:  29%|██▊       | 8/28 [12:19<27:14, 81.73s/it]"
     ]
    },
    {
     "name": "stderr",
     "output_type": "stream",
     "text": [
      "\r",
      "      8/100         0G      1.597      1.606      1.499        164        640:  32%|███▏      | 9/28 [12:19<26:20, 83.20s/it]"
     ]
    },
    {
     "name": "stderr",
     "output_type": "stream",
     "text": [
      "\r",
      "      8/100         0G      1.598      1.623      1.503        155        640:  32%|███▏      | 9/28 [13:40<26:20, 83.20s/it]"
     ]
    },
    {
     "name": "stderr",
     "output_type": "stream",
     "text": [
      "\r",
      "      8/100         0G      1.598      1.623      1.503        155        640:  36%|███▌      | 10/28 [13:40<24:46, 82.60s/it]"
     ]
    },
    {
     "name": "stderr",
     "output_type": "stream",
     "text": [
      "\r",
      "      8/100         0G      1.598      1.625      1.505        195        640:  36%|███▌      | 10/28 [15:07<24:46, 82.60s/it]"
     ]
    },
    {
     "name": "stderr",
     "output_type": "stream",
     "text": [
      "\r",
      "      8/100         0G      1.598      1.625      1.505        195        640:  39%|███▉      | 11/28 [15:07<23:46, 83.92s/it]"
     ]
    },
    {
     "name": "stderr",
     "output_type": "stream",
     "text": [
      "\r",
      "      8/100         0G        1.6      1.642       1.51        165        640:  39%|███▉      | 11/28 [16:30<23:46, 83.92s/it]"
     ]
    },
    {
     "name": "stderr",
     "output_type": "stream",
     "text": [
      "\r",
      "      8/100         0G        1.6      1.642       1.51        165        640:  43%|████▎     | 12/28 [16:30<22:15, 83.47s/it]"
     ]
    },
    {
     "name": "stderr",
     "output_type": "stream",
     "text": [
      "\r",
      "      8/100         0G      1.612      1.655      1.518        214        640:  43%|████▎     | 12/28 [17:47<22:15, 83.47s/it]"
     ]
    },
    {
     "name": "stderr",
     "output_type": "stream",
     "text": [
      "\r",
      "      8/100         0G      1.612      1.655      1.518        214        640:  46%|████▋     | 13/28 [17:47<20:26, 81.75s/it]"
     ]
    },
    {
     "name": "stderr",
     "output_type": "stream",
     "text": [
      "\r",
      "      8/100         0G      1.609      1.653      1.515        187        640:  46%|████▋     | 13/28 [19:10<20:26, 81.75s/it]"
     ]
    },
    {
     "name": "stderr",
     "output_type": "stream",
     "text": [
      "\r",
      "      8/100         0G      1.609      1.653      1.515        187        640:  50%|█████     | 14/28 [19:10<19:08, 82.02s/it]"
     ]
    },
    {
     "name": "stderr",
     "output_type": "stream",
     "text": [
      "\r",
      "      8/100         0G      1.605      1.676      1.519        107        640:  50%|█████     | 14/28 [20:31<19:08, 82.02s/it]"
     ]
    },
    {
     "name": "stderr",
     "output_type": "stream",
     "text": [
      "\r",
      "      8/100         0G      1.605      1.676      1.519        107        640:  54%|█████▎    | 15/28 [20:31<17:42, 81.70s/it]"
     ]
    },
    {
     "name": "stderr",
     "output_type": "stream",
     "text": [
      "\r",
      "      8/100         0G      1.604      1.674      1.516        195        640:  54%|█████▎    | 15/28 [21:53<17:42, 81.70s/it]"
     ]
    },
    {
     "name": "stderr",
     "output_type": "stream",
     "text": [
      "\r",
      "      8/100         0G      1.604      1.674      1.516        195        640:  57%|█████▋    | 16/28 [21:53<16:21, 81.82s/it]"
     ]
    },
    {
     "name": "stderr",
     "output_type": "stream",
     "text": [
      "\r",
      "      8/100         0G       1.61      1.685      1.524        169        640:  57%|█████▋    | 16/28 [23:13<16:21, 81.82s/it]"
     ]
    },
    {
     "name": "stderr",
     "output_type": "stream",
     "text": [
      "\r",
      "      8/100         0G       1.61      1.685      1.524        169        640:  61%|██████    | 17/28 [23:13<14:51, 81.09s/it]"
     ]
    },
    {
     "name": "stderr",
     "output_type": "stream",
     "text": [
      "\r",
      "      8/100         0G      1.606      1.689      1.517        152        640:  61%|██████    | 17/28 [24:33<14:51, 81.09s/it]"
     ]
    },
    {
     "name": "stderr",
     "output_type": "stream",
     "text": [
      "\r",
      "      8/100         0G      1.606      1.689      1.517        152        640:  64%|██████▍   | 18/28 [24:33<13:29, 80.95s/it]"
     ]
    },
    {
     "name": "stderr",
     "output_type": "stream",
     "text": [
      "\r",
      "      8/100         0G      1.605      1.713      1.522        110        640:  64%|██████▍   | 18/28 [26:01<13:29, 80.95s/it]"
     ]
    },
    {
     "name": "stderr",
     "output_type": "stream",
     "text": [
      "\r",
      "      8/100         0G      1.605      1.713      1.522        110        640:  68%|██████▊   | 19/28 [26:01<12:26, 82.93s/it]"
     ]
    },
    {
     "name": "stderr",
     "output_type": "stream",
     "text": [
      "\r",
      "      8/100         0G      1.609      1.714      1.527        108        640:  68%|██████▊   | 19/28 [27:21<12:26, 82.93s/it]"
     ]
    },
    {
     "name": "stderr",
     "output_type": "stream",
     "text": [
      "\r",
      "      8/100         0G      1.609      1.714      1.527        108        640:  71%|███████▏  | 20/28 [27:21<10:57, 82.17s/it]"
     ]
    },
    {
     "name": "stderr",
     "output_type": "stream",
     "text": [
      "\r",
      "      8/100         0G      1.613      1.725      1.529        217        640:  71%|███████▏  | 20/28 [28:39<10:57, 82.17s/it]"
     ]
    },
    {
     "name": "stderr",
     "output_type": "stream",
     "text": [
      "\r",
      "      8/100         0G      1.613      1.725      1.529        217        640:  75%|███████▌  | 21/28 [28:39<09:26, 80.98s/it]"
     ]
    },
    {
     "name": "stderr",
     "output_type": "stream",
     "text": [
      "\r",
      "      8/100         0G      1.616      1.733      1.531        222        640:  75%|███████▌  | 21/28 [30:00<09:26, 80.98s/it]"
     ]
    },
    {
     "name": "stderr",
     "output_type": "stream",
     "text": [
      "\r",
      "      8/100         0G      1.616      1.733      1.531        222        640:  79%|███████▊  | 22/28 [30:00<08:05, 80.84s/it]"
     ]
    },
    {
     "name": "stderr",
     "output_type": "stream",
     "text": [
      "\r",
      "      8/100         0G      1.614      1.741      1.524        257        640:  79%|███████▊  | 22/28 [31:21<08:05, 80.84s/it]"
     ]
    },
    {
     "name": "stderr",
     "output_type": "stream",
     "text": [
      "\r",
      "      8/100         0G      1.614      1.741      1.524        257        640:  82%|████████▏ | 23/28 [31:21<06:44, 80.84s/it]"
     ]
    },
    {
     "name": "stderr",
     "output_type": "stream",
     "text": [
      "\r",
      "      8/100         0G       1.61      1.744      1.524        145        640:  82%|████████▏ | 23/28 [32:41<06:44, 80.84s/it]"
     ]
    },
    {
     "name": "stderr",
     "output_type": "stream",
     "text": [
      "\r",
      "      8/100         0G       1.61      1.744      1.524        145        640:  86%|████████▌ | 24/28 [32:41<05:22, 80.60s/it]"
     ]
    },
    {
     "name": "stderr",
     "output_type": "stream",
     "text": [
      "\r",
      "      8/100         0G      1.607      1.753      1.526        185        640:  86%|████████▌ | 24/28 [34:01<05:22, 80.60s/it]"
     ]
    },
    {
     "name": "stderr",
     "output_type": "stream",
     "text": [
      "\r",
      "      8/100         0G      1.607      1.753      1.526        185        640:  89%|████████▉ | 25/28 [34:01<04:01, 80.40s/it]"
     ]
    },
    {
     "name": "stderr",
     "output_type": "stream",
     "text": [
      "\r",
      "      8/100         0G      1.612      1.746      1.533        150        640:  89%|████████▉ | 25/28 [35:26<04:01, 80.40s/it]"
     ]
    },
    {
     "name": "stderr",
     "output_type": "stream",
     "text": [
      "\r",
      "      8/100         0G      1.612      1.746      1.533        150        640:  93%|█████████▎| 26/28 [35:26<02:43, 81.79s/it]"
     ]
    },
    {
     "name": "stderr",
     "output_type": "stream",
     "text": [
      "\r",
      "      8/100         0G      1.607      1.749      1.532        155        640:  93%|█████████▎| 26/28 [36:48<02:43, 81.79s/it]"
     ]
    },
    {
     "name": "stderr",
     "output_type": "stream",
     "text": [
      "\r",
      "      8/100         0G      1.607      1.749      1.532        155        640:  96%|█████████▋| 27/28 [36:48<01:22, 82.09s/it]"
     ]
    },
    {
     "name": "stderr",
     "output_type": "stream",
     "text": [
      "\r",
      "      8/100         0G      1.606       1.76      1.534        113        640:  96%|█████████▋| 27/28 [38:03<01:22, 82.09s/it]"
     ]
    },
    {
     "name": "stderr",
     "output_type": "stream",
     "text": [
      "\r",
      "      8/100         0G      1.606       1.76      1.534        113        640: 100%|██████████| 28/28 [38:03<00:00, 79.79s/it]"
     ]
    },
    {
     "name": "stderr",
     "output_type": "stream",
     "text": [
      "\r",
      "      8/100         0G      1.606       1.76      1.534        113        640: 100%|██████████| 28/28 [38:03<00:00, 81.55s/it]"
     ]
    },
    {
     "name": "stderr",
     "output_type": "stream",
     "text": [
      "\n"
     ]
    },
    {
     "name": "stderr",
     "output_type": "stream",
     "text": [
      "\r",
      "                 Class     Images  Instances      Box(P          R      mAP50  mAP50-95):   0%|          | 0/3 [00:00<?, ?it/s]"
     ]
    },
    {
     "name": "stderr",
     "output_type": "stream",
     "text": [
      "\r",
      "                 Class     Images  Instances      Box(P          R      mAP50  mAP50-95):  33%|███▎      | 1/3 [00:54<01:48, 54.01s/it]"
     ]
    },
    {
     "name": "stderr",
     "output_type": "stream",
     "text": [
      "\r",
      "                 Class     Images  Instances      Box(P          R      mAP50  mAP50-95):  67%|██████▋   | 2/3 [01:49<00:54, 54.96s/it]"
     ]
    },
    {
     "name": "stderr",
     "output_type": "stream",
     "text": [
      "\r",
      "                 Class     Images  Instances      Box(P          R      mAP50  mAP50-95): 100%|██████████| 3/3 [02:30<00:00, 48.47s/it]"
     ]
    },
    {
     "name": "stderr",
     "output_type": "stream",
     "text": [
      "\r",
      "                 Class     Images  Instances      Box(P          R      mAP50  mAP50-95): 100%|██████████| 3/3 [02:30<00:00, 50.13s/it]"
     ]
    },
    {
     "name": "stdout",
     "output_type": "stream",
     "text": [
      "                   all         89        672      0.341      0.317      0.262      0.136\n"
     ]
    },
    {
     "name": "stderr",
     "output_type": "stream",
     "text": [
      "\n"
     ]
    },
    {
     "name": "stdout",
     "output_type": "stream",
     "text": [
      "\n",
      "      Epoch    GPU_mem   box_loss   cls_loss   dfl_loss  Instances       Size\n"
     ]
    },
    {
     "name": "stderr",
     "output_type": "stream",
     "text": [
      "\r",
      "  0%|          | 0/28 [00:00<?, ?it/s]"
     ]
    },
    {
     "name": "stderr",
     "output_type": "stream",
     "text": [
      "\r",
      "      9/100         0G       1.55      1.612      1.498        196        640:   0%|          | 0/28 [01:19<?, ?it/s]"
     ]
    },
    {
     "name": "stderr",
     "output_type": "stream",
     "text": [
      "\r",
      "      9/100         0G       1.55      1.612      1.498        196        640:   4%|▎         | 1/28 [01:19<35:34, 79.04s/it]"
     ]
    },
    {
     "name": "stderr",
     "output_type": "stream",
     "text": [
      "\r",
      "      9/100         0G      1.491      1.556      1.448        227        640:   4%|▎         | 1/28 [02:40<35:34, 79.04s/it]"
     ]
    },
    {
     "name": "stderr",
     "output_type": "stream",
     "text": [
      "\r",
      "      9/100         0G      1.491      1.556      1.448        227        640:   7%|▋         | 2/28 [02:40<34:54, 80.55s/it]"
     ]
    },
    {
     "name": "stderr",
     "output_type": "stream",
     "text": [
      "\r",
      "      9/100         0G      1.519      1.608      1.482        145        640:   7%|▋         | 2/28 [04:00<34:54, 80.55s/it]"
     ]
    },
    {
     "name": "stderr",
     "output_type": "stream",
     "text": [
      "\r",
      "      9/100         0G      1.519      1.608      1.482        145        640:  11%|█         | 3/28 [04:00<33:29, 80.36s/it]"
     ]
    },
    {
     "name": "stderr",
     "output_type": "stream",
     "text": [
      "\r",
      "      9/100         0G      1.486      1.596      1.459        135        640:  11%|█         | 3/28 [05:25<33:29, 80.36s/it]"
     ]
    },
    {
     "name": "stderr",
     "output_type": "stream",
     "text": [
      "\r",
      "      9/100         0G      1.486      1.596      1.459        135        640:  14%|█▍        | 4/28 [05:25<32:52, 82.21s/it]"
     ]
    },
    {
     "name": "stderr",
     "output_type": "stream",
     "text": [
      "\r",
      "      9/100         0G       1.52      1.587      1.455        232        640:  14%|█▍        | 4/28 [06:44<32:52, 82.21s/it]"
     ]
    },
    {
     "name": "stderr",
     "output_type": "stream",
     "text": [
      "\r",
      "      9/100         0G       1.52      1.587      1.455        232        640:  18%|█▊        | 5/28 [06:44<31:03, 81.01s/it]"
     ]
    },
    {
     "name": "stderr",
     "output_type": "stream",
     "text": [
      "\r",
      "      9/100         0G      1.537      1.573      1.452        191        640:  18%|█▊        | 5/28 [08:06<31:03, 81.01s/it]"
     ]
    },
    {
     "name": "stderr",
     "output_type": "stream",
     "text": [
      "\r",
      "      9/100         0G      1.537      1.573      1.452        191        640:  21%|██▏       | 6/28 [08:06<29:46, 81.18s/it]"
     ]
    },
    {
     "name": "stderr",
     "output_type": "stream",
     "text": [
      "\r",
      "      9/100         0G      1.541      1.562      1.461        188        640:  21%|██▏       | 6/28 [09:27<29:46, 81.18s/it]"
     ]
    },
    {
     "name": "stderr",
     "output_type": "stream",
     "text": [
      "\r",
      "      9/100         0G      1.541      1.562      1.461        188        640:  25%|██▌       | 7/28 [09:27<28:28, 81.34s/it]"
     ]
    },
    {
     "name": "stderr",
     "output_type": "stream",
     "text": [
      "\r",
      "      9/100         0G      1.525      1.545      1.443        245        640:  25%|██▌       | 7/28 [10:49<28:28, 81.34s/it]"
     ]
    },
    {
     "name": "stderr",
     "output_type": "stream",
     "text": [
      "\r",
      "      9/100         0G      1.525      1.545      1.443        245        640:  29%|██▊       | 8/28 [10:49<27:10, 81.51s/it]"
     ]
    },
    {
     "name": "stderr",
     "output_type": "stream",
     "text": [
      "\r",
      "      9/100         0G      1.537      1.552      1.455        192        640:  29%|██▊       | 8/28 [12:08<27:10, 81.51s/it]"
     ]
    },
    {
     "name": "stderr",
     "output_type": "stream",
     "text": [
      "\r",
      "      9/100         0G      1.537      1.552      1.455        192        640:  32%|███▏      | 9/28 [12:08<25:34, 80.75s/it]"
     ]
    },
    {
     "name": "stderr",
     "output_type": "stream",
     "text": [
      "\r",
      "      9/100         0G      1.534      1.548      1.454        199        640:  32%|███▏      | 9/28 [13:29<25:34, 80.75s/it]"
     ]
    },
    {
     "name": "stderr",
     "output_type": "stream",
     "text": [
      "\r",
      "      9/100         0G      1.534      1.548      1.454        199        640:  36%|███▌      | 10/28 [13:29<24:13, 80.76s/it]"
     ]
    },
    {
     "name": "stderr",
     "output_type": "stream",
     "text": [
      "\r",
      "      9/100         0G      1.539      1.568      1.456        129        640:  36%|███▌      | 10/28 [14:50<24:13, 80.76s/it]"
     ]
    },
    {
     "name": "stderr",
     "output_type": "stream",
     "text": [
      "\r",
      "      9/100         0G      1.539      1.568      1.456        129        640:  39%|███▉      | 11/28 [14:50<22:51, 80.70s/it]"
     ]
    },
    {
     "name": "stderr",
     "output_type": "stream",
     "text": [
      "\r",
      "      9/100         0G      1.546      1.574       1.46        165        640:  39%|███▉      | 11/28 [16:11<22:51, 80.70s/it]"
     ]
    },
    {
     "name": "stderr",
     "output_type": "stream",
     "text": [
      "\r",
      "      9/100         0G      1.546      1.574       1.46        165        640:  43%|████▎     | 12/28 [16:11<21:32, 80.76s/it]"
     ]
    },
    {
     "name": "stderr",
     "output_type": "stream",
     "text": [
      "\r",
      "      9/100         0G      1.553      1.581      1.461        274        640:  43%|████▎     | 12/28 [17:29<21:32, 80.76s/it]"
     ]
    },
    {
     "name": "stderr",
     "output_type": "stream",
     "text": [
      "\r",
      "      9/100         0G      1.553      1.581      1.461        274        640:  46%|████▋     | 13/28 [17:29<20:02, 80.19s/it]"
     ]
    },
    {
     "name": "stderr",
     "output_type": "stream",
     "text": [
      "\r",
      "      9/100         0G      1.557      1.591      1.472        149        640:  46%|████▋     | 13/28 [18:51<20:02, 80.19s/it]"
     ]
    },
    {
     "name": "stderr",
     "output_type": "stream",
     "text": [
      "\r",
      "      9/100         0G      1.557      1.591      1.472        149        640:  50%|█████     | 14/28 [18:51<18:48, 80.59s/it]"
     ]
    },
    {
     "name": "stderr",
     "output_type": "stream",
     "text": [
      "\r",
      "      9/100         0G      1.561      1.589      1.472        200        640:  50%|█████     | 14/28 [20:11<18:48, 80.59s/it]"
     ]
    },
    {
     "name": "stderr",
     "output_type": "stream",
     "text": [
      "\r",
      "      9/100         0G      1.561      1.589      1.472        200        640:  54%|█████▎    | 15/28 [20:11<17:25, 80.41s/it]"
     ]
    },
    {
     "name": "stderr",
     "output_type": "stream",
     "text": [
      "\r",
      "      9/100         0G      1.556      1.594      1.471        215        640:  54%|█████▎    | 15/28 [21:32<17:25, 80.41s/it]"
     ]
    },
    {
     "name": "stderr",
     "output_type": "stream",
     "text": [
      "\r",
      "      9/100         0G      1.556      1.594      1.471        215        640:  57%|█████▋    | 16/28 [21:32<16:06, 80.55s/it]"
     ]
    },
    {
     "name": "stderr",
     "output_type": "stream",
     "text": [
      "\r",
      "      9/100         0G      1.554      1.601      1.469        130        640:  57%|█████▋    | 16/28 [22:56<16:06, 80.55s/it]"
     ]
    },
    {
     "name": "stderr",
     "output_type": "stream",
     "text": [
      "\r",
      "      9/100         0G      1.554      1.601      1.469        130        640:  61%|██████    | 17/28 [22:56<14:58, 81.73s/it]"
     ]
    },
    {
     "name": "stderr",
     "output_type": "stream",
     "text": [
      "\r",
      "      9/100         0G      1.556      1.612      1.473        132        640:  61%|██████    | 17/28 [24:17<14:58, 81.73s/it]"
     ]
    },
    {
     "name": "stderr",
     "output_type": "stream",
     "text": [
      "\r",
      "      9/100         0G      1.556      1.612      1.473        132        640:  64%|██████▍   | 18/28 [24:17<13:32, 81.26s/it]"
     ]
    },
    {
     "name": "stderr",
     "output_type": "stream",
     "text": [
      "\r",
      "      9/100         0G      1.557      1.614      1.474        177        640:  64%|██████▍   | 18/28 [25:36<13:32, 81.26s/it]"
     ]
    },
    {
     "name": "stderr",
     "output_type": "stream",
     "text": [
      "\r",
      "      9/100         0G      1.557      1.614      1.474        177        640:  68%|██████▊   | 19/28 [25:36<12:06, 80.75s/it]"
     ]
    },
    {
     "name": "stderr",
     "output_type": "stream",
     "text": [
      "\r",
      "      9/100         0G      1.555      1.609       1.47        177        640:  68%|██████▊   | 19/28 [26:56<12:06, 80.75s/it]"
     ]
    },
    {
     "name": "stderr",
     "output_type": "stream",
     "text": [
      "\r",
      "      9/100         0G      1.555      1.609       1.47        177        640:  71%|███████▏  | 20/28 [26:56<10:45, 80.64s/it]"
     ]
    },
    {
     "name": "stderr",
     "output_type": "stream",
     "text": [
      "\r",
      "      9/100         0G       1.55      1.611      1.467        137        640:  71%|███████▏  | 20/28 [28:16<10:45, 80.64s/it]"
     ]
    },
    {
     "name": "stderr",
     "output_type": "stream",
     "text": [
      "\r",
      "      9/100         0G       1.55      1.611      1.467        137        640:  75%|███████▌  | 21/28 [28:16<09:22, 80.37s/it]"
     ]
    },
    {
     "name": "stderr",
     "output_type": "stream",
     "text": [
      "\r",
      "      9/100         0G      1.558      1.622      1.471        137        640:  75%|███████▌  | 21/28 [29:38<09:22, 80.37s/it]"
     ]
    },
    {
     "name": "stderr",
     "output_type": "stream",
     "text": [
      "\r",
      "      9/100         0G      1.558      1.622      1.471        137        640:  79%|███████▊  | 22/28 [29:38<08:04, 80.81s/it]"
     ]
    },
    {
     "name": "stderr",
     "output_type": "stream",
     "text": [
      "\r",
      "      9/100         0G      1.558      1.623      1.471        127        640:  79%|███████▊  | 22/28 [30:58<08:04, 80.81s/it]"
     ]
    },
    {
     "name": "stderr",
     "output_type": "stream",
     "text": [
      "\r",
      "      9/100         0G      1.558      1.623      1.471        127        640:  82%|████████▏ | 23/28 [30:58<06:42, 80.50s/it]"
     ]
    },
    {
     "name": "stderr",
     "output_type": "stream",
     "text": [
      "\r",
      "      9/100         0G      1.556      1.628      1.469        142        640:  82%|████████▏ | 23/28 [32:19<06:42, 80.50s/it]"
     ]
    },
    {
     "name": "stderr",
     "output_type": "stream",
     "text": [
      "\r",
      "      9/100         0G      1.556      1.628      1.469        142        640:  86%|████████▌ | 24/28 [32:19<05:23, 80.85s/it]"
     ]
    },
    {
     "name": "stderr",
     "output_type": "stream",
     "text": [
      "\r",
      "      9/100         0G      1.561      1.631       1.47        123        640:  86%|████████▌ | 24/28 [33:39<05:23, 80.85s/it]"
     ]
    },
    {
     "name": "stderr",
     "output_type": "stream",
     "text": [
      "\r",
      "      9/100         0G      1.561      1.631       1.47        123        640:  89%|████████▉ | 25/28 [33:39<04:00, 80.32s/it]"
     ]
    },
    {
     "name": "stderr",
     "output_type": "stream",
     "text": [
      "\r",
      "      9/100         0G      1.564      1.623      1.467        245        640:  89%|████████▉ | 25/28 [34:59<04:00, 80.32s/it]"
     ]
    },
    {
     "name": "stderr",
     "output_type": "stream",
     "text": [
      "\r",
      "      9/100         0G      1.564      1.623      1.467        245        640:  93%|█████████▎| 26/28 [34:59<02:40, 80.26s/it]"
     ]
    },
    {
     "name": "stderr",
     "output_type": "stream",
     "text": [
      "\r",
      "      9/100         0G      1.563      1.631       1.47        148        640:  93%|█████████▎| 26/28 [36:19<02:40, 80.26s/it]"
     ]
    },
    {
     "name": "stderr",
     "output_type": "stream",
     "text": [
      "\r",
      "      9/100         0G      1.563      1.631       1.47        148        640:  96%|█████████▋| 27/28 [36:19<01:20, 80.17s/it]"
     ]
    },
    {
     "name": "stderr",
     "output_type": "stream",
     "text": [
      "\r",
      "      9/100         0G       1.57       1.64      1.475        128        640:  96%|█████████▋| 27/28 [37:33<01:20, 80.17s/it]"
     ]
    },
    {
     "name": "stderr",
     "output_type": "stream",
     "text": [
      "\r",
      "      9/100         0G       1.57       1.64      1.475        128        640: 100%|██████████| 28/28 [37:33<00:00, 78.30s/it]"
     ]
    },
    {
     "name": "stderr",
     "output_type": "stream",
     "text": [
      "\r",
      "      9/100         0G       1.57       1.64      1.475        128        640: 100%|██████████| 28/28 [37:33<00:00, 80.47s/it]"
     ]
    },
    {
     "name": "stderr",
     "output_type": "stream",
     "text": [
      "\n"
     ]
    },
    {
     "name": "stderr",
     "output_type": "stream",
     "text": [
      "\r",
      "                 Class     Images  Instances      Box(P          R      mAP50  mAP50-95):   0%|          | 0/3 [00:00<?, ?it/s]"
     ]
    },
    {
     "name": "stderr",
     "output_type": "stream",
     "text": [
      "\r",
      "                 Class     Images  Instances      Box(P          R      mAP50  mAP50-95):  33%|███▎      | 1/3 [00:52<01:44, 52.24s/it]"
     ]
    },
    {
     "name": "stderr",
     "output_type": "stream",
     "text": [
      "\r",
      "                 Class     Images  Instances      Box(P          R      mAP50  mAP50-95):  67%|██████▋   | 2/3 [01:46<00:53, 53.23s/it]"
     ]
    },
    {
     "name": "stderr",
     "output_type": "stream",
     "text": [
      "\r",
      "                 Class     Images  Instances      Box(P          R      mAP50  mAP50-95): 100%|██████████| 3/3 [02:26<00:00, 47.29s/it]"
     ]
    },
    {
     "name": "stderr",
     "output_type": "stream",
     "text": [
      "\r",
      "                 Class     Images  Instances      Box(P          R      mAP50  mAP50-95): 100%|██████████| 3/3 [02:26<00:00, 48.79s/it]"
     ]
    },
    {
     "name": "stdout",
     "output_type": "stream",
     "text": [
      "                   all         89        672      0.467      0.403      0.391      0.185\n"
     ]
    },
    {
     "name": "stderr",
     "output_type": "stream",
     "text": [
      "\n"
     ]
    },
    {
     "name": "stdout",
     "output_type": "stream",
     "text": [
      "\n",
      "      Epoch    GPU_mem   box_loss   cls_loss   dfl_loss  Instances       Size\n"
     ]
    },
    {
     "name": "stderr",
     "output_type": "stream",
     "text": [
      "\r",
      "  0%|          | 0/28 [00:00<?, ?it/s]"
     ]
    },
    {
     "name": "stderr",
     "output_type": "stream",
     "text": [
      "\r",
      "     10/100         0G      1.526      1.652      1.547        134        640:   0%|          | 0/28 [01:19<?, ?it/s]"
     ]
    },
    {
     "name": "stderr",
     "output_type": "stream",
     "text": [
      "\r",
      "     10/100         0G      1.526      1.652      1.547        134        640:   4%|▎         | 1/28 [01:19<35:53, 79.77s/it]"
     ]
    },
    {
     "name": "stderr",
     "output_type": "stream",
     "text": [
      "\r",
      "     10/100         0G      1.637      1.709       1.49        207        640:   4%|▎         | 1/28 [02:39<35:53, 79.77s/it]"
     ]
    },
    {
     "name": "stderr",
     "output_type": "stream",
     "text": [
      "\r",
      "     10/100         0G      1.637      1.709       1.49        207        640:   7%|▋         | 2/28 [02:39<34:38, 79.96s/it]"
     ]
    },
    {
     "name": "stderr",
     "output_type": "stream",
     "text": [
      "\r",
      "     10/100         0G       1.59      1.729      1.487        160        640:   7%|▋         | 2/28 [04:00<34:38, 79.96s/it]"
     ]
    },
    {
     "name": "stderr",
     "output_type": "stream",
     "text": [
      "\r",
      "     10/100         0G       1.59      1.729      1.487        160        640:  11%|█         | 3/28 [04:00<33:27, 80.32s/it]"
     ]
    },
    {
     "name": "stderr",
     "output_type": "stream",
     "text": [
      "\r",
      "     10/100         0G      1.573      1.701      1.479        216        640:  11%|█         | 3/28 [05:20<33:27, 80.32s/it]"
     ]
    },
    {
     "name": "stderr",
     "output_type": "stream",
     "text": [
      "\r",
      "     10/100         0G      1.573      1.701      1.479        216        640:  14%|█▍        | 4/28 [05:20<31:59, 80.00s/it]"
     ]
    },
    {
     "name": "stderr",
     "output_type": "stream",
     "text": [
      "\r",
      "     10/100         0G      1.579       1.64      1.483        247        640:  14%|█▍        | 4/28 [06:39<31:59, 80.00s/it]"
     ]
    },
    {
     "name": "stderr",
     "output_type": "stream",
     "text": [
      "\r",
      "     10/100         0G      1.579       1.64      1.483        247        640:  18%|█▊        | 5/28 [06:39<30:34, 79.76s/it]"
     ]
    },
    {
     "name": "stderr",
     "output_type": "stream",
     "text": [
      "\r",
      "     10/100         0G      1.575      1.652      1.498        150        640:  18%|█▊        | 5/28 [08:00<30:34, 79.76s/it]"
     ]
    },
    {
     "name": "stderr",
     "output_type": "stream",
     "text": [
      "\r",
      "     10/100         0G      1.575      1.652      1.498        150        640:  21%|██▏       | 6/28 [08:00<29:24, 80.19s/it]"
     ]
    },
    {
     "name": "stderr",
     "output_type": "stream",
     "text": [
      "\r",
      "     10/100         0G      1.598      1.674      1.519        128        640:  21%|██▏       | 6/28 [09:21<29:24, 80.19s/it]"
     ]
    },
    {
     "name": "stderr",
     "output_type": "stream",
     "text": [
      "\r",
      "     10/100         0G      1.598      1.674      1.519        128        640:  25%|██▌       | 7/28 [09:21<28:10, 80.52s/it]"
     ]
    },
    {
     "name": "stderr",
     "output_type": "stream",
     "text": [
      "\r",
      "     10/100         0G      1.602      1.723      1.543        125        640:  25%|██▌       | 7/28 [10:42<28:10, 80.52s/it]"
     ]
    },
    {
     "name": "stderr",
     "output_type": "stream",
     "text": [
      "\r",
      "     10/100         0G      1.602      1.723      1.543        125        640:  29%|██▊       | 8/28 [10:42<26:51, 80.59s/it]"
     ]
    },
    {
     "name": "stderr",
     "output_type": "stream",
     "text": [
      "\r",
      "     10/100         0G      1.613      1.721      1.538        332        640:  29%|██▊       | 8/28 [12:02<26:51, 80.59s/it]"
     ]
    },
    {
     "name": "stderr",
     "output_type": "stream",
     "text": [
      "\r",
      "     10/100         0G      1.613      1.721      1.538        332        640:  32%|███▏      | 9/28 [12:02<25:28, 80.46s/it]"
     ]
    },
    {
     "name": "stderr",
     "output_type": "stream",
     "text": [
      "\r",
      "     10/100         0G      1.607      1.694       1.52        245        640:  32%|███▏      | 9/28 [13:24<25:28, 80.46s/it]"
     ]
    },
    {
     "name": "stderr",
     "output_type": "stream",
     "text": [
      "\r",
      "     10/100         0G      1.607      1.694       1.52        245        640:  36%|███▌      | 10/28 [13:24<24:14, 80.79s/it]"
     ]
    },
    {
     "name": "stderr",
     "output_type": "stream",
     "text": [
      "\r",
      "     10/100         0G      1.596      1.688      1.508        249        640:  36%|███▌      | 10/28 [14:47<24:14, 80.79s/it]"
     ]
    },
    {
     "name": "stderr",
     "output_type": "stream",
     "text": [
      "\r",
      "     10/100         0G      1.596      1.688      1.508        249        640:  39%|███▉      | 11/28 [14:47<23:06, 81.56s/it]"
     ]
    },
    {
     "name": "stderr",
     "output_type": "stream",
     "text": [
      "\r",
      "     10/100         0G      1.579      1.678      1.496        202        640:  39%|███▉      | 11/28 [16:18<23:06, 81.56s/it]"
     ]
    },
    {
     "name": "stderr",
     "output_type": "stream",
     "text": [
      "\r",
      "     10/100         0G      1.579      1.678      1.496        202        640:  43%|████▎     | 12/28 [16:18<22:32, 84.51s/it]"
     ]
    },
    {
     "name": "stderr",
     "output_type": "stream",
     "text": [
      "\r",
      "     10/100         0G      1.573      1.655      1.494        214        640:  43%|████▎     | 12/28 [17:38<22:32, 84.51s/it]"
     ]
    },
    {
     "name": "stderr",
     "output_type": "stream",
     "text": [
      "\r",
      "     10/100         0G      1.573      1.655      1.494        214        640:  46%|████▋     | 13/28 [17:38<20:44, 82.97s/it]"
     ]
    },
    {
     "name": "stderr",
     "output_type": "stream",
     "text": [
      "\r",
      "     10/100         0G      1.566      1.645      1.498        153        640:  46%|████▋     | 13/28 [18:58<20:44, 82.97s/it]"
     ]
    },
    {
     "name": "stderr",
     "output_type": "stream",
     "text": [
      "\r",
      "     10/100         0G      1.566      1.645      1.498        153        640:  50%|█████     | 14/28 [18:58<19:11, 82.27s/it]"
     ]
    },
    {
     "name": "stderr",
     "output_type": "stream",
     "text": [
      "\r",
      "     10/100         0G      1.573      1.654      1.505        149        640:  50%|█████     | 14/28 [20:19<19:11, 82.27s/it]"
     ]
    },
    {
     "name": "stderr",
     "output_type": "stream",
     "text": [
      "\r",
      "     10/100         0G      1.573      1.654      1.505        149        640:  54%|█████▎    | 15/28 [20:19<17:42, 81.71s/it]"
     ]
    },
    {
     "name": "stderr",
     "output_type": "stream",
     "text": [
      "\r",
      "     10/100         0G      1.572      1.642      1.508        151        640:  54%|█████▎    | 15/28 [21:40<17:42, 81.71s/it]"
     ]
    },
    {
     "name": "stderr",
     "output_type": "stream",
     "text": [
      "\r",
      "     10/100         0G      1.572      1.642      1.508        151        640:  57%|█████▋    | 16/28 [21:40<16:20, 81.69s/it]"
     ]
    },
    {
     "name": "stderr",
     "output_type": "stream",
     "text": [
      "\r",
      "     10/100         0G      1.574      1.639      1.505        303        640:  57%|█████▋    | 16/28 [23:08<16:20, 81.69s/it]"
     ]
    },
    {
     "name": "stderr",
     "output_type": "stream",
     "text": [
      "\r",
      "     10/100         0G      1.574      1.639      1.505        303        640:  61%|██████    | 17/28 [23:08<15:19, 83.58s/it]"
     ]
    },
    {
     "name": "stderr",
     "output_type": "stream",
     "text": [
      "\r",
      "     10/100         0G      1.576      1.621      1.501        251        640:  61%|██████    | 17/28 [24:32<15:19, 83.58s/it]"
     ]
    },
    {
     "name": "stderr",
     "output_type": "stream",
     "text": [
      "\r",
      "     10/100         0G      1.576      1.621      1.501        251        640:  64%|██████▍   | 18/28 [24:32<13:55, 83.55s/it]"
     ]
    },
    {
     "name": "stderr",
     "output_type": "stream",
     "text": [
      "\r",
      "     10/100         0G      1.575      1.611      1.496        221        640:  64%|██████▍   | 18/28 [25:53<13:55, 83.55s/it]"
     ]
    },
    {
     "name": "stderr",
     "output_type": "stream",
     "text": [
      "\r",
      "     10/100         0G      1.575      1.611      1.496        221        640:  68%|██████▊   | 19/28 [25:53<12:25, 82.85s/it]"
     ]
    },
    {
     "name": "stderr",
     "output_type": "stream",
     "text": [
      "\r",
      "     10/100         0G      1.572      1.602      1.493        169        640:  68%|██████▊   | 19/28 [27:14<12:25, 82.85s/it]"
     ]
    },
    {
     "name": "stderr",
     "output_type": "stream",
     "text": [
      "\r",
      "     10/100         0G      1.572      1.602      1.493        169        640:  71%|███████▏  | 20/28 [27:14<10:59, 82.43s/it]"
     ]
    },
    {
     "name": "stderr",
     "output_type": "stream",
     "text": [
      "\r",
      "     10/100         0G       1.57      1.601      1.495        186        640:  71%|███████▏  | 20/28 [28:34<10:59, 82.43s/it]"
     ]
    },
    {
     "name": "stderr",
     "output_type": "stream",
     "text": [
      "\r",
      "     10/100         0G       1.57      1.601      1.495        186        640:  75%|███████▌  | 21/28 [28:34<09:30, 81.50s/it]"
     ]
    },
    {
     "name": "stderr",
     "output_type": "stream",
     "text": [
      "\r",
      "     10/100         0G      1.567      1.595      1.489        187        640:  75%|███████▌  | 21/28 [29:55<09:30, 81.50s/it]"
     ]
    },
    {
     "name": "stderr",
     "output_type": "stream",
     "text": [
      "\r",
      "     10/100         0G      1.567      1.595      1.489        187        640:  79%|███████▊  | 22/28 [29:55<08:08, 81.39s/it]"
     ]
    },
    {
     "name": "stderr",
     "output_type": "stream",
     "text": [
      "\r",
      "     10/100         0G      1.561      1.589      1.489        132        640:  79%|███████▊  | 22/28 [31:16<08:08, 81.39s/it]"
     ]
    },
    {
     "name": "stderr",
     "output_type": "stream",
     "text": [
      "\r",
      "     10/100         0G      1.561      1.589      1.489        132        640:  82%|████████▏ | 23/28 [31:16<06:47, 81.42s/it]"
     ]
    },
    {
     "name": "stderr",
     "output_type": "stream",
     "text": [
      "\r",
      "     10/100         0G      1.559      1.582      1.484        200        640:  82%|████████▏ | 23/28 [32:39<06:47, 81.42s/it]"
     ]
    },
    {
     "name": "stderr",
     "output_type": "stream",
     "text": [
      "\r",
      "     10/100         0G      1.559      1.582      1.484        200        640:  86%|████████▌ | 24/28 [32:39<05:27, 81.88s/it]"
     ]
    },
    {
     "name": "stderr",
     "output_type": "stream",
     "text": [
      "\r",
      "     10/100         0G      1.559       1.58      1.485        147        640:  86%|████████▌ | 24/28 [34:01<05:27, 81.88s/it]"
     ]
    },
    {
     "name": "stderr",
     "output_type": "stream",
     "text": [
      "\r",
      "     10/100         0G      1.559       1.58      1.485        147        640:  89%|████████▉ | 25/28 [34:01<04:04, 81.66s/it]"
     ]
    },
    {
     "name": "stderr",
     "output_type": "stream",
     "text": [
      "\r",
      "     10/100         0G       1.56      1.579      1.485        208        640:  89%|████████▉ | 25/28 [35:23<04:04, 81.66s/it]"
     ]
    },
    {
     "name": "stderr",
     "output_type": "stream",
     "text": [
      "\r",
      "     10/100         0G       1.56      1.579      1.485        208        640:  93%|█████████▎| 26/28 [35:23<02:43, 81.76s/it]"
     ]
    },
    {
     "name": "stderr",
     "output_type": "stream",
     "text": [
      "\r",
      "     10/100         0G      1.552      1.583      1.482        115        640:  93%|█████████▎| 26/28 [36:45<02:43, 81.76s/it]"
     ]
    },
    {
     "name": "stderr",
     "output_type": "stream",
     "text": [
      "\r",
      "     10/100         0G      1.552      1.583      1.482        115        640:  96%|█████████▋| 27/28 [36:45<01:21, 81.89s/it]"
     ]
    },
    {
     "name": "stderr",
     "output_type": "stream",
     "text": [
      "\r",
      "     10/100         0G      1.556      1.582      1.481        159        640:  96%|█████████▋| 27/28 [38:00<01:21, 81.89s/it]"
     ]
    },
    {
     "name": "stderr",
     "output_type": "stream",
     "text": [
      "\r",
      "     10/100         0G      1.556      1.582      1.481        159        640: 100%|██████████| 28/28 [38:00<00:00, 79.80s/it]"
     ]
    },
    {
     "name": "stderr",
     "output_type": "stream",
     "text": [
      "\r",
      "     10/100         0G      1.556      1.582      1.481        159        640: 100%|██████████| 28/28 [38:00<00:00, 81.43s/it]"
     ]
    },
    {
     "name": "stderr",
     "output_type": "stream",
     "text": [
      "\n"
     ]
    },
    {
     "name": "stderr",
     "output_type": "stream",
     "text": [
      "\r",
      "                 Class     Images  Instances      Box(P          R      mAP50  mAP50-95):   0%|          | 0/3 [00:00<?, ?it/s]"
     ]
    },
    {
     "name": "stderr",
     "output_type": "stream",
     "text": [
      "\r",
      "                 Class     Images  Instances      Box(P          R      mAP50  mAP50-95):  33%|███▎      | 1/3 [00:53<01:46, 53.32s/it]"
     ]
    },
    {
     "name": "stderr",
     "output_type": "stream",
     "text": [
      "\r",
      "                 Class     Images  Instances      Box(P          R      mAP50  mAP50-95):  67%|██████▋   | 2/3 [01:46<00:53, 53.30s/it]"
     ]
    },
    {
     "name": "stderr",
     "output_type": "stream",
     "text": [
      "\r",
      "                 Class     Images  Instances      Box(P          R      mAP50  mAP50-95): 100%|██████████| 3/3 [02:26<00:00, 47.28s/it]"
     ]
    },
    {
     "name": "stderr",
     "output_type": "stream",
     "text": [
      "\r",
      "                 Class     Images  Instances      Box(P          R      mAP50  mAP50-95): 100%|██████████| 3/3 [02:26<00:00, 48.90s/it]"
     ]
    },
    {
     "name": "stdout",
     "output_type": "stream",
     "text": [
      "                   all         89        672      0.575      0.366      0.411       0.22\n"
     ]
    },
    {
     "name": "stderr",
     "output_type": "stream",
     "text": [
      "\n"
     ]
    },
    {
     "name": "stdout",
     "output_type": "stream",
     "text": [
      "\n",
      "      Epoch    GPU_mem   box_loss   cls_loss   dfl_loss  Instances       Size\n"
     ]
    },
    {
     "name": "stderr",
     "output_type": "stream",
     "text": [
      "\r",
      "  0%|          | 0/28 [00:00<?, ?it/s]"
     ]
    },
    {
     "name": "stderr",
     "output_type": "stream",
     "text": [
      "\r",
      "     11/100         0G      1.516      1.967      1.523        110        640:   0%|          | 0/28 [01:20<?, ?it/s]"
     ]
    },
    {
     "name": "stderr",
     "output_type": "stream",
     "text": [
      "\r",
      "     11/100         0G      1.516      1.967      1.523        110        640:   4%|▎         | 1/28 [01:20<36:18, 80.67s/it]"
     ]
    },
    {
     "name": "stderr",
     "output_type": "stream",
     "text": [
      "\r",
      "     11/100         0G      1.551      1.872      1.539        111        640:   4%|▎         | 1/28 [02:42<36:18, 80.67s/it]"
     ]
    },
    {
     "name": "stderr",
     "output_type": "stream",
     "text": [
      "\r",
      "     11/100         0G      1.551      1.872      1.539        111        640:   7%|▋         | 2/28 [02:42<35:18, 81.49s/it]"
     ]
    },
    {
     "name": "stderr",
     "output_type": "stream",
     "text": [
      "\r",
      "     11/100         0G      1.517      1.729      1.508        131        640:   7%|▋         | 2/28 [04:04<35:18, 81.49s/it]"
     ]
    },
    {
     "name": "stderr",
     "output_type": "stream",
     "text": [
      "\r",
      "     11/100         0G      1.517      1.729      1.508        131        640:  11%|█         | 3/28 [04:04<33:55, 81.42s/it]"
     ]
    },
    {
     "name": "stderr",
     "output_type": "stream",
     "text": [
      "\r",
      "     11/100         0G      1.519      1.741      1.492        128        640:  11%|█         | 3/28 [05:33<33:55, 81.42s/it]"
     ]
    },
    {
     "name": "stderr",
     "output_type": "stream",
     "text": [
      "\r",
      "     11/100         0G      1.519      1.741      1.492        128        640:  14%|█▍        | 4/28 [05:33<33:46, 84.43s/it]"
     ]
    },
    {
     "name": "stderr",
     "output_type": "stream",
     "text": [
      "\r",
      "     11/100         0G       1.52      1.712        1.5        126        640:  14%|█▍        | 4/28 [06:52<33:46, 84.43s/it]"
     ]
    },
    {
     "name": "stderr",
     "output_type": "stream",
     "text": [
      "\r",
      "     11/100         0G       1.52      1.712        1.5        126        640:  18%|█▊        | 5/28 [06:52<31:39, 82.59s/it]"
     ]
    },
    {
     "name": "stderr",
     "output_type": "stream",
     "text": [
      "\r",
      "     11/100         0G      1.539       1.72      1.524        118        640:  18%|█▊        | 5/28 [08:15<31:39, 82.59s/it]"
     ]
    },
    {
     "name": "stderr",
     "output_type": "stream",
     "text": [
      "\r",
      "     11/100         0G      1.539       1.72      1.524        118        640:  21%|██▏       | 6/28 [08:15<30:19, 82.71s/it]"
     ]
    },
    {
     "name": "stderr",
     "output_type": "stream",
     "text": [
      "\r",
      "     11/100         0G      1.545      1.719      1.525        138        640:  21%|██▏       | 6/28 [09:37<30:19, 82.71s/it]"
     ]
    },
    {
     "name": "stderr",
     "output_type": "stream",
     "text": [
      "\r",
      "     11/100         0G      1.545      1.719      1.525        138        640:  25%|██▌       | 7/28 [09:37<28:51, 82.44s/it]"
     ]
    },
    {
     "name": "stderr",
     "output_type": "stream",
     "text": [
      "\r",
      "     11/100         0G      1.544      1.747      1.521        157        640:  25%|██▌       | 7/28 [10:58<28:51, 82.44s/it]"
     ]
    },
    {
     "name": "stderr",
     "output_type": "stream",
     "text": [
      "\r",
      "     11/100         0G      1.544      1.747      1.521        157        640:  29%|██▊       | 8/28 [10:58<27:21, 82.06s/it]"
     ]
    },
    {
     "name": "stderr",
     "output_type": "stream",
     "text": [
      "\r",
      "     11/100         0G      1.535      1.715      1.507        142        640:  29%|██▊       | 8/28 [12:17<27:21, 82.06s/it]"
     ]
    },
    {
     "name": "stderr",
     "output_type": "stream",
     "text": [
      "\r",
      "     11/100         0G      1.535      1.715      1.507        142        640:  32%|███▏      | 9/28 [12:17<25:42, 81.20s/it]"
     ]
    },
    {
     "name": "stderr",
     "output_type": "stream",
     "text": [
      "\r",
      "     11/100         0G      1.539      1.681      1.497        231        640:  32%|███▏      | 9/28 [13:41<25:42, 81.20s/it]"
     ]
    },
    {
     "name": "stderr",
     "output_type": "stream",
     "text": [
      "\r",
      "     11/100         0G      1.539      1.681      1.497        231        640:  36%|███▌      | 10/28 [13:41<24:36, 82.02s/it]"
     ]
    },
    {
     "name": "stderr",
     "output_type": "stream",
     "text": [
      "\r",
      "     11/100         0G       1.55      1.682      1.499        178        640:  36%|███▌      | 10/28 [15:03<24:36, 82.02s/it]"
     ]
    },
    {
     "name": "stderr",
     "output_type": "stream",
     "text": [
      "\r",
      "     11/100         0G       1.55      1.682      1.499        178        640:  39%|███▉      | 11/28 [15:03<23:15, 82.11s/it]"
     ]
    },
    {
     "name": "stderr",
     "output_type": "stream",
     "text": [
      "\r",
      "     11/100         0G      1.543      1.658      1.491        154        640:  39%|███▉      | 11/28 [16:26<23:15, 82.11s/it]"
     ]
    },
    {
     "name": "stderr",
     "output_type": "stream",
     "text": [
      "\r",
      "     11/100         0G      1.543      1.658      1.491        154        640:  43%|████▎     | 12/28 [16:26<21:57, 82.34s/it]"
     ]
    },
    {
     "name": "stderr",
     "output_type": "stream",
     "text": [
      "\r",
      "     11/100         0G      1.544      1.654        1.5        119        640:  43%|████▎     | 12/28 [17:46<21:57, 82.34s/it]"
     ]
    },
    {
     "name": "stderr",
     "output_type": "stream",
     "text": [
      "\r",
      "     11/100         0G      1.544      1.654        1.5        119        640:  46%|████▋     | 13/28 [17:46<20:23, 81.57s/it]"
     ]
    },
    {
     "name": "stderr",
     "output_type": "stream",
     "text": [
      "\r",
      "     11/100         0G       1.54      1.652        1.5        111        640:  46%|████▋     | 13/28 [19:07<20:23, 81.57s/it]"
     ]
    },
    {
     "name": "stderr",
     "output_type": "stream",
     "text": [
      "\r",
      "     11/100         0G       1.54      1.652        1.5        111        640:  50%|█████     | 14/28 [19:07<19:00, 81.45s/it]"
     ]
    },
    {
     "name": "stderr",
     "output_type": "stream",
     "text": [
      "\r",
      "     11/100         0G       1.53      1.641      1.497        149        640:  50%|█████     | 14/28 [20:28<19:00, 81.45s/it]"
     ]
    },
    {
     "name": "stderr",
     "output_type": "stream",
     "text": [
      "\r",
      "     11/100         0G       1.53      1.641      1.497        149        640:  54%|█████▎    | 15/28 [20:28<17:35, 81.19s/it]"
     ]
    },
    {
     "name": "stderr",
     "output_type": "stream",
     "text": [
      "\r",
      "     11/100         0G      1.533       1.63      1.493        245        640:  54%|█████▎    | 15/28 [21:51<17:35, 81.19s/it]"
     ]
    },
    {
     "name": "stderr",
     "output_type": "stream",
     "text": [
      "\r",
      "     11/100         0G      1.533       1.63      1.493        245        640:  57%|█████▋    | 16/28 [21:51<16:20, 81.70s/it]"
     ]
    },
    {
     "name": "stderr",
     "output_type": "stream",
     "text": [
      "\r",
      "     11/100         0G      1.534      1.622      1.488        134        640:  57%|█████▋    | 16/28 [23:20<16:20, 81.70s/it]"
     ]
    },
    {
     "name": "stderr",
     "output_type": "stream",
     "text": [
      "\r",
      "     11/100         0G      1.534      1.622      1.488        134        640:  61%|██████    | 17/28 [23:20<15:23, 83.92s/it]"
     ]
    },
    {
     "name": "stderr",
     "output_type": "stream",
     "text": [
      "\r",
      "     11/100         0G      1.539      1.616      1.495        129        640:  61%|██████    | 17/28 [24:44<15:23, 83.92s/it]"
     ]
    },
    {
     "name": "stderr",
     "output_type": "stream",
     "text": [
      "\r",
      "     11/100         0G      1.539      1.616      1.495        129        640:  64%|██████▍   | 18/28 [24:44<13:58, 83.87s/it]"
     ]
    },
    {
     "name": "stderr",
     "output_type": "stream",
     "text": [
      "\r",
      "     11/100         0G      1.533      1.598      1.489        206        640:  64%|██████▍   | 18/28 [26:04<13:58, 83.87s/it]"
     ]
    },
    {
     "name": "stderr",
     "output_type": "stream",
     "text": [
      "\r",
      "     11/100         0G      1.533      1.598      1.489        206        640:  68%|██████▊   | 19/28 [26:04<12:25, 82.88s/it]"
     ]
    },
    {
     "name": "stderr",
     "output_type": "stream",
     "text": [
      "\r",
      "     11/100         0G      1.535      1.602      1.489        142        640:  68%|██████▊   | 19/28 [27:26<12:25, 82.88s/it]"
     ]
    },
    {
     "name": "stderr",
     "output_type": "stream",
     "text": [
      "\r",
      "     11/100         0G      1.535      1.602      1.489        142        640:  71%|███████▏  | 20/28 [27:26<11:00, 82.53s/it]"
     ]
    },
    {
     "name": "stderr",
     "output_type": "stream",
     "text": [
      "\r",
      "     11/100         0G      1.533      1.592      1.481        225        640:  71%|███████▏  | 20/28 [28:46<11:00, 82.53s/it]"
     ]
    },
    {
     "name": "stderr",
     "output_type": "stream",
     "text": [
      "\r",
      "     11/100         0G      1.533      1.592      1.481        225        640:  75%|███████▌  | 21/28 [28:46<09:32, 81.78s/it]"
     ]
    },
    {
     "name": "stderr",
     "output_type": "stream",
     "text": [
      "\r",
      "     11/100         0G      1.533      1.593       1.48        134        640:  75%|███████▌  | 21/28 [30:07<09:32, 81.78s/it]"
     ]
    },
    {
     "name": "stderr",
     "output_type": "stream",
     "text": [
      "\r",
      "     11/100         0G      1.533      1.593       1.48        134        640:  79%|███████▊  | 22/28 [30:07<08:10, 81.69s/it]"
     ]
    },
    {
     "name": "stderr",
     "output_type": "stream",
     "text": [
      "\r",
      "     11/100         0G      1.533      1.584      1.475        251        640:  79%|███████▊  | 22/28 [31:30<08:10, 81.69s/it]"
     ]
    },
    {
     "name": "stderr",
     "output_type": "stream",
     "text": [
      "\r",
      "     11/100         0G      1.533      1.584      1.475        251        640:  82%|████████▏ | 23/28 [31:30<06:49, 81.88s/it]"
     ]
    },
    {
     "name": "stderr",
     "output_type": "stream",
     "text": [
      "\r",
      "     11/100         0G      1.532      1.594      1.476        141        640:  82%|████████▏ | 23/28 [32:52<06:49, 81.88s/it]"
     ]
    },
    {
     "name": "stderr",
     "output_type": "stream",
     "text": [
      "\r",
      "     11/100         0G      1.532      1.594      1.476        141        640:  86%|████████▌ | 24/28 [32:52<05:27, 81.93s/it]"
     ]
    },
    {
     "name": "stderr",
     "output_type": "stream",
     "text": [
      "\r",
      "     11/100         0G      1.531      1.583      1.472        198        640:  86%|████████▌ | 24/28 [34:11<05:27, 81.93s/it]"
     ]
    },
    {
     "name": "stderr",
     "output_type": "stream",
     "text": [
      "\r",
      "     11/100         0G      1.531      1.583      1.472        198        640:  89%|████████▉ | 25/28 [34:11<04:03, 81.16s/it]"
     ]
    },
    {
     "name": "stderr",
     "output_type": "stream",
     "text": [
      "\r",
      "     11/100         0G      1.531      1.586      1.471        217        640:  89%|████████▉ | 25/28 [35:31<04:03, 81.16s/it]"
     ]
    },
    {
     "name": "stderr",
     "output_type": "stream",
     "text": [
      "\r",
      "     11/100         0G      1.531      1.586      1.471        217        640:  93%|█████████▎| 26/28 [35:31<02:41, 80.90s/it]"
     ]
    },
    {
     "name": "stderr",
     "output_type": "stream",
     "text": [
      "\r",
      "     11/100         0G      1.535      1.592       1.47        209        640:  93%|█████████▎| 26/28 [36:53<02:41, 80.90s/it]"
     ]
    },
    {
     "name": "stderr",
     "output_type": "stream",
     "text": [
      "\r",
      "     11/100         0G      1.535      1.592       1.47        209        640:  96%|█████████▋| 27/28 [36:53<01:20, 80.99s/it]"
     ]
    },
    {
     "name": "stderr",
     "output_type": "stream",
     "text": [
      "\r",
      "     11/100         0G      1.537      1.595      1.469        172        640:  96%|█████████▋| 27/28 [38:08<01:20, 80.99s/it]"
     ]
    },
    {
     "name": "stderr",
     "output_type": "stream",
     "text": [
      "\r",
      "     11/100         0G      1.537      1.595      1.469        172        640: 100%|██████████| 28/28 [38:08<00:00, 79.21s/it]"
     ]
    },
    {
     "name": "stderr",
     "output_type": "stream",
     "text": [
      "\r",
      "     11/100         0G      1.537      1.595      1.469        172        640: 100%|██████████| 28/28 [38:08<00:00, 81.72s/it]"
     ]
    },
    {
     "name": "stderr",
     "output_type": "stream",
     "text": [
      "\n"
     ]
    },
    {
     "name": "stderr",
     "output_type": "stream",
     "text": [
      "\r",
      "                 Class     Images  Instances      Box(P          R      mAP50  mAP50-95):   0%|          | 0/3 [00:00<?, ?it/s]"
     ]
    },
    {
     "name": "stderr",
     "output_type": "stream",
     "text": [
      "\r",
      "                 Class     Images  Instances      Box(P          R      mAP50  mAP50-95):  33%|███▎      | 1/3 [00:55<01:50, 55.24s/it]"
     ]
    },
    {
     "name": "stderr",
     "output_type": "stream",
     "text": [
      "\r",
      "                 Class     Images  Instances      Box(P          R      mAP50  mAP50-95):  67%|██████▋   | 2/3 [01:56<00:58, 58.53s/it]"
     ]
    },
    {
     "name": "stderr",
     "output_type": "stream",
     "text": [
      "\r",
      "                 Class     Images  Instances      Box(P          R      mAP50  mAP50-95): 100%|██████████| 3/3 [02:36<00:00, 50.06s/it]"
     ]
    },
    {
     "name": "stderr",
     "output_type": "stream",
     "text": [
      "\r",
      "                 Class     Images  Instances      Box(P          R      mAP50  mAP50-95): 100%|██████████| 3/3 [02:36<00:00, 52.02s/it]"
     ]
    },
    {
     "name": "stdout",
     "output_type": "stream",
     "text": [
      "                   all         89        672      0.553      0.457      0.467      0.241\n"
     ]
    },
    {
     "name": "stderr",
     "output_type": "stream",
     "text": [
      "\n"
     ]
    },
    {
     "name": "stdout",
     "output_type": "stream",
     "text": [
      "\n",
      "      Epoch    GPU_mem   box_loss   cls_loss   dfl_loss  Instances       Size\n"
     ]
    },
    {
     "name": "stderr",
     "output_type": "stream",
     "text": [
      "\r",
      "  0%|          | 0/28 [00:00<?, ?it/s]"
     ]
    },
    {
     "name": "stderr",
     "output_type": "stream",
     "text": [
      "\r",
      "     12/100         0G      1.628      1.442      1.483        258        640:   0%|          | 0/28 [01:21<?, ?it/s]"
     ]
    },
    {
     "name": "stderr",
     "output_type": "stream",
     "text": [
      "\r",
      "     12/100         0G      1.628      1.442      1.483        258        640:   4%|▎         | 1/28 [01:21<36:50, 81.87s/it]"
     ]
    },
    {
     "name": "stderr",
     "output_type": "stream",
     "text": [
      "\r",
      "     12/100         0G      1.622      1.593      1.467        166        640:   4%|▎         | 1/28 [02:42<36:50, 81.87s/it]"
     ]
    },
    {
     "name": "stderr",
     "output_type": "stream",
     "text": [
      "\r",
      "     12/100         0G      1.622      1.593      1.467        166        640:   7%|▋         | 2/28 [02:42<35:10, 81.18s/it]"
     ]
    },
    {
     "name": "stderr",
     "output_type": "stream",
     "text": [
      "\r",
      "     12/100         0G       1.66      1.579      1.466        200        640:   7%|▋         | 2/28 [04:03<35:10, 81.18s/it]"
     ]
    },
    {
     "name": "stderr",
     "output_type": "stream",
     "text": [
      "\r",
      "     12/100         0G       1.66      1.579      1.466        200        640:  11%|█         | 3/28 [04:03<33:51, 81.26s/it]"
     ]
    },
    {
     "name": "stderr",
     "output_type": "stream",
     "text": [
      "\r",
      "     12/100         0G      1.628      1.594      1.466        131        640:  11%|█         | 3/28 [05:25<33:51, 81.26s/it]"
     ]
    },
    {
     "name": "stderr",
     "output_type": "stream",
     "text": [
      "\r",
      "     12/100         0G      1.628      1.594      1.466        131        640:  14%|█▍        | 4/28 [05:25<32:32, 81.37s/it]"
     ]
    },
    {
     "name": "stderr",
     "output_type": "stream",
     "text": [
      "\r",
      "     12/100         0G      1.576      1.555      1.452        186        640:  14%|█▍        | 4/28 [06:49<32:32, 81.37s/it]"
     ]
    },
    {
     "name": "stderr",
     "output_type": "stream",
     "text": [
      "\r",
      "     12/100         0G      1.576      1.555      1.452        186        640:  18%|█▊        | 5/28 [06:49<31:37, 82.51s/it]"
     ]
    },
    {
     "name": "stderr",
     "output_type": "stream",
     "text": [
      "\r",
      "     12/100         0G      1.547       1.54      1.447        148        640:  18%|█▊        | 5/28 [08:12<31:37, 82.51s/it]"
     ]
    },
    {
     "name": "stderr",
     "output_type": "stream",
     "text": [
      "\r",
      "     12/100         0G      1.547       1.54      1.447        148        640:  21%|██▏       | 6/28 [08:12<30:13, 82.42s/it]"
     ]
    },
    {
     "name": "stderr",
     "output_type": "stream",
     "text": [
      "\r",
      "     12/100         0G       1.55      1.591      1.455        157        640:  21%|██▏       | 6/28 [09:39<30:13, 82.42s/it]"
     ]
    },
    {
     "name": "stderr",
     "output_type": "stream",
     "text": [
      "\r",
      "     12/100         0G       1.55      1.591      1.455        157        640:  25%|██▌       | 7/28 [09:39<29:21, 83.88s/it]"
     ]
    },
    {
     "name": "stderr",
     "output_type": "stream",
     "text": [
      "\r",
      "     12/100         0G      1.564      1.601      1.465        171        640:  25%|██▌       | 7/28 [11:02<29:21, 83.88s/it]"
     ]
    },
    {
     "name": "stderr",
     "output_type": "stream",
     "text": [
      "\r",
      "     12/100         0G      1.564      1.601      1.465        171        640:  29%|██▊       | 8/28 [11:02<27:53, 83.70s/it]"
     ]
    },
    {
     "name": "stderr",
     "output_type": "stream",
     "text": [
      "\r",
      "     12/100         0G      1.555      1.587      1.458        206        640:  29%|██▊       | 8/28 [12:21<27:53, 83.70s/it]"
     ]
    },
    {
     "name": "stderr",
     "output_type": "stream",
     "text": [
      "\r",
      "     12/100         0G      1.555      1.587      1.458        206        640:  32%|███▏      | 9/28 [12:21<26:04, 82.36s/it]"
     ]
    },
    {
     "name": "stderr",
     "output_type": "stream",
     "text": [
      "\r",
      "     12/100         0G      1.534      1.584       1.45        129        640:  32%|███▏      | 9/28 [13:44<26:04, 82.36s/it]"
     ]
    },
    {
     "name": "stderr",
     "output_type": "stream",
     "text": [
      "\r",
      "     12/100         0G      1.534      1.584       1.45        129        640:  36%|███▌      | 10/28 [13:44<24:42, 82.36s/it]"
     ]
    },
    {
     "name": "stderr",
     "output_type": "stream",
     "text": [
      "\r",
      "     12/100         0G      1.522      1.577      1.441        137        640:  36%|███▌      | 10/28 [15:04<24:42, 82.36s/it]"
     ]
    },
    {
     "name": "stderr",
     "output_type": "stream",
     "text": [
      "\r",
      "     12/100         0G      1.522      1.577      1.441        137        640:  39%|███▉      | 11/28 [15:04<23:11, 81.86s/it]"
     ]
    },
    {
     "name": "stderr",
     "output_type": "stream",
     "text": [
      "\r",
      "     12/100         0G      1.514      1.571      1.437        160        640:  39%|███▉      | 11/28 [16:26<23:11, 81.86s/it]"
     ]
    },
    {
     "name": "stderr",
     "output_type": "stream",
     "text": [
      "\r",
      "     12/100         0G      1.514      1.571      1.437        160        640:  43%|████▎     | 12/28 [16:26<21:50, 81.89s/it]"
     ]
    },
    {
     "name": "stderr",
     "output_type": "stream",
     "text": [
      "\r",
      "     12/100         0G       1.53      1.629      1.461         75        640:  43%|████▎     | 12/28 [17:46<21:50, 81.89s/it]"
     ]
    },
    {
     "name": "stderr",
     "output_type": "stream",
     "text": [
      "\r",
      "     12/100         0G       1.53      1.629      1.461         75        640:  46%|████▋     | 13/28 [17:46<20:16, 81.09s/it]"
     ]
    },
    {
     "name": "stderr",
     "output_type": "stream",
     "text": [
      "\r",
      "     12/100         0G      1.524      1.623       1.46        181        640:  46%|████▋     | 13/28 [19:08<20:16, 81.09s/it]"
     ]
    },
    {
     "name": "stderr",
     "output_type": "stream",
     "text": [
      "\r",
      "     12/100         0G      1.524      1.623       1.46        181        640:  50%|█████     | 14/28 [19:08<19:01, 81.57s/it]"
     ]
    },
    {
     "name": "stderr",
     "output_type": "stream",
     "text": [
      "\r",
      "     12/100         0G      1.524      1.603       1.46        178        640:  50%|█████     | 14/28 [20:29<19:01, 81.57s/it]"
     ]
    },
    {
     "name": "stderr",
     "output_type": "stream",
     "text": [
      "\r",
      "     12/100         0G      1.524      1.603       1.46        178        640:  54%|█████▎    | 15/28 [20:29<17:37, 81.38s/it]"
     ]
    },
    {
     "name": "stderr",
     "output_type": "stream",
     "text": [
      "\r",
      "     12/100         0G      1.515      1.586      1.454        182        640:  54%|█████▎    | 15/28 [21:52<17:37, 81.38s/it]"
     ]
    },
    {
     "name": "stderr",
     "output_type": "stream",
     "text": [
      "\r",
      "     12/100         0G      1.515      1.586      1.454        182        640:  57%|█████▋    | 16/28 [21:52<16:20, 81.73s/it]"
     ]
    },
    {
     "name": "stderr",
     "output_type": "stream",
     "text": [
      "\r",
      "     12/100         0G      1.512       1.59      1.453        115        640:  57%|█████▋    | 16/28 [23:11<16:20, 81.73s/it]"
     ]
    },
    {
     "name": "stderr",
     "output_type": "stream",
     "text": [
      "\r",
      "     12/100         0G      1.512       1.59      1.453        115        640:  61%|██████    | 17/28 [23:11<14:50, 80.97s/it]"
     ]
    },
    {
     "name": "stderr",
     "output_type": "stream",
     "text": [
      "\r",
      "     12/100         0G      1.506      1.584      1.449        140        640:  61%|██████    | 17/28 [24:33<14:50, 80.97s/it]"
     ]
    },
    {
     "name": "stderr",
     "output_type": "stream",
     "text": [
      "\r",
      "     12/100         0G      1.506      1.584      1.449        140        640:  64%|██████▍   | 18/28 [24:33<13:33, 81.31s/it]"
     ]
    },
    {
     "name": "stderr",
     "output_type": "stream",
     "text": [
      "\r",
      "     12/100         0G      1.506      1.572      1.453        182        640:  64%|██████▍   | 18/28 [25:55<13:33, 81.31s/it]"
     ]
    },
    {
     "name": "stderr",
     "output_type": "stream",
     "text": [
      "\r",
      "     12/100         0G      1.506      1.572      1.453        182        640:  68%|██████▊   | 19/28 [25:55<12:12, 81.34s/it]"
     ]
    },
    {
     "name": "stderr",
     "output_type": "stream",
     "text": [
      "\r",
      "     12/100         0G      1.512      1.583      1.456        162        640:  68%|██████▊   | 19/28 [27:18<12:12, 81.34s/it]"
     ]
    },
    {
     "name": "stderr",
     "output_type": "stream",
     "text": [
      "\r",
      "     12/100         0G      1.512      1.583      1.456        162        640:  71%|███████▏  | 20/28 [27:18<10:54, 81.85s/it]"
     ]
    },
    {
     "name": "stderr",
     "output_type": "stream",
     "text": [
      "\r",
      "     12/100         0G      1.519      1.581       1.46        159        640:  71%|███████▏  | 20/28 [28:37<10:54, 81.85s/it]"
     ]
    },
    {
     "name": "stderr",
     "output_type": "stream",
     "text": [
      "\r",
      "     12/100         0G      1.519      1.581       1.46        159        640:  75%|███████▌  | 21/28 [28:37<09:27, 81.10s/it]"
     ]
    },
    {
     "name": "stderr",
     "output_type": "stream",
     "text": [
      "\r",
      "     12/100         0G       1.52       1.58      1.464        166        640:  75%|███████▌  | 21/28 [29:58<09:27, 81.10s/it]"
     ]
    },
    {
     "name": "stderr",
     "output_type": "stream",
     "text": [
      "\r",
      "     12/100         0G       1.52       1.58      1.464        166        640:  79%|███████▊  | 22/28 [29:58<08:06, 81.01s/it]"
     ]
    },
    {
     "name": "stderr",
     "output_type": "stream",
     "text": [
      "\r",
      "     12/100         0G      1.517      1.579      1.461        166        640:  79%|███████▊  | 22/28 [31:18<08:06, 81.01s/it]"
     ]
    },
    {
     "name": "stderr",
     "output_type": "stream",
     "text": [
      "\r",
      "     12/100         0G      1.517      1.579      1.461        166        640:  82%|████████▏ | 23/28 [31:18<06:43, 80.76s/it]"
     ]
    },
    {
     "name": "stderr",
     "output_type": "stream",
     "text": [
      "\r",
      "     12/100         0G      1.522      1.587      1.469        133        640:  82%|████████▏ | 23/28 [32:38<06:43, 80.76s/it]"
     ]
    },
    {
     "name": "stderr",
     "output_type": "stream",
     "text": [
      "\r",
      "     12/100         0G      1.522      1.587      1.469        133        640:  86%|████████▌ | 24/28 [32:38<05:22, 80.63s/it]"
     ]
    },
    {
     "name": "stderr",
     "output_type": "stream",
     "text": [
      "\r",
      "     12/100         0G      1.522      1.587      1.469        147        640:  86%|████████▌ | 24/28 [33:58<05:22, 80.63s/it]"
     ]
    },
    {
     "name": "stderr",
     "output_type": "stream",
     "text": [
      "\r",
      "     12/100         0G      1.522      1.587      1.469        147        640:  89%|████████▉ | 25/28 [33:58<04:01, 80.34s/it]"
     ]
    },
    {
     "name": "stderr",
     "output_type": "stream",
     "text": [
      "\r",
      "     12/100         0G      1.527       1.59      1.478        124        640:  89%|████████▉ | 25/28 [35:18<04:01, 80.34s/it]"
     ]
    },
    {
     "name": "stderr",
     "output_type": "stream",
     "text": [
      "\r",
      "     12/100         0G      1.527       1.59      1.478        124        640:  93%|█████████▎| 26/28 [35:18<02:40, 80.38s/it]"
     ]
    },
    {
     "name": "stderr",
     "output_type": "stream",
     "text": [
      "\r",
      "     12/100         0G      1.526      1.582      1.473        180        640:  93%|█████████▎| 26/28 [36:47<02:40, 80.38s/it]"
     ]
    },
    {
     "name": "stderr",
     "output_type": "stream",
     "text": [
      "\r",
      "     12/100         0G      1.526      1.582      1.473        180        640:  96%|█████████▋| 27/28 [36:47<01:22, 82.94s/it]"
     ]
    },
    {
     "name": "stderr",
     "output_type": "stream",
     "text": [
      "\r",
      "     12/100         0G      1.524      1.587      1.473        158        640:  96%|█████████▋| 27/28 [38:06<01:22, 82.94s/it]"
     ]
    },
    {
     "name": "stderr",
     "output_type": "stream",
     "text": [
      "\r",
      "     12/100         0G      1.524      1.587      1.473        158        640: 100%|██████████| 28/28 [38:06<00:00, 81.69s/it]"
     ]
    },
    {
     "name": "stderr",
     "output_type": "stream",
     "text": [
      "\r",
      "     12/100         0G      1.524      1.587      1.473        158        640: 100%|██████████| 28/28 [38:06<00:00, 81.66s/it]"
     ]
    },
    {
     "name": "stderr",
     "output_type": "stream",
     "text": [
      "\n"
     ]
    },
    {
     "name": "stderr",
     "output_type": "stream",
     "text": [
      "\r",
      "                 Class     Images  Instances      Box(P          R      mAP50  mAP50-95):   0%|          | 0/3 [00:00<?, ?it/s]"
     ]
    },
    {
     "name": "stderr",
     "output_type": "stream",
     "text": [
      "\r",
      "                 Class     Images  Instances      Box(P          R      mAP50  mAP50-95):  33%|███▎      | 1/3 [00:52<01:45, 52.56s/it]"
     ]
    },
    {
     "name": "stderr",
     "output_type": "stream",
     "text": [
      "\r",
      "                 Class     Images  Instances      Box(P          R      mAP50  mAP50-95):  67%|██████▋   | 2/3 [01:44<00:52, 52.34s/it]"
     ]
    },
    {
     "name": "stderr",
     "output_type": "stream",
     "text": [
      "\r",
      "                 Class     Images  Instances      Box(P          R      mAP50  mAP50-95): 100%|██████████| 3/3 [02:25<00:00, 46.96s/it]"
     ]
    },
    {
     "name": "stderr",
     "output_type": "stream",
     "text": [
      "\r",
      "                 Class     Images  Instances      Box(P          R      mAP50  mAP50-95): 100%|██████████| 3/3 [02:25<00:00, 48.44s/it]"
     ]
    },
    {
     "name": "stdout",
     "output_type": "stream",
     "text": [
      "                   all         89        672      0.528      0.424      0.425       0.23\n"
     ]
    },
    {
     "name": "stderr",
     "output_type": "stream",
     "text": [
      "\n"
     ]
    },
    {
     "name": "stdout",
     "output_type": "stream",
     "text": [
      "\n",
      "      Epoch    GPU_mem   box_loss   cls_loss   dfl_loss  Instances       Size\n"
     ]
    },
    {
     "name": "stderr",
     "output_type": "stream",
     "text": [
      "\r",
      "  0%|          | 0/28 [00:00<?, ?it/s]"
     ]
    },
    {
     "name": "stderr",
     "output_type": "stream",
     "text": [
      "\r",
      "     13/100         0G       1.59      1.455      1.484        192        640:   0%|          | 0/28 [01:21<?, ?it/s]"
     ]
    },
    {
     "name": "stderr",
     "output_type": "stream",
     "text": [
      "\r",
      "     13/100         0G       1.59      1.455      1.484        192        640:   4%|▎         | 1/28 [01:21<36:38, 81.43s/it]"
     ]
    },
    {
     "name": "stderr",
     "output_type": "stream",
     "text": [
      "\r",
      "     13/100         0G        1.5      1.436      1.459        213        640:   4%|▎         | 1/28 [02:44<36:38, 81.43s/it]"
     ]
    },
    {
     "name": "stderr",
     "output_type": "stream",
     "text": [
      "\r",
      "     13/100         0G        1.5      1.436      1.459        213        640:   7%|▋         | 2/28 [02:44<35:43, 82.45s/it]"
     ]
    },
    {
     "name": "stderr",
     "output_type": "stream",
     "text": [
      "\r",
      "     13/100         0G      1.483      1.391      1.448        159        640:   7%|▋         | 2/28 [04:06<35:43, 82.45s/it]"
     ]
    },
    {
     "name": "stderr",
     "output_type": "stream",
     "text": [
      "\r",
      "     13/100         0G      1.483      1.391      1.448        159        640:  11%|█         | 3/28 [04:06<34:13, 82.12s/it]"
     ]
    },
    {
     "name": "stderr",
     "output_type": "stream",
     "text": [
      "\r",
      "     13/100         0G      1.455      1.354      1.431        194        640:  11%|█         | 3/28 [05:28<34:13, 82.12s/it]"
     ]
    },
    {
     "name": "stderr",
     "output_type": "stream",
     "text": [
      "\r",
      "     13/100         0G      1.455      1.354      1.431        194        640:  14%|█▍        | 4/28 [05:28<32:53, 82.23s/it]"
     ]
    },
    {
     "name": "stderr",
     "output_type": "stream",
     "text": [
      "\r",
      "     13/100         0G      1.451      1.416      1.451         92        640:  14%|█▍        | 4/28 [06:55<32:53, 82.23s/it]"
     ]
    },
    {
     "name": "stderr",
     "output_type": "stream",
     "text": [
      "\r",
      "     13/100         0G      1.451      1.416      1.451         92        640:  18%|█▊        | 5/28 [06:55<32:06, 83.78s/it]"
     ]
    },
    {
     "name": "stderr",
     "output_type": "stream",
     "text": [
      "\r",
      "     13/100         0G      1.457       1.44      1.459        121        640:  18%|█▊        | 5/28 [08:19<32:06, 83.78s/it]"
     ]
    },
    {
     "name": "stderr",
     "output_type": "stream",
     "text": [
      "\r",
      "     13/100         0G      1.457       1.44      1.459        121        640:  21%|██▏       | 6/28 [08:19<30:45, 83.89s/it]"
     ]
    },
    {
     "name": "stderr",
     "output_type": "stream",
     "text": [
      "\r",
      "     13/100         0G       1.47      1.467      1.471        114        640:  21%|██▏       | 6/28 [09:41<30:45, 83.89s/it]"
     ]
    },
    {
     "name": "stderr",
     "output_type": "stream",
     "text": [
      "\r",
      "     13/100         0G       1.47      1.467      1.471        114        640:  25%|██▌       | 7/28 [09:41<29:11, 83.42s/it]"
     ]
    },
    {
     "name": "stderr",
     "output_type": "stream",
     "text": [
      "\r",
      "     13/100         0G      1.478      1.461       1.47        152        640:  25%|██▌       | 7/28 [11:03<29:11, 83.42s/it]"
     ]
    },
    {
     "name": "stderr",
     "output_type": "stream",
     "text": [
      "\r",
      "     13/100         0G      1.478      1.461       1.47        152        640:  29%|██▊       | 8/28 [11:03<27:37, 82.87s/it]"
     ]
    },
    {
     "name": "stderr",
     "output_type": "stream",
     "text": [
      "\r",
      "     13/100         0G      1.482      1.441      1.469        149        640:  29%|██▊       | 8/28 [12:22<27:37, 82.87s/it]"
     ]
    },
    {
     "name": "stderr",
     "output_type": "stream",
     "text": [
      "\r",
      "     13/100         0G      1.482      1.441      1.469        149        640:  32%|███▏      | 9/28 [12:22<25:52, 81.71s/it]"
     ]
    },
    {
     "name": "stderr",
     "output_type": "stream",
     "text": [
      "\r",
      "     13/100         0G      1.485      1.432       1.46        188        640:  32%|███▏      | 9/28 [13:48<25:52, 81.71s/it]"
     ]
    },
    {
     "name": "stderr",
     "output_type": "stream",
     "text": [
      "\r",
      "     13/100         0G      1.485      1.432       1.46        188        640:  36%|███▌      | 10/28 [13:48<24:54, 83.00s/it]"
     ]
    },
    {
     "name": "stderr",
     "output_type": "stream",
     "text": [
      "\r",
      "     13/100         0G      1.488      1.442      1.457        169        640:  36%|███▌      | 10/28 [15:09<24:54, 83.00s/it]"
     ]
    },
    {
     "name": "stderr",
     "output_type": "stream",
     "text": [
      "\r",
      "     13/100         0G      1.488      1.442      1.457        169        640:  39%|███▉      | 11/28 [15:09<23:21, 82.47s/it]"
     ]
    },
    {
     "name": "stderr",
     "output_type": "stream",
     "text": [
      "\r",
      "     13/100         0G      1.485      1.467      1.457        193        640:  39%|███▉      | 11/28 [16:31<23:21, 82.47s/it]"
     ]
    },
    {
     "name": "stderr",
     "output_type": "stream",
     "text": [
      "\r",
      "     13/100         0G      1.485      1.467      1.457        193        640:  43%|████▎     | 12/28 [16:31<21:54, 82.15s/it]"
     ]
    },
    {
     "name": "stderr",
     "output_type": "stream",
     "text": [
      "\r",
      "     13/100         0G      1.473      1.467      1.453        176        640:  43%|████▎     | 12/28 [17:57<21:54, 82.15s/it]"
     ]
    },
    {
     "name": "stderr",
     "output_type": "stream",
     "text": [
      "\r",
      "     13/100         0G      1.473      1.467      1.453        176        640:  46%|████▋     | 13/28 [17:57<20:52, 83.49s/it]"
     ]
    },
    {
     "name": "stderr",
     "output_type": "stream",
     "text": [
      "\r",
      "     13/100         0G      1.491      1.485      1.458        173        640:  46%|████▋     | 13/28 [19:21<20:52, 83.49s/it]"
     ]
    },
    {
     "name": "stderr",
     "output_type": "stream",
     "text": [
      "\r",
      "     13/100         0G      1.491      1.485      1.458        173        640:  50%|█████     | 14/28 [19:21<19:31, 83.64s/it]"
     ]
    },
    {
     "name": "stderr",
     "output_type": "stream",
     "text": [
      "\r",
      "     13/100         0G      1.487      1.485      1.452        142        640:  50%|█████     | 14/28 [20:42<19:31, 83.64s/it]"
     ]
    },
    {
     "name": "stderr",
     "output_type": "stream",
     "text": [
      "\r",
      "     13/100         0G      1.487      1.485      1.452        142        640:  54%|█████▎    | 15/28 [20:42<17:57, 82.89s/it]"
     ]
    },
    {
     "name": "stderr",
     "output_type": "stream",
     "text": [
      "\r",
      "     13/100         0G      1.478      1.485      1.453        136        640:  54%|█████▎    | 15/28 [22:04<17:57, 82.89s/it]"
     ]
    },
    {
     "name": "stderr",
     "output_type": "stream",
     "text": [
      "\r",
      "     13/100         0G      1.478      1.485      1.453        136        640:  57%|█████▋    | 16/28 [22:04<16:28, 82.41s/it]"
     ]
    },
    {
     "name": "stderr",
     "output_type": "stream",
     "text": [
      "\r",
      "     13/100         0G      1.477      1.479      1.452        161        640:  57%|█████▋    | 16/28 [23:23<16:28, 82.41s/it]"
     ]
    },
    {
     "name": "stderr",
     "output_type": "stream",
     "text": [
      "\r",
      "     13/100         0G      1.477      1.479      1.452        161        640:  61%|██████    | 17/28 [23:23<14:56, 81.51s/it]"
     ]
    },
    {
     "name": "stderr",
     "output_type": "stream",
     "text": [
      "\r",
      "     13/100         0G      1.475      1.484      1.453        136        640:  61%|██████    | 17/28 [24:45<14:56, 81.51s/it]"
     ]
    },
    {
     "name": "stderr",
     "output_type": "stream",
     "text": [
      "\r",
      "     13/100         0G      1.475      1.484      1.453        136        640:  64%|██████▍   | 18/28 [24:45<13:34, 81.46s/it]"
     ]
    },
    {
     "name": "stderr",
     "output_type": "stream",
     "text": [
      "\r",
      "     13/100         0G      1.474      1.475      1.454        174        640:  64%|██████▍   | 18/28 [26:06<13:34, 81.46s/it]"
     ]
    },
    {
     "name": "stderr",
     "output_type": "stream",
     "text": [
      "\r",
      "     13/100         0G      1.474      1.475      1.454        174        640:  68%|██████▊   | 19/28 [26:06<12:12, 81.37s/it]"
     ]
    },
    {
     "name": "stderr",
     "output_type": "stream",
     "text": [
      "\r",
      "     13/100         0G      1.483      1.474      1.466        165        640:  68%|██████▊   | 19/28 [27:27<12:12, 81.37s/it]"
     ]
    },
    {
     "name": "stderr",
     "output_type": "stream",
     "text": [
      "\r",
      "     13/100         0G      1.483      1.474      1.466        165        640:  71%|███████▏  | 20/28 [27:27<10:51, 81.42s/it]"
     ]
    },
    {
     "name": "stderr",
     "output_type": "stream",
     "text": [
      "\r",
      "     13/100         0G      1.483      1.469      1.464        218        640:  71%|███████▏  | 20/28 [28:56<10:51, 81.42s/it]"
     ]
    },
    {
     "name": "stderr",
     "output_type": "stream",
     "text": [
      "\r",
      "     13/100         0G      1.483      1.469      1.464        218        640:  75%|███████▌  | 21/28 [28:56<09:45, 83.60s/it]"
     ]
    },
    {
     "name": "stderr",
     "output_type": "stream",
     "text": [
      "\r",
      "     13/100         0G      1.481      1.458      1.458        201        640:  75%|███████▌  | 21/28 [30:19<09:45, 83.60s/it]"
     ]
    },
    {
     "name": "stderr",
     "output_type": "stream",
     "text": [
      "\r",
      "     13/100         0G      1.481      1.458      1.458        201        640:  79%|███████▊  | 22/28 [30:19<08:19, 83.31s/it]"
     ]
    },
    {
     "name": "stderr",
     "output_type": "stream",
     "text": [
      "\r",
      "     13/100         0G      1.494      1.462      1.465        157        640:  79%|███████▊  | 22/28 [31:40<08:19, 83.31s/it]"
     ]
    },
    {
     "name": "stderr",
     "output_type": "stream",
     "text": [
      "\r",
      "     13/100         0G      1.494      1.462      1.465        157        640:  82%|████████▏ | 23/28 [31:40<06:54, 82.83s/it]"
     ]
    },
    {
     "name": "stderr",
     "output_type": "stream",
     "text": [
      "\r",
      "     13/100         0G      1.499      1.468      1.463        212        640:  82%|████████▏ | 23/28 [33:01<06:54, 82.83s/it]"
     ]
    },
    {
     "name": "stderr",
     "output_type": "stream",
     "text": [
      "\r",
      "     13/100         0G      1.499      1.468      1.463        212        640:  86%|████████▌ | 24/28 [33:01<05:29, 82.33s/it]"
     ]
    },
    {
     "name": "stderr",
     "output_type": "stream",
     "text": [
      "\r",
      "     13/100         0G      1.495      1.464       1.46        183        640:  86%|████████▌ | 24/28 [34:23<05:29, 82.33s/it]"
     ]
    },
    {
     "name": "stderr",
     "output_type": "stream",
     "text": [
      "\r",
      "     13/100         0G      1.495      1.464       1.46        183        640:  89%|████████▉ | 25/28 [34:23<04:06, 82.22s/it]"
     ]
    },
    {
     "name": "stderr",
     "output_type": "stream",
     "text": [
      "\r",
      "     13/100         0G      1.498      1.455      1.456        247        640:  89%|████████▉ | 25/28 [35:45<04:06, 82.22s/it]"
     ]
    },
    {
     "name": "stderr",
     "output_type": "stream",
     "text": [
      "\r",
      "     13/100         0G      1.498      1.455      1.456        247        640:  93%|█████████▎| 26/28 [35:45<02:44, 82.09s/it]"
     ]
    },
    {
     "name": "stderr",
     "output_type": "stream",
     "text": [
      "\r",
      "     13/100         0G        1.5      1.456      1.456        159        640:  93%|█████████▎| 26/28 [37:08<02:44, 82.09s/it]"
     ]
    },
    {
     "name": "stderr",
     "output_type": "stream",
     "text": [
      "\r",
      "     13/100         0G        1.5      1.456      1.456        159        640:  96%|█████████▋| 27/28 [37:08<01:22, 82.24s/it]"
     ]
    },
    {
     "name": "stderr",
     "output_type": "stream",
     "text": [
      "\r",
      "     13/100         0G      1.505      1.451      1.452        193        640:  96%|█████████▋| 27/28 [38:30<01:22, 82.24s/it]"
     ]
    },
    {
     "name": "stderr",
     "output_type": "stream",
     "text": [
      "\r",
      "     13/100         0G      1.505      1.451      1.452        193        640: 100%|██████████| 28/28 [38:30<00:00, 82.11s/it]"
     ]
    },
    {
     "name": "stderr",
     "output_type": "stream",
     "text": [
      "\r",
      "     13/100         0G      1.505      1.451      1.452        193        640: 100%|██████████| 28/28 [38:30<00:00, 82.50s/it]"
     ]
    },
    {
     "name": "stderr",
     "output_type": "stream",
     "text": [
      "\n"
     ]
    },
    {
     "name": "stderr",
     "output_type": "stream",
     "text": [
      "\r",
      "                 Class     Images  Instances      Box(P          R      mAP50  mAP50-95):   0%|          | 0/3 [00:00<?, ?it/s]"
     ]
    },
    {
     "name": "stderr",
     "output_type": "stream",
     "text": [
      "\r",
      "                 Class     Images  Instances      Box(P          R      mAP50  mAP50-95):  33%|███▎      | 1/3 [00:52<01:45, 52.68s/it]"
     ]
    },
    {
     "name": "stderr",
     "output_type": "stream",
     "text": [
      "\r",
      "                 Class     Images  Instances      Box(P          R      mAP50  mAP50-95):  67%|██████▋   | 2/3 [01:45<00:52, 52.56s/it]"
     ]
    },
    {
     "name": "stderr",
     "output_type": "stream",
     "text": [
      "\r",
      "                 Class     Images  Instances      Box(P          R      mAP50  mAP50-95): 100%|██████████| 3/3 [02:25<00:00, 46.86s/it]"
     ]
    },
    {
     "name": "stderr",
     "output_type": "stream",
     "text": [
      "\r",
      "                 Class     Images  Instances      Box(P          R      mAP50  mAP50-95): 100%|██████████| 3/3 [02:25<00:00, 48.41s/it]"
     ]
    },
    {
     "name": "stdout",
     "output_type": "stream",
     "text": [
      "                   all         89        672      0.698      0.407      0.464      0.254\n"
     ]
    },
    {
     "name": "stderr",
     "output_type": "stream",
     "text": [
      "\n"
     ]
    },
    {
     "name": "stdout",
     "output_type": "stream",
     "text": [
      "\n",
      "      Epoch    GPU_mem   box_loss   cls_loss   dfl_loss  Instances       Size\n"
     ]
    },
    {
     "name": "stderr",
     "output_type": "stream",
     "text": [
      "\r",
      "  0%|          | 0/28 [00:00<?, ?it/s]"
     ]
    },
    {
     "name": "stderr",
     "output_type": "stream",
     "text": [
      "\r",
      "     14/100         0G      1.588      1.515      1.499        187        640:   0%|          | 0/28 [01:25<?, ?it/s]"
     ]
    },
    {
     "name": "stderr",
     "output_type": "stream",
     "text": [
      "\r",
      "     14/100         0G      1.588      1.515      1.499        187        640:   4%|▎         | 1/28 [01:25<38:15, 85.03s/it]"
     ]
    },
    {
     "name": "stderr",
     "output_type": "stream",
     "text": [
      "\r",
      "     14/100         0G      1.586      1.407       1.45        188        640:   4%|▎         | 1/28 [02:45<38:15, 85.03s/it]"
     ]
    },
    {
     "name": "stderr",
     "output_type": "stream",
     "text": [
      "\r",
      "     14/100         0G      1.586      1.407       1.45        188        640:   7%|▋         | 2/28 [02:45<35:45, 82.52s/it]"
     ]
    },
    {
     "name": "stderr",
     "output_type": "stream",
     "text": [
      "\r",
      "     14/100         0G      1.536      1.442      1.473        143        640:   7%|▋         | 2/28 [04:06<35:45, 82.52s/it]"
     ]
    },
    {
     "name": "stderr",
     "output_type": "stream",
     "text": [
      "\r",
      "     14/100         0G      1.536      1.442      1.473        143        640:  11%|█         | 3/28 [04:06<34:05, 81.83s/it]"
     ]
    },
    {
     "name": "stderr",
     "output_type": "stream",
     "text": [
      "\r",
      "     14/100         0G      1.514      1.453      1.467        173        640:  11%|█         | 3/28 [05:28<34:05, 81.83s/it]"
     ]
    },
    {
     "name": "stderr",
     "output_type": "stream",
     "text": [
      "\r",
      "     14/100         0G      1.514      1.453      1.467        173        640:  14%|█▍        | 4/28 [05:28<32:40, 81.70s/it]"
     ]
    },
    {
     "name": "stderr",
     "output_type": "stream",
     "text": [
      "\r",
      "     14/100         0G      1.476      1.438      1.445        136        640:  14%|█▍        | 4/28 [06:47<32:40, 81.70s/it]"
     ]
    },
    {
     "name": "stderr",
     "output_type": "stream",
     "text": [
      "\r",
      "     14/100         0G      1.476      1.438      1.445        136        640:  18%|█▊        | 5/28 [06:47<30:55, 80.69s/it]"
     ]
    },
    {
     "name": "stderr",
     "output_type": "stream",
     "text": [
      "\r",
      "     14/100         0G      1.504      1.456      1.479        167        640:  18%|█▊        | 5/28 [08:17<30:55, 80.69s/it]"
     ]
    },
    {
     "name": "stderr",
     "output_type": "stream",
     "text": [
      "\r",
      "     14/100         0G      1.504      1.456      1.479        167        640:  21%|██▏       | 6/28 [08:17<30:44, 83.83s/it]"
     ]
    },
    {
     "name": "stderr",
     "output_type": "stream",
     "text": [
      "\r",
      "     14/100         0G      1.473      1.419      1.468        138        640:  21%|██▏       | 6/28 [09:39<30:44, 83.83s/it]"
     ]
    },
    {
     "name": "stderr",
     "output_type": "stream",
     "text": [
      "\r",
      "     14/100         0G      1.473      1.419      1.468        138        640:  25%|██▌       | 7/28 [09:39<29:07, 83.23s/it]"
     ]
    },
    {
     "name": "stderr",
     "output_type": "stream",
     "text": [
      "\r",
      "     14/100         0G      1.478      1.436      1.469        153        640:  25%|██▌       | 7/28 [11:01<29:07, 83.23s/it]"
     ]
    },
    {
     "name": "stderr",
     "output_type": "stream",
     "text": [
      "\r",
      "     14/100         0G      1.478      1.436      1.469        153        640:  29%|██▊       | 8/28 [11:01<27:36, 82.81s/it]"
     ]
    },
    {
     "name": "stderr",
     "output_type": "stream",
     "text": [
      "\r",
      "     14/100         0G      1.479      1.425      1.462        198        640:  29%|██▊       | 8/28 [12:20<27:36, 82.81s/it]"
     ]
    },
    {
     "name": "stderr",
     "output_type": "stream",
     "text": [
      "\r",
      "     14/100         0G      1.479      1.425      1.462        198        640:  32%|███▏      | 9/28 [12:20<25:56, 81.90s/it]"
     ]
    },
    {
     "name": "stderr",
     "output_type": "stream",
     "text": [
      "\r",
      "     14/100         0G      1.476      1.405      1.456        179        640:  32%|███▏      | 9/28 [13:43<25:56, 81.90s/it]"
     ]
    },
    {
     "name": "stderr",
     "output_type": "stream",
     "text": [
      "\r",
      "     14/100         0G      1.476      1.405      1.456        179        640:  36%|███▌      | 10/28 [13:43<24:36, 82.00s/it]"
     ]
    },
    {
     "name": "stderr",
     "output_type": "stream",
     "text": [
      "\r",
      "     14/100         0G      1.469       1.41       1.45        125        640:  36%|███▌      | 10/28 [15:03<24:36, 82.00s/it]"
     ]
    },
    {
     "name": "stderr",
     "output_type": "stream",
     "text": [
      "\r",
      "     14/100         0G      1.469       1.41       1.45        125        640:  39%|███▉      | 11/28 [15:03<23:05, 81.51s/it]"
     ]
    },
    {
     "name": "stderr",
     "output_type": "stream",
     "text": [
      "\r",
      "     14/100         0G      1.464      1.405       1.44        234        640:  39%|███▉      | 11/28 [16:25<23:05, 81.51s/it]"
     ]
    },
    {
     "name": "stderr",
     "output_type": "stream",
     "text": [
      "\r",
      "     14/100         0G      1.464      1.405       1.44        234        640:  43%|████▎     | 12/28 [16:25<21:46, 81.64s/it]"
     ]
    },
    {
     "name": "stderr",
     "output_type": "stream",
     "text": [
      "\r",
      "     14/100         0G      1.468      1.413      1.442        151        640:  43%|████▎     | 12/28 [17:45<21:46, 81.64s/it]"
     ]
    },
    {
     "name": "stderr",
     "output_type": "stream",
     "text": [
      "\r",
      "     14/100         0G      1.468      1.413      1.442        151        640:  46%|████▋     | 13/28 [17:45<20:15, 81.06s/it]"
     ]
    },
    {
     "name": "stderr",
     "output_type": "stream",
     "text": [
      "\r",
      "     14/100         0G       1.46      1.417      1.435        139        640:  46%|████▋     | 13/28 [19:05<20:15, 81.06s/it]"
     ]
    },
    {
     "name": "stderr",
     "output_type": "stream",
     "text": [
      "\r",
      "     14/100         0G       1.46      1.417      1.435        139        640:  50%|█████     | 14/28 [19:05<18:51, 80.85s/it]"
     ]
    },
    {
     "name": "stderr",
     "output_type": "stream",
     "text": [
      "\r",
      "     14/100         0G      1.459      1.425      1.437        219        640:  50%|█████     | 14/28 [20:26<18:51, 80.85s/it]"
     ]
    },
    {
     "name": "stderr",
     "output_type": "stream",
     "text": [
      "\r",
      "     14/100         0G      1.459      1.425      1.437        219        640:  54%|█████▎    | 15/28 [20:26<17:32, 80.97s/it]"
     ]
    },
    {
     "name": "stderr",
     "output_type": "stream",
     "text": [
      "\r",
      "     14/100         0G      1.463      1.426      1.441        177        640:  54%|█████▎    | 15/28 [21:50<17:32, 80.97s/it]"
     ]
    },
    {
     "name": "stderr",
     "output_type": "stream",
     "text": [
      "\r",
      "     14/100         0G      1.463      1.426      1.441        177        640:  57%|█████▋    | 16/28 [21:50<16:20, 81.69s/it]"
     ]
    },
    {
     "name": "stderr",
     "output_type": "stream",
     "text": [
      "\r",
      "     14/100         0G      1.458      1.421      1.437        214        640:  57%|█████▋    | 16/28 [23:10<16:20, 81.69s/it]"
     ]
    },
    {
     "name": "stderr",
     "output_type": "stream",
     "text": [
      "\r",
      "     14/100         0G      1.458      1.421      1.437        214        640:  61%|██████    | 17/28 [23:10<14:55, 81.40s/it]"
     ]
    },
    {
     "name": "stderr",
     "output_type": "stream",
     "text": [
      "\r",
      "     14/100         0G       1.46      1.422      1.436        183        640:  61%|██████    | 17/28 [24:32<14:55, 81.40s/it]"
     ]
    },
    {
     "name": "stderr",
     "output_type": "stream",
     "text": [
      "\r",
      "     14/100         0G       1.46      1.422      1.436        183        640:  64%|██████▍   | 18/28 [24:32<13:33, 81.40s/it]"
     ]
    },
    {
     "name": "stderr",
     "output_type": "stream",
     "text": [
      "\r",
      "     14/100         0G      1.462      1.415      1.434        232        640:  64%|██████▍   | 18/28 [25:53<13:33, 81.40s/it]"
     ]
    },
    {
     "name": "stderr",
     "output_type": "stream",
     "text": [
      "\r",
      "     14/100         0G      1.462      1.415      1.434        232        640:  68%|██████▊   | 19/28 [25:53<12:12, 81.35s/it]"
     ]
    },
    {
     "name": "stderr",
     "output_type": "stream",
     "text": [
      "\r",
      "     14/100         0G      1.469       1.42      1.439        160        640:  68%|██████▊   | 19/28 [27:14<12:12, 81.35s/it]"
     ]
    },
    {
     "name": "stderr",
     "output_type": "stream",
     "text": [
      "\r",
      "     14/100         0G      1.469       1.42      1.439        160        640:  71%|███████▏  | 20/28 [27:14<10:50, 81.28s/it]"
     ]
    },
    {
     "name": "stderr",
     "output_type": "stream",
     "text": [
      "\r",
      "     14/100         0G      1.466       1.41      1.433        245        640:  71%|███████▏  | 20/28 [28:34<10:50, 81.28s/it]"
     ]
    },
    {
     "name": "stderr",
     "output_type": "stream",
     "text": [
      "\r",
      "     14/100         0G      1.466       1.41      1.433        245        640:  75%|███████▌  | 21/28 [28:34<09:25, 80.79s/it]"
     ]
    },
    {
     "name": "stderr",
     "output_type": "stream",
     "text": [
      "\r",
      "     14/100         0G      1.472      1.412       1.44        162        640:  75%|███████▌  | 21/28 [29:56<09:25, 80.79s/it]"
     ]
    },
    {
     "name": "stderr",
     "output_type": "stream",
     "text": [
      "\r",
      "     14/100         0G      1.472      1.412       1.44        162        640:  79%|███████▊  | 22/28 [29:56<08:07, 81.32s/it]"
     ]
    },
    {
     "name": "stderr",
     "output_type": "stream",
     "text": [
      "\r",
      "     14/100         0G      1.476      1.413      1.445        175        640:  79%|███████▊  | 22/28 [31:16<08:07, 81.32s/it]"
     ]
    },
    {
     "name": "stderr",
     "output_type": "stream",
     "text": [
      "\r",
      "     14/100         0G      1.476      1.413      1.445        175        640:  82%|████████▏ | 23/28 [31:17<06:44, 80.97s/it]"
     ]
    },
    {
     "name": "stderr",
     "output_type": "stream",
     "text": [
      "\r",
      "     14/100         0G      1.471       1.41      1.442        212        640:  82%|████████▏ | 23/28 [32:38<06:44, 80.97s/it]"
     ]
    },
    {
     "name": "stderr",
     "output_type": "stream",
     "text": [
      "\r",
      "     14/100         0G      1.471       1.41      1.442        212        640:  86%|████████▌ | 24/28 [32:38<05:24, 81.04s/it]"
     ]
    },
    {
     "name": "stderr",
     "output_type": "stream",
     "text": [
      "\r",
      "     14/100         0G      1.469      1.409      1.441        127        640:  86%|████████▌ | 24/28 [33:56<05:24, 81.04s/it]"
     ]
    },
    {
     "name": "stderr",
     "output_type": "stream",
     "text": [
      "\r",
      "     14/100         0G      1.469      1.409      1.441        127        640:  89%|████████▉ | 25/28 [33:56<04:00, 80.29s/it]"
     ]
    },
    {
     "name": "stderr",
     "output_type": "stream",
     "text": [
      "\r",
      "     14/100         0G       1.47      1.408      1.438        224        640:  89%|████████▉ | 25/28 [35:18<04:00, 80.29s/it]"
     ]
    },
    {
     "name": "stderr",
     "output_type": "stream",
     "text": [
      "\r",
      "     14/100         0G       1.47      1.408      1.438        224        640:  93%|█████████▎| 26/28 [35:18<02:41, 80.60s/it]"
     ]
    },
    {
     "name": "stderr",
     "output_type": "stream",
     "text": [
      "\r",
      "     14/100         0G      1.469      1.413      1.438        158        640:  93%|█████████▎| 26/28 [36:38<02:41, 80.60s/it]"
     ]
    },
    {
     "name": "stderr",
     "output_type": "stream",
     "text": [
      "\r",
      "     14/100         0G      1.469      1.413      1.438        158        640:  96%|█████████▋| 27/28 [36:38<01:20, 80.67s/it]"
     ]
    },
    {
     "name": "stderr",
     "output_type": "stream",
     "text": [
      "\r",
      "     14/100         0G      1.463      1.415      1.434        144        640:  96%|█████████▋| 27/28 [37:58<01:20, 80.67s/it]"
     ]
    },
    {
     "name": "stderr",
     "output_type": "stream",
     "text": [
      "\r",
      "     14/100         0G      1.463      1.415      1.434        144        640: 100%|██████████| 28/28 [37:58<00:00, 80.30s/it]"
     ]
    },
    {
     "name": "stderr",
     "output_type": "stream",
     "text": [
      "\r",
      "     14/100         0G      1.463      1.415      1.434        144        640: 100%|██████████| 28/28 [37:58<00:00, 81.37s/it]"
     ]
    },
    {
     "name": "stderr",
     "output_type": "stream",
     "text": [
      "\n"
     ]
    },
    {
     "name": "stderr",
     "output_type": "stream",
     "text": [
      "\r",
      "                 Class     Images  Instances      Box(P          R      mAP50  mAP50-95):   0%|          | 0/3 [00:00<?, ?it/s]"
     ]
    },
    {
     "name": "stderr",
     "output_type": "stream",
     "text": [
      "\r",
      "                 Class     Images  Instances      Box(P          R      mAP50  mAP50-95):  33%|███▎      | 1/3 [00:52<01:45, 52.96s/it]"
     ]
    },
    {
     "name": "stderr",
     "output_type": "stream",
     "text": [
      "\r",
      "                 Class     Images  Instances      Box(P          R      mAP50  mAP50-95):  67%|██████▋   | 2/3 [01:45<00:52, 52.87s/it]"
     ]
    },
    {
     "name": "stderr",
     "output_type": "stream",
     "text": [
      "\r",
      "                 Class     Images  Instances      Box(P          R      mAP50  mAP50-95): 100%|██████████| 3/3 [02:26<00:00, 47.10s/it]"
     ]
    },
    {
     "name": "stderr",
     "output_type": "stream",
     "text": [
      "\r",
      "                 Class     Images  Instances      Box(P          R      mAP50  mAP50-95): 100%|██████████| 3/3 [02:26<00:00, 48.67s/it]"
     ]
    },
    {
     "name": "stdout",
     "output_type": "stream",
     "text": [
      "                   all         89        672       0.57      0.478      0.509       0.29\n"
     ]
    },
    {
     "name": "stderr",
     "output_type": "stream",
     "text": [
      "\n"
     ]
    },
    {
     "name": "stdout",
     "output_type": "stream",
     "text": [
      "\n",
      "      Epoch    GPU_mem   box_loss   cls_loss   dfl_loss  Instances       Size\n"
     ]
    },
    {
     "name": "stderr",
     "output_type": "stream",
     "text": [
      "\r",
      "  0%|          | 0/28 [00:00<?, ?it/s]"
     ]
    },
    {
     "name": "stderr",
     "output_type": "stream",
     "text": [
      "\r",
      "     15/100         0G      1.385      1.401      1.406        155        640:   0%|          | 0/28 [01:23<?, ?it/s]"
     ]
    },
    {
     "name": "stderr",
     "output_type": "stream",
     "text": [
      "\r",
      "     15/100         0G      1.385      1.401      1.406        155        640:   4%|▎         | 1/28 [01:23<37:41, 83.77s/it]"
     ]
    },
    {
     "name": "stderr",
     "output_type": "stream",
     "text": [
      "\r",
      "     15/100         0G       1.44      1.587      1.488         79        640:   4%|▎         | 1/28 [02:43<37:41, 83.77s/it]"
     ]
    },
    {
     "name": "stderr",
     "output_type": "stream",
     "text": [
      "\r",
      "     15/100         0G       1.44      1.587      1.488         79        640:   7%|▋         | 2/28 [02:43<35:22, 81.62s/it]"
     ]
    },
    {
     "name": "stderr",
     "output_type": "stream",
     "text": [
      "\r",
      "     15/100         0G      1.416      1.617      1.485        103        640:   7%|▋         | 2/28 [04:04<35:22, 81.62s/it]"
     ]
    },
    {
     "name": "stderr",
     "output_type": "stream",
     "text": [
      "\r",
      "     15/100         0G      1.416      1.617      1.485        103        640:  11%|█         | 3/28 [04:04<33:46, 81.06s/it]"
     ]
    },
    {
     "name": "stderr",
     "output_type": "stream",
     "text": [
      "\r",
      "     15/100         0G      1.414      1.535      1.463        154        640:  11%|█         | 3/28 [05:25<33:46, 81.06s/it]"
     ]
    },
    {
     "name": "stderr",
     "output_type": "stream",
     "text": [
      "\r",
      "     15/100         0G      1.414      1.535      1.463        154        640:  14%|█▍        | 4/28 [05:25<32:23, 80.97s/it]"
     ]
    },
    {
     "name": "stderr",
     "output_type": "stream",
     "text": [
      "\r",
      "     15/100         0G      1.421      1.573      1.459        127        640:  14%|█▍        | 4/28 [06:43<32:23, 80.97s/it]"
     ]
    },
    {
     "name": "stderr",
     "output_type": "stream",
     "text": [
      "\r",
      "     15/100         0G      1.421      1.573      1.459        127        640:  18%|█▊        | 5/28 [06:43<30:40, 80.04s/it]"
     ]
    },
    {
     "name": "stderr",
     "output_type": "stream",
     "text": [
      "\r",
      "     15/100         0G      1.422      1.536      1.446        185        640:  18%|█▊        | 5/28 [08:03<30:40, 80.04s/it]"
     ]
    },
    {
     "name": "stderr",
     "output_type": "stream",
     "text": [
      "\r",
      "     15/100         0G      1.422      1.536      1.446        185        640:  21%|██▏       | 6/28 [08:03<29:18, 79.95s/it]"
     ]
    },
    {
     "name": "stderr",
     "output_type": "stream",
     "text": [
      "\r",
      "     15/100         0G      1.421      1.518      1.454        180        640:  21%|██▏       | 6/28 [09:22<29:18, 79.95s/it]"
     ]
    },
    {
     "name": "stderr",
     "output_type": "stream",
     "text": [
      "\r",
      "     15/100         0G      1.421      1.518      1.454        180        640:  25%|██▌       | 7/28 [09:22<27:53, 79.71s/it]"
     ]
    },
    {
     "name": "stderr",
     "output_type": "stream",
     "text": [
      "\r",
      "     15/100         0G      1.416      1.535      1.462         81        640:  25%|██▌       | 7/28 [10:43<27:53, 79.71s/it]"
     ]
    },
    {
     "name": "stderr",
     "output_type": "stream",
     "text": [
      "\r",
      "     15/100         0G      1.416      1.535      1.462         81        640:  29%|██▊       | 8/28 [10:43<26:39, 79.98s/it]"
     ]
    },
    {
     "name": "stderr",
     "output_type": "stream",
     "text": [
      "\r",
      "     15/100         0G      1.433      1.547      1.462        153        640:  29%|██▊       | 8/28 [12:02<26:39, 79.98s/it]"
     ]
    },
    {
     "name": "stderr",
     "output_type": "stream",
     "text": [
      "\r",
      "     15/100         0G      1.433      1.547      1.462        153        640:  32%|███▏      | 9/28 [12:02<25:14, 79.73s/it]"
     ]
    },
    {
     "name": "stderr",
     "output_type": "stream",
     "text": [
      "\r",
      "     15/100         0G      1.434      1.545      1.456        137        640:  32%|███▏      | 9/28 [13:23<25:14, 79.73s/it]"
     ]
    },
    {
     "name": "stderr",
     "output_type": "stream",
     "text": [
      "\r",
      "     15/100         0G      1.434      1.545      1.456        137        640:  36%|███▌      | 10/28 [13:23<24:03, 80.21s/it]"
     ]
    },
    {
     "name": "stderr",
     "output_type": "stream",
     "text": [
      "\r",
      "     15/100         0G      1.444      1.547      1.464        141        640:  36%|███▌      | 10/28 [14:43<24:03, 80.21s/it]"
     ]
    },
    {
     "name": "stderr",
     "output_type": "stream",
     "text": [
      "\r",
      "     15/100         0G      1.444      1.547      1.464        141        640:  39%|███▉      | 11/28 [14:43<22:42, 80.17s/it]"
     ]
    },
    {
     "name": "stderr",
     "output_type": "stream",
     "text": [
      "\r",
      "     15/100         0G       1.45      1.547      1.461        181        640:  39%|███▉      | 11/28 [16:05<22:42, 80.17s/it]"
     ]
    },
    {
     "name": "stderr",
     "output_type": "stream",
     "text": [
      "\r",
      "     15/100         0G       1.45      1.547      1.461        181        640:  43%|████▎     | 12/28 [16:05<21:31, 80.73s/it]"
     ]
    },
    {
     "name": "stderr",
     "output_type": "stream",
     "text": [
      "\r",
      "     15/100         0G      1.456       1.55      1.466        166        640:  43%|████▎     | 12/28 [17:24<21:31, 80.73s/it]"
     ]
    },
    {
     "name": "stderr",
     "output_type": "stream",
     "text": [
      "\r",
      "     15/100         0G      1.456       1.55      1.466        166        640:  46%|████▋     | 13/28 [17:24<20:01, 80.08s/it]"
     ]
    },
    {
     "name": "stderr",
     "output_type": "stream",
     "text": [
      "\r",
      "     15/100         0G      1.461      1.553      1.461        191        640:  46%|████▋     | 13/28 [18:46<20:01, 80.08s/it]"
     ]
    },
    {
     "name": "stderr",
     "output_type": "stream",
     "text": [
      "\r",
      "     15/100         0G      1.461      1.553      1.461        191        640:  50%|█████     | 14/28 [18:46<18:49, 80.68s/it]"
     ]
    },
    {
     "name": "stderr",
     "output_type": "stream",
     "text": [
      "\r",
      "     15/100         0G      1.459       1.55      1.459        201        640:  50%|█████     | 14/28 [20:06<18:49, 80.68s/it]"
     ]
    },
    {
     "name": "stderr",
     "output_type": "stream",
     "text": [
      "\r",
      "     15/100         0G      1.459       1.55      1.459        201        640:  54%|█████▎    | 15/28 [20:06<17:28, 80.67s/it]"
     ]
    },
    {
     "name": "stderr",
     "output_type": "stream",
     "text": [
      "\r",
      "     15/100         0G      1.459      1.548      1.466        158        640:  54%|█████▎    | 15/28 [21:29<17:28, 80.67s/it]"
     ]
    },
    {
     "name": "stderr",
     "output_type": "stream",
     "text": [
      "\r",
      "     15/100         0G      1.459      1.548      1.466        158        640:  57%|█████▋    | 16/28 [21:29<16:15, 81.29s/it]"
     ]
    },
    {
     "name": "stderr",
     "output_type": "stream",
     "text": [
      "\r",
      "     15/100         0G      1.451      1.532      1.461        157        640:  57%|█████▋    | 16/28 [22:48<16:15, 81.29s/it]"
     ]
    },
    {
     "name": "stderr",
     "output_type": "stream",
     "text": [
      "\r",
      "     15/100         0G      1.451      1.532      1.461        157        640:  61%|██████    | 17/28 [22:48<14:46, 80.56s/it]"
     ]
    },
    {
     "name": "stderr",
     "output_type": "stream",
     "text": [
      "\r",
      "     15/100         0G      1.446      1.517      1.457        120        640:  61%|██████    | 17/28 [24:07<14:46, 80.56s/it]"
     ]
    },
    {
     "name": "stderr",
     "output_type": "stream",
     "text": [
      "\r",
      "     15/100         0G      1.446      1.517      1.457        120        640:  64%|██████▍   | 18/28 [24:07<13:22, 80.21s/it]"
     ]
    },
    {
     "name": "stderr",
     "output_type": "stream",
     "text": [
      "\r",
      "     15/100         0G      1.444      1.505      1.455        165        640:  64%|██████▍   | 18/28 [25:28<13:22, 80.21s/it]"
     ]
    },
    {
     "name": "stderr",
     "output_type": "stream",
     "text": [
      "\r",
      "     15/100         0G      1.444      1.505      1.455        165        640:  68%|██████▊   | 19/28 [25:28<12:02, 80.28s/it]"
     ]
    },
    {
     "name": "stderr",
     "output_type": "stream",
     "text": [
      "\r",
      "     15/100         0G      1.444      1.505      1.454        137        640:  68%|██████▊   | 19/28 [26:49<12:02, 80.28s/it]"
     ]
    },
    {
     "name": "stderr",
     "output_type": "stream",
     "text": [
      "\r",
      "     15/100         0G      1.444      1.505      1.454        137        640:  71%|███████▏  | 20/28 [26:49<10:44, 80.58s/it]"
     ]
    },
    {
     "name": "stderr",
     "output_type": "stream",
     "text": [
      "\r",
      "     15/100         0G      1.449      1.509       1.46        185        640:  71%|███████▏  | 20/28 [28:08<10:44, 80.58s/it]"
     ]
    },
    {
     "name": "stderr",
     "output_type": "stream",
     "text": [
      "\r",
      "     15/100         0G      1.449      1.509       1.46        185        640:  75%|███████▌  | 21/28 [28:08<09:19, 79.93s/it]"
     ]
    },
    {
     "name": "stderr",
     "output_type": "stream",
     "text": [
      "\r",
      "     15/100         0G      1.457      1.506      1.465        162        640:  75%|███████▌  | 21/28 [29:32<09:19, 79.93s/it]"
     ]
    },
    {
     "name": "stderr",
     "output_type": "stream",
     "text": [
      "\r",
      "     15/100         0G      1.457      1.506      1.465        162        640:  79%|███████▊  | 22/28 [29:32<08:07, 81.23s/it]"
     ]
    },
    {
     "name": "stderr",
     "output_type": "stream",
     "text": [
      "\r",
      "     15/100         0G      1.455      1.494      1.458        202        640:  79%|███████▊  | 22/28 [30:53<08:07, 81.23s/it]"
     ]
    },
    {
     "name": "stderr",
     "output_type": "stream",
     "text": [
      "\r",
      "     15/100         0G      1.455      1.494      1.458        202        640:  82%|████████▏ | 23/28 [30:53<06:46, 81.33s/it]"
     ]
    },
    {
     "name": "stderr",
     "output_type": "stream",
     "text": [
      "\r",
      "     15/100         0G      1.457       1.49      1.461        154        640:  82%|████████▏ | 23/28 [32:14<06:46, 81.33s/it]"
     ]
    },
    {
     "name": "stderr",
     "output_type": "stream",
     "text": [
      "\r",
      "     15/100         0G      1.457       1.49      1.461        154        640:  86%|████████▌ | 24/28 [32:14<05:24, 81.20s/it]"
     ]
    },
    {
     "name": "stderr",
     "output_type": "stream",
     "text": [
      "\r",
      "     15/100         0G      1.472      1.489      1.469        190        640:  86%|████████▌ | 24/28 [33:33<05:24, 81.20s/it]"
     ]
    },
    {
     "name": "stderr",
     "output_type": "stream",
     "text": [
      "\r",
      "     15/100         0G      1.472      1.489      1.469        190        640:  89%|████████▉ | 25/28 [33:33<04:01, 80.42s/it]"
     ]
    },
    {
     "name": "stderr",
     "output_type": "stream",
     "text": [
      "\r",
      "     15/100         0G      1.477       1.48       1.47        160        640:  89%|████████▉ | 25/28 [34:53<04:01, 80.42s/it]"
     ]
    },
    {
     "name": "stderr",
     "output_type": "stream",
     "text": [
      "\r",
      "     15/100         0G      1.477       1.48       1.47        160        640:  93%|█████████▎| 26/28 [34:53<02:40, 80.38s/it]"
     ]
    },
    {
     "name": "stderr",
     "output_type": "stream",
     "text": [
      "\r",
      "     15/100         0G       1.48      1.479      1.471        161        640:  93%|█████████▎| 26/28 [36:13<02:40, 80.38s/it]"
     ]
    },
    {
     "name": "stderr",
     "output_type": "stream",
     "text": [
      "\r",
      "     15/100         0G       1.48      1.479      1.471        161        640:  96%|█████████▋| 27/28 [36:13<01:20, 80.33s/it]"
     ]
    },
    {
     "name": "stderr",
     "output_type": "stream",
     "text": [
      "\r",
      "     15/100         0G      1.483      1.482      1.474        122        640:  96%|█████████▋| 27/28 [37:28<01:20, 80.33s/it]"
     ]
    },
    {
     "name": "stderr",
     "output_type": "stream",
     "text": [
      "\r",
      "     15/100         0G      1.483      1.482      1.474        122        640: 100%|██████████| 28/28 [37:28<00:00, 78.55s/it]"
     ]
    },
    {
     "name": "stderr",
     "output_type": "stream",
     "text": [
      "\r",
      "     15/100         0G      1.483      1.482      1.474        122        640: 100%|██████████| 28/28 [37:28<00:00, 80.30s/it]"
     ]
    },
    {
     "name": "stderr",
     "output_type": "stream",
     "text": [
      "\n"
     ]
    },
    {
     "name": "stderr",
     "output_type": "stream",
     "text": [
      "\r",
      "                 Class     Images  Instances      Box(P          R      mAP50  mAP50-95):   0%|          | 0/3 [00:00<?, ?it/s]"
     ]
    },
    {
     "name": "stderr",
     "output_type": "stream",
     "text": [
      "\r",
      "                 Class     Images  Instances      Box(P          R      mAP50  mAP50-95):  33%|███▎      | 1/3 [00:52<01:45, 52.59s/it]"
     ]
    },
    {
     "name": "stderr",
     "output_type": "stream",
     "text": [
      "\r",
      "                 Class     Images  Instances      Box(P          R      mAP50  mAP50-95):  67%|██████▋   | 2/3 [01:45<00:52, 52.86s/it]"
     ]
    },
    {
     "name": "stderr",
     "output_type": "stream",
     "text": [
      "\r",
      "                 Class     Images  Instances      Box(P          R      mAP50  mAP50-95): 100%|██████████| 3/3 [02:25<00:00, 46.93s/it]"
     ]
    },
    {
     "name": "stderr",
     "output_type": "stream",
     "text": [
      "\r",
      "                 Class     Images  Instances      Box(P          R      mAP50  mAP50-95): 100%|██████████| 3/3 [02:25<00:00, 48.51s/it]"
     ]
    },
    {
     "name": "stdout",
     "output_type": "stream",
     "text": [
      "                   all         89        672      0.578      0.538      0.554      0.295\n"
     ]
    },
    {
     "name": "stderr",
     "output_type": "stream",
     "text": [
      "\n"
     ]
    },
    {
     "name": "stdout",
     "output_type": "stream",
     "text": [
      "\n",
      "      Epoch    GPU_mem   box_loss   cls_loss   dfl_loss  Instances       Size\n"
     ]
    },
    {
     "name": "stderr",
     "output_type": "stream",
     "text": [
      "\r",
      "  0%|          | 0/28 [00:00<?, ?it/s]"
     ]
    },
    {
     "name": "stderr",
     "output_type": "stream",
     "text": [
      "\r",
      "     16/100         0G      1.381      1.204      1.319        237        640:   0%|          | 0/28 [01:20<?, ?it/s]"
     ]
    },
    {
     "name": "stderr",
     "output_type": "stream",
     "text": [
      "\r",
      "     16/100         0G      1.381      1.204      1.319        237        640:   4%|▎         | 1/28 [01:20<36:21, 80.81s/it]"
     ]
    },
    {
     "name": "stderr",
     "output_type": "stream",
     "text": [
      "\r",
      "     16/100         0G      1.432      1.245      1.366        200        640:   4%|▎         | 1/28 [02:42<36:21, 80.81s/it]"
     ]
    },
    {
     "name": "stderr",
     "output_type": "stream",
     "text": [
      "\r",
      "     16/100         0G      1.432      1.245      1.366        200        640:   7%|▋         | 2/28 [02:42<35:09, 81.12s/it]"
     ]
    },
    {
     "name": "stderr",
     "output_type": "stream",
     "text": [
      "\r",
      "     16/100         0G      1.488      1.299      1.407        189        640:   7%|▋         | 2/28 [04:03<35:09, 81.12s/it]"
     ]
    },
    {
     "name": "stderr",
     "output_type": "stream",
     "text": [
      "\r",
      "     16/100         0G      1.488      1.299      1.407        189        640:  11%|█         | 3/28 [04:03<33:47, 81.12s/it]"
     ]
    },
    {
     "name": "stderr",
     "output_type": "stream",
     "text": [
      "\r",
      "     16/100         0G       1.51      1.295      1.413        175        640:  11%|█         | 3/28 [05:25<33:47, 81.12s/it]"
     ]
    },
    {
     "name": "stderr",
     "output_type": "stream",
     "text": [
      "\r",
      "     16/100         0G       1.51      1.295      1.413        175        640:  14%|█▍        | 4/28 [05:25<32:34, 81.45s/it]"
     ]
    },
    {
     "name": "stderr",
     "output_type": "stream",
     "text": [
      "\r",
      "     16/100         0G        1.5      1.286      1.389        234        640:  14%|█▍        | 4/28 [06:45<32:34, 81.45s/it]"
     ]
    },
    {
     "name": "stderr",
     "output_type": "stream",
     "text": [
      "\r",
      "     16/100         0G        1.5      1.286      1.389        234        640:  18%|█▊        | 5/28 [06:45<31:03, 81.00s/it]"
     ]
    },
    {
     "name": "stderr",
     "output_type": "stream",
     "text": [
      "\r",
      "     16/100         0G      1.494      1.304      1.405        187        640:  18%|█▊        | 5/28 [08:07<31:03, 81.00s/it]"
     ]
    },
    {
     "name": "stderr",
     "output_type": "stream",
     "text": [
      "\r",
      "     16/100         0G      1.494      1.304      1.405        187        640:  21%|██▏       | 6/28 [08:07<29:53, 81.51s/it]"
     ]
    },
    {
     "name": "stderr",
     "output_type": "stream",
     "text": [
      "\r",
      "     16/100         0G      1.481       1.28      1.408        197        640:  21%|██▏       | 6/28 [09:29<29:53, 81.51s/it]"
     ]
    },
    {
     "name": "stderr",
     "output_type": "stream",
     "text": [
      "\r",
      "     16/100         0G      1.481       1.28      1.408        197        640:  25%|██▌       | 7/28 [09:29<28:33, 81.60s/it]"
     ]
    },
    {
     "name": "stderr",
     "output_type": "stream",
     "text": [
      "\r",
      "     16/100         0G      1.487      1.311      1.423        143        640:  25%|██▌       | 7/28 [10:51<28:33, 81.60s/it]"
     ]
    },
    {
     "name": "stderr",
     "output_type": "stream",
     "text": [
      "\r",
      "     16/100         0G      1.487      1.311      1.423        143        640:  29%|██▊       | 8/28 [10:51<27:14, 81.72s/it]"
     ]
    },
    {
     "name": "stderr",
     "output_type": "stream",
     "text": [
      "\r",
      "     16/100         0G      1.485      1.306      1.414        212        640:  29%|██▊       | 8/28 [12:11<27:14, 81.72s/it]"
     ]
    },
    {
     "name": "stderr",
     "output_type": "stream",
     "text": [
      "\r",
      "     16/100         0G      1.485      1.306      1.414        212        640:  32%|███▏      | 9/28 [12:11<25:41, 81.12s/it]"
     ]
    },
    {
     "name": "stderr",
     "output_type": "stream",
     "text": [
      "\r",
      "     16/100         0G      1.494      1.309      1.408        289        640:  32%|███▏      | 9/28 [13:36<25:41, 81.12s/it]"
     ]
    },
    {
     "name": "stderr",
     "output_type": "stream",
     "text": [
      "\r",
      "     16/100         0G      1.494      1.309      1.408        289        640:  36%|███▌      | 10/28 [13:36<24:39, 82.17s/it]"
     ]
    },
    {
     "name": "stderr",
     "output_type": "stream",
     "text": [
      "\r",
      "     16/100         0G      1.492      1.311      1.409        175        640:  36%|███▌      | 10/28 [14:58<24:39, 82.17s/it]"
     ]
    },
    {
     "name": "stderr",
     "output_type": "stream",
     "text": [
      "\r",
      "     16/100         0G      1.492      1.311      1.409        175        640:  39%|███▉      | 11/28 [14:58<23:18, 82.24s/it]"
     ]
    },
    {
     "name": "stderr",
     "output_type": "stream",
     "text": [
      "\r",
      "     16/100         0G      1.491      1.316      1.421        154        640:  39%|███▉      | 11/28 [16:19<23:18, 82.24s/it]"
     ]
    },
    {
     "name": "stderr",
     "output_type": "stream",
     "text": [
      "\r",
      "     16/100         0G      1.491      1.316      1.421        154        640:  43%|████▎     | 12/28 [16:19<21:49, 81.85s/it]"
     ]
    },
    {
     "name": "stderr",
     "output_type": "stream",
     "text": [
      "\r",
      "     16/100         0G      1.478      1.314      1.414        172        640:  43%|████▎     | 12/28 [17:38<21:49, 81.85s/it]"
     ]
    },
    {
     "name": "stderr",
     "output_type": "stream",
     "text": [
      "\r",
      "     16/100         0G      1.478      1.314      1.414        172        640:  46%|████▋     | 13/28 [17:38<20:16, 81.10s/it]"
     ]
    },
    {
     "name": "stderr",
     "output_type": "stream",
     "text": [
      "\r",
      "     16/100         0G      1.466      1.299      1.407        251        640:  46%|████▋     | 13/28 [19:00<20:16, 81.10s/it]"
     ]
    },
    {
     "name": "stderr",
     "output_type": "stream",
     "text": [
      "\r",
      "     16/100         0G      1.466      1.299      1.407        251        640:  50%|█████     | 14/28 [19:00<18:58, 81.34s/it]"
     ]
    },
    {
     "name": "stderr",
     "output_type": "stream",
     "text": [
      "\r",
      "     16/100         0G      1.469      1.289      1.407        217        640:  50%|█████     | 14/28 [20:21<18:58, 81.34s/it]"
     ]
    },
    {
     "name": "stderr",
     "output_type": "stream",
     "text": [
      "\r",
      "     16/100         0G      1.469      1.289      1.407        217        640:  54%|█████▎    | 15/28 [20:21<17:33, 81.06s/it]"
     ]
    },
    {
     "name": "stderr",
     "output_type": "stream",
     "text": [
      "\r",
      "     16/100         0G      1.472      1.291      1.411        149        640:  54%|█████▎    | 15/28 [21:43<17:33, 81.06s/it]"
     ]
    },
    {
     "name": "stderr",
     "output_type": "stream",
     "text": [
      "\r",
      "     16/100         0G      1.472      1.291      1.411        149        640:  57%|█████▋    | 16/28 [21:43<16:17, 81.46s/it]"
     ]
    },
    {
     "name": "stderr",
     "output_type": "stream",
     "text": [
      "\r",
      "     16/100         0G      1.467      1.282      1.409        169        640:  57%|█████▋    | 16/28 [23:02<16:17, 81.46s/it]"
     ]
    },
    {
     "name": "stderr",
     "output_type": "stream",
     "text": [
      "\r",
      "     16/100         0G      1.467      1.282      1.409        169        640:  61%|██████    | 17/28 [23:02<14:49, 80.88s/it]"
     ]
    },
    {
     "name": "stderr",
     "output_type": "stream",
     "text": [
      "\r",
      "     16/100         0G      1.472      1.283      1.412        212        640:  61%|██████    | 17/28 [24:25<14:49, 80.88s/it]"
     ]
    },
    {
     "name": "stderr",
     "output_type": "stream",
     "text": [
      "\r",
      "     16/100         0G      1.472      1.283      1.412        212        640:  64%|██████▍   | 18/28 [24:25<13:34, 81.42s/it]"
     ]
    },
    {
     "name": "stderr",
     "output_type": "stream",
     "text": [
      "\r",
      "     16/100         0G      1.474      1.286      1.417        157        640:  64%|██████▍   | 18/28 [25:47<13:34, 81.42s/it]"
     ]
    },
    {
     "name": "stderr",
     "output_type": "stream",
     "text": [
      "\r",
      "     16/100         0G      1.474      1.286      1.417        157        640:  68%|██████▊   | 19/28 [25:47<12:14, 81.60s/it]"
     ]
    },
    {
     "name": "stderr",
     "output_type": "stream",
     "text": [
      "\r",
      "     16/100         0G      1.467      1.273      1.411        254        640:  68%|██████▊   | 19/28 [27:10<12:14, 81.60s/it]"
     ]
    },
    {
     "name": "stderr",
     "output_type": "stream",
     "text": [
      "\r",
      "     16/100         0G      1.467      1.273      1.411        254        640:  71%|███████▏  | 20/28 [27:10<10:55, 81.90s/it]"
     ]
    },
    {
     "name": "stderr",
     "output_type": "stream",
     "text": [
      "\r",
      "     16/100         0G      1.458      1.268      1.405        180        640:  71%|███████▏  | 20/28 [28:30<10:55, 81.90s/it]"
     ]
    },
    {
     "name": "stderr",
     "output_type": "stream",
     "text": [
      "\r",
      "     16/100         0G      1.458      1.268      1.405        180        640:  75%|███████▌  | 21/28 [28:30<09:28, 81.26s/it]"
     ]
    },
    {
     "name": "stderr",
     "output_type": "stream",
     "text": [
      "\r",
      "     16/100         0G      1.462      1.273      1.407        156        640:  75%|███████▌  | 21/28 [29:52<09:28, 81.26s/it]"
     ]
    },
    {
     "name": "stderr",
     "output_type": "stream",
     "text": [
      "\r",
      "     16/100         0G      1.462      1.273      1.407        156        640:  79%|███████▊  | 22/28 [29:52<08:09, 81.52s/it]"
     ]
    },
    {
     "name": "stderr",
     "output_type": "stream",
     "text": [
      "\r",
      "     16/100         0G      1.466      1.277      1.409        229        640:  79%|███████▊  | 22/28 [31:12<08:09, 81.52s/it]"
     ]
    },
    {
     "name": "stderr",
     "output_type": "stream",
     "text": [
      "\r",
      "     16/100         0G      1.466      1.277      1.409        229        640:  82%|████████▏ | 23/28 [31:12<06:45, 81.10s/it]"
     ]
    },
    {
     "name": "stderr",
     "output_type": "stream",
     "text": [
      "\r",
      "     16/100         0G      1.466      1.287      1.413        147        640:  82%|████████▏ | 23/28 [32:32<06:45, 81.10s/it]"
     ]
    },
    {
     "name": "stderr",
     "output_type": "stream",
     "text": [
      "\r",
      "     16/100         0G      1.466      1.287      1.413        147        640:  86%|████████▌ | 24/28 [32:32<05:23, 80.95s/it]"
     ]
    },
    {
     "name": "stderr",
     "output_type": "stream",
     "text": [
      "\r",
      "     16/100         0G      1.462      1.286      1.412        140        640:  86%|████████▌ | 24/28 [34:06<05:23, 80.95s/it]"
     ]
    },
    {
     "name": "stderr",
     "output_type": "stream",
     "text": [
      "\r",
      "     16/100         0G      1.462      1.286      1.412        140        640:  89%|████████▉ | 25/28 [34:06<04:13, 84.66s/it]"
     ]
    },
    {
     "name": "stderr",
     "output_type": "stream",
     "text": [
      "\r",
      "     16/100         0G      1.452      1.294      1.409         99        640:  89%|████████▉ | 25/28 [35:29<04:13, 84.66s/it]"
     ]
    },
    {
     "name": "stderr",
     "output_type": "stream",
     "text": [
      "\r",
      "     16/100         0G      1.452      1.294      1.409         99        640:  93%|█████████▎| 26/28 [35:29<02:48, 84.38s/it]"
     ]
    },
    {
     "name": "stderr",
     "output_type": "stream",
     "text": [
      "\r",
      "     16/100         0G      1.451      1.298      1.406        141        640:  93%|█████████▎| 26/28 [36:51<02:48, 84.38s/it]"
     ]
    },
    {
     "name": "stderr",
     "output_type": "stream",
     "text": [
      "\r",
      "     16/100         0G      1.451      1.298      1.406        141        640:  96%|█████████▋| 27/28 [36:51<01:23, 83.63s/it]"
     ]
    },
    {
     "name": "stderr",
     "output_type": "stream",
     "text": [
      "\r",
      "     16/100         0G      1.452      1.299      1.409        159        640:  96%|█████████▋| 27/28 [38:06<01:23, 83.63s/it]"
     ]
    },
    {
     "name": "stderr",
     "output_type": "stream",
     "text": [
      "\r",
      "     16/100         0G      1.452      1.299      1.409        159        640: 100%|██████████| 28/28 [38:06<00:00, 80.87s/it]"
     ]
    },
    {
     "name": "stderr",
     "output_type": "stream",
     "text": [
      "\r",
      "     16/100         0G      1.452      1.299      1.409        159        640: 100%|██████████| 28/28 [38:06<00:00, 81.65s/it]"
     ]
    },
    {
     "name": "stderr",
     "output_type": "stream",
     "text": [
      "\n"
     ]
    },
    {
     "name": "stderr",
     "output_type": "stream",
     "text": [
      "\r",
      "                 Class     Images  Instances      Box(P          R      mAP50  mAP50-95):   0%|          | 0/3 [00:00<?, ?it/s]"
     ]
    },
    {
     "name": "stderr",
     "output_type": "stream",
     "text": [
      "\r",
      "                 Class     Images  Instances      Box(P          R      mAP50  mAP50-95):  33%|███▎      | 1/3 [00:53<01:47, 53.71s/it]"
     ]
    },
    {
     "name": "stderr",
     "output_type": "stream",
     "text": [
      "\r",
      "                 Class     Images  Instances      Box(P          R      mAP50  mAP50-95):  67%|██████▋   | 2/3 [01:46<00:53, 53.16s/it]"
     ]
    },
    {
     "name": "stderr",
     "output_type": "stream",
     "text": [
      "\r",
      "                 Class     Images  Instances      Box(P          R      mAP50  mAP50-95): 100%|██████████| 3/3 [02:26<00:00, 47.22s/it]"
     ]
    },
    {
     "name": "stderr",
     "output_type": "stream",
     "text": [
      "\r",
      "                 Class     Images  Instances      Box(P          R      mAP50  mAP50-95): 100%|██████████| 3/3 [02:26<00:00, 48.88s/it]"
     ]
    },
    {
     "name": "stdout",
     "output_type": "stream",
     "text": [
      "                   all         89        672      0.586      0.586      0.586      0.316\n"
     ]
    },
    {
     "name": "stderr",
     "output_type": "stream",
     "text": [
      "\n"
     ]
    },
    {
     "name": "stdout",
     "output_type": "stream",
     "text": [
      "\n",
      "      Epoch    GPU_mem   box_loss   cls_loss   dfl_loss  Instances       Size\n"
     ]
    },
    {
     "name": "stderr",
     "output_type": "stream",
     "text": [
      "\r",
      "  0%|          | 0/28 [00:00<?, ?it/s]"
     ]
    },
    {
     "name": "stderr",
     "output_type": "stream",
     "text": [
      "\r",
      "     17/100         0G      1.224       1.22       1.26        145        640:   0%|          | 0/28 [01:19<?, ?it/s]"
     ]
    },
    {
     "name": "stderr",
     "output_type": "stream",
     "text": [
      "\r",
      "     17/100         0G      1.224       1.22       1.26        145        640:   4%|▎         | 1/28 [01:19<35:45, 79.47s/it]"
     ]
    },
    {
     "name": "stderr",
     "output_type": "stream",
     "text": [
      "\r",
      "     17/100         0G      1.253      1.234      1.253        138        640:   4%|▎         | 1/28 [02:39<35:45, 79.47s/it]"
     ]
    },
    {
     "name": "stderr",
     "output_type": "stream",
     "text": [
      "\r",
      "     17/100         0G      1.253      1.234      1.253        138        640:   7%|▋         | 2/28 [02:39<34:39, 79.98s/it]"
     ]
    },
    {
     "name": "stderr",
     "output_type": "stream",
     "text": [
      "\r",
      "     17/100         0G      1.334      1.312      1.315        145        640:   7%|▋         | 2/28 [03:59<34:39, 79.98s/it]"
     ]
    },
    {
     "name": "stderr",
     "output_type": "stream",
     "text": [
      "\r",
      "     17/100         0G      1.334      1.312      1.315        145        640:  11%|█         | 3/28 [03:59<33:16, 79.85s/it]"
     ]
    },
    {
     "name": "stderr",
     "output_type": "stream",
     "text": [
      "\r",
      "     17/100         0G      1.369      1.314      1.321        216        640:  11%|█         | 3/28 [05:30<33:16, 79.85s/it]"
     ]
    },
    {
     "name": "stderr",
     "output_type": "stream",
     "text": [
      "\r",
      "     17/100         0G      1.369      1.314      1.321        216        640:  14%|█▍        | 4/28 [05:30<33:40, 84.20s/it]"
     ]
    },
    {
     "name": "stderr",
     "output_type": "stream",
     "text": [
      "\r",
      "     17/100         0G      1.406      1.322      1.343        160        640:  14%|█▍        | 4/28 [06:49<33:40, 84.20s/it]"
     ]
    },
    {
     "name": "stderr",
     "output_type": "stream",
     "text": [
      "\r",
      "     17/100         0G      1.406      1.322      1.343        160        640:  18%|█▊        | 5/28 [06:49<31:36, 82.45s/it]"
     ]
    },
    {
     "name": "stderr",
     "output_type": "stream",
     "text": [
      "\r",
      "     17/100         0G      1.436      1.333       1.35        214        640:  18%|█▊        | 5/28 [08:11<31:36, 82.45s/it]"
     ]
    },
    {
     "name": "stderr",
     "output_type": "stream",
     "text": [
      "\r",
      "     17/100         0G      1.436      1.333       1.35        214        640:  21%|██▏       | 6/28 [08:11<30:05, 82.09s/it]"
     ]
    },
    {
     "name": "stderr",
     "output_type": "stream",
     "text": [
      "\r",
      "     17/100         0G      1.421      1.332      1.352        216        640:  21%|██▏       | 6/28 [09:32<30:05, 82.09s/it]"
     ]
    },
    {
     "name": "stderr",
     "output_type": "stream",
     "text": [
      "\r",
      "     17/100         0G      1.421      1.332      1.352        216        640:  25%|██▌       | 7/28 [09:32<28:36, 81.76s/it]"
     ]
    },
    {
     "name": "stderr",
     "output_type": "stream",
     "text": [
      "\r",
      "     17/100         0G      1.441      1.366      1.383        128        640:  25%|██▌       | 7/28 [10:53<28:36, 81.76s/it]"
     ]
    },
    {
     "name": "stderr",
     "output_type": "stream",
     "text": [
      "\r",
      "     17/100         0G      1.441      1.366      1.383        128        640:  29%|██▊       | 8/28 [10:53<27:11, 81.58s/it]"
     ]
    },
    {
     "name": "stderr",
     "output_type": "stream",
     "text": [
      "\r",
      "     17/100         0G       1.45      1.352      1.394        191        640:  29%|██▊       | 8/28 [12:13<27:11, 81.58s/it]"
     ]
    },
    {
     "name": "stderr",
     "output_type": "stream",
     "text": [
      "\r",
      "     17/100         0G       1.45      1.352      1.394        191        640:  32%|███▏      | 9/28 [12:13<25:40, 81.09s/it]"
     ]
    },
    {
     "name": "stderr",
     "output_type": "stream",
     "text": [
      "\r",
      "     17/100         0G      1.454      1.336      1.391        196        640:  32%|███▏      | 9/28 [13:43<25:40, 81.09s/it]"
     ]
    },
    {
     "name": "stderr",
     "output_type": "stream",
     "text": [
      "\r",
      "     17/100         0G      1.454      1.336      1.391        196        640:  36%|███▌      | 10/28 [13:43<25:09, 83.86s/it]"
     ]
    },
    {
     "name": "stderr",
     "output_type": "stream",
     "text": [
      "\r",
      "     17/100         0G      1.453      1.331      1.391        160        640:  36%|███▌      | 10/28 [15:04<25:09, 83.86s/it]"
     ]
    },
    {
     "name": "stderr",
     "output_type": "stream",
     "text": [
      "\r",
      "     17/100         0G      1.453      1.331      1.391        160        640:  39%|███▉      | 11/28 [15:04<23:33, 83.12s/it]"
     ]
    },
    {
     "name": "stderr",
     "output_type": "stream",
     "text": [
      "\r",
      "     17/100         0G       1.46      1.332      1.397        222        640:  39%|███▉      | 11/28 [16:26<23:33, 83.12s/it]"
     ]
    },
    {
     "name": "stderr",
     "output_type": "stream",
     "text": [
      "\r",
      "     17/100         0G       1.46      1.332      1.397        222        640:  43%|████▎     | 12/28 [16:26<22:01, 82.58s/it]"
     ]
    },
    {
     "name": "stderr",
     "output_type": "stream",
     "text": [
      "\r",
      "     17/100         0G      1.455      1.313      1.392        182        640:  43%|████▎     | 12/28 [17:45<22:01, 82.58s/it]"
     ]
    },
    {
     "name": "stderr",
     "output_type": "stream",
     "text": [
      "\r",
      "     17/100         0G      1.455      1.313      1.392        182        640:  46%|████▋     | 13/28 [17:45<20:24, 81.64s/it]"
     ]
    },
    {
     "name": "stderr",
     "output_type": "stream",
     "text": [
      "\r",
      "     17/100         0G      1.443      1.305      1.387        165        640:  46%|████▋     | 13/28 [19:07<20:24, 81.64s/it]"
     ]
    },
    {
     "name": "stderr",
     "output_type": "stream",
     "text": [
      "\r",
      "     17/100         0G      1.443      1.305      1.387        165        640:  50%|█████     | 14/28 [19:07<19:01, 81.56s/it]"
     ]
    },
    {
     "name": "stderr",
     "output_type": "stream",
     "text": [
      "\r",
      "     17/100         0G      1.438      1.297      1.378        259        640:  50%|█████     | 14/28 [20:28<19:01, 81.56s/it]"
     ]
    },
    {
     "name": "stderr",
     "output_type": "stream",
     "text": [
      "\r",
      "     17/100         0G      1.438      1.297      1.378        259        640:  54%|█████▎    | 15/28 [20:28<17:38, 81.46s/it]"
     ]
    },
    {
     "name": "stderr",
     "output_type": "stream",
     "text": [
      "\r",
      "     17/100         0G      1.435      1.292      1.375        224        640:  54%|█████▎    | 15/28 [21:48<17:38, 81.46s/it]"
     ]
    },
    {
     "name": "stderr",
     "output_type": "stream",
     "text": [
      "\r",
      "     17/100         0G      1.435      1.292      1.375        224        640:  57%|█████▋    | 16/28 [21:48<16:14, 81.20s/it]"
     ]
    },
    {
     "name": "stderr",
     "output_type": "stream",
     "text": [
      "\r",
      "     17/100         0G      1.429      1.292      1.373        199        640:  57%|█████▋    | 16/28 [23:09<16:14, 81.20s/it]"
     ]
    },
    {
     "name": "stderr",
     "output_type": "stream",
     "text": [
      "\r",
      "     17/100         0G      1.429      1.292      1.373        199        640:  61%|██████    | 17/28 [23:09<14:49, 80.87s/it]"
     ]
    },
    {
     "name": "stderr",
     "output_type": "stream",
     "text": [
      "\r",
      "     17/100         0G      1.427       1.29      1.372        245        640:  61%|██████    | 17/28 [24:31<14:49, 80.87s/it]"
     ]
    },
    {
     "name": "stderr",
     "output_type": "stream",
     "text": [
      "\r",
      "     17/100         0G      1.427       1.29      1.372        245        640:  64%|██████▍   | 18/28 [24:31<13:32, 81.29s/it]"
     ]
    },
    {
     "name": "stderr",
     "output_type": "stream",
     "text": [
      "\r",
      "     17/100         0G      1.419      1.279      1.367        291        640:  64%|██████▍   | 18/28 [25:52<13:32, 81.29s/it]"
     ]
    },
    {
     "name": "stderr",
     "output_type": "stream",
     "text": [
      "\r",
      "     17/100         0G      1.419      1.279      1.367        291        640:  68%|██████▊   | 19/28 [25:52<12:12, 81.35s/it]"
     ]
    },
    {
     "name": "stderr",
     "output_type": "stream",
     "text": [
      "\r",
      "     17/100         0G      1.419      1.281      1.366        184        640:  68%|██████▊   | 19/28 [27:14<12:12, 81.35s/it]"
     ]
    },
    {
     "name": "stderr",
     "output_type": "stream",
     "text": [
      "\r",
      "     17/100         0G      1.419      1.281      1.366        184        640:  71%|███████▏  | 20/28 [27:14<10:52, 81.53s/it]"
     ]
    },
    {
     "name": "stderr",
     "output_type": "stream",
     "text": [
      "\r",
      "     17/100         0G      1.417      1.299      1.366        140        640:  71%|███████▏  | 20/28 [28:34<10:52, 81.53s/it]"
     ]
    },
    {
     "name": "stderr",
     "output_type": "stream",
     "text": [
      "\r",
      "     17/100         0G      1.417      1.299      1.366        140        640:  75%|███████▌  | 21/28 [28:34<09:26, 81.00s/it]"
     ]
    },
    {
     "name": "stderr",
     "output_type": "stream",
     "text": [
      "\r",
      "     17/100         0G       1.42      1.305      1.369        178        640:  75%|███████▌  | 21/28 [29:56<09:26, 81.00s/it]"
     ]
    },
    {
     "name": "stderr",
     "output_type": "stream",
     "text": [
      "\r",
      "     17/100         0G       1.42      1.305      1.369        178        640:  79%|███████▊  | 22/28 [29:56<08:07, 81.21s/it]"
     ]
    },
    {
     "name": "stderr",
     "output_type": "stream",
     "text": [
      "\r",
      "     17/100         0G      1.416      1.301      1.367        192        640:  79%|███████▊  | 22/28 [31:16<08:07, 81.21s/it]"
     ]
    },
    {
     "name": "stderr",
     "output_type": "stream",
     "text": [
      "\r",
      "     17/100         0G      1.416      1.301      1.367        192        640:  82%|████████▏ | 23/28 [31:16<06:45, 81.08s/it]"
     ]
    },
    {
     "name": "stderr",
     "output_type": "stream",
     "text": [
      "\r",
      "     17/100         0G      1.422      1.305      1.369        244        640:  82%|████████▏ | 23/28 [32:39<06:45, 81.08s/it]"
     ]
    },
    {
     "name": "stderr",
     "output_type": "stream",
     "text": [
      "\r",
      "     17/100         0G      1.422      1.305      1.369        244        640:  86%|████████▌ | 24/28 [32:39<05:26, 81.63s/it]"
     ]
    },
    {
     "name": "stderr",
     "output_type": "stream",
     "text": [
      "\r",
      "     17/100         0G      1.424      1.304       1.37        220        640:  86%|████████▌ | 24/28 [34:00<05:26, 81.63s/it]"
     ]
    },
    {
     "name": "stderr",
     "output_type": "stream",
     "text": [
      "\r",
      "     17/100         0G      1.424      1.304       1.37        220        640:  89%|████████▉ | 25/28 [34:00<04:03, 81.28s/it]"
     ]
    },
    {
     "name": "stderr",
     "output_type": "stream",
     "text": [
      "\r",
      "     17/100         0G      1.424      1.303       1.37        196        640:  89%|████████▉ | 25/28 [35:22<04:03, 81.28s/it]"
     ]
    },
    {
     "name": "stderr",
     "output_type": "stream",
     "text": [
      "\r",
      "     17/100         0G      1.424      1.303       1.37        196        640:  93%|█████████▎| 26/28 [35:22<02:43, 81.58s/it]"
     ]
    },
    {
     "name": "stderr",
     "output_type": "stream",
     "text": [
      "\r",
      "     17/100         0G      1.422      1.301      1.372        188        640:  93%|█████████▎| 26/28 [36:44<02:43, 81.58s/it]"
     ]
    },
    {
     "name": "stderr",
     "output_type": "stream",
     "text": [
      "\r",
      "     17/100         0G      1.422      1.301      1.372        188        640:  96%|█████████▋| 27/28 [36:44<01:21, 81.69s/it]"
     ]
    },
    {
     "name": "stderr",
     "output_type": "stream",
     "text": [
      "\r",
      "     17/100         0G      1.424      1.303      1.374        137        640:  96%|█████████▋| 27/28 [37:59<01:21, 81.69s/it]"
     ]
    },
    {
     "name": "stderr",
     "output_type": "stream",
     "text": [
      "\r",
      "     17/100         0G      1.424      1.303      1.374        137        640: 100%|██████████| 28/28 [37:59<00:00, 79.59s/it]"
     ]
    },
    {
     "name": "stderr",
     "output_type": "stream",
     "text": [
      "\r",
      "     17/100         0G      1.424      1.303      1.374        137        640: 100%|██████████| 28/28 [37:59<00:00, 81.40s/it]"
     ]
    },
    {
     "name": "stderr",
     "output_type": "stream",
     "text": [
      "\n"
     ]
    },
    {
     "name": "stderr",
     "output_type": "stream",
     "text": [
      "\r",
      "                 Class     Images  Instances      Box(P          R      mAP50  mAP50-95):   0%|          | 0/3 [00:00<?, ?it/s]"
     ]
    },
    {
     "name": "stderr",
     "output_type": "stream",
     "text": [
      "\r",
      "                 Class     Images  Instances      Box(P          R      mAP50  mAP50-95):  33%|███▎      | 1/3 [00:53<01:46, 53.22s/it]"
     ]
    },
    {
     "name": "stderr",
     "output_type": "stream",
     "text": [
      "\r",
      "                 Class     Images  Instances      Box(P          R      mAP50  mAP50-95):  67%|██████▋   | 2/3 [01:54<00:57, 57.91s/it]"
     ]
    },
    {
     "name": "stderr",
     "output_type": "stream",
     "text": [
      "\r",
      "                 Class     Images  Instances      Box(P          R      mAP50  mAP50-95): 100%|██████████| 3/3 [02:34<00:00, 49.86s/it]"
     ]
    },
    {
     "name": "stderr",
     "output_type": "stream",
     "text": [
      "\r",
      "                 Class     Images  Instances      Box(P          R      mAP50  mAP50-95): 100%|██████████| 3/3 [02:34<00:00, 51.57s/it]"
     ]
    },
    {
     "name": "stdout",
     "output_type": "stream",
     "text": [
      "                   all         89        672      0.673      0.568      0.603      0.327\n"
     ]
    },
    {
     "name": "stderr",
     "output_type": "stream",
     "text": [
      "\n"
     ]
    },
    {
     "name": "stdout",
     "output_type": "stream",
     "text": [
      "\n",
      "      Epoch    GPU_mem   box_loss   cls_loss   dfl_loss  Instances       Size\n"
     ]
    },
    {
     "name": "stderr",
     "output_type": "stream",
     "text": [
      "\r",
      "  0%|          | 0/28 [00:00<?, ?it/s]"
     ]
    },
    {
     "name": "stderr",
     "output_type": "stream",
     "text": [
      "\r",
      "     18/100         0G      1.496      1.214      1.395        173        640:   0%|          | 0/28 [01:23<?, ?it/s]"
     ]
    },
    {
     "name": "stderr",
     "output_type": "stream",
     "text": [
      "\r",
      "     18/100         0G      1.496      1.214      1.395        173        640:   4%|▎         | 1/28 [01:23<37:30, 83.36s/it]"
     ]
    },
    {
     "name": "stderr",
     "output_type": "stream",
     "text": [
      "\r",
      "     18/100         0G      1.552      1.308      1.503        158        640:   4%|▎         | 1/28 [02:45<37:30, 83.36s/it]"
     ]
    },
    {
     "name": "stderr",
     "output_type": "stream",
     "text": [
      "\r",
      "     18/100         0G      1.552      1.308      1.503        158        640:   7%|▋         | 2/28 [02:45<35:45, 82.51s/it]"
     ]
    },
    {
     "name": "stderr",
     "output_type": "stream",
     "text": [
      "\r",
      "     18/100         0G      1.566      1.379      1.493        174        640:   7%|▋         | 2/28 [04:06<35:45, 82.51s/it]"
     ]
    },
    {
     "name": "stderr",
     "output_type": "stream",
     "text": [
      "\r",
      "     18/100         0G      1.566      1.379      1.493        174        640:  11%|█         | 3/28 [04:06<34:10, 82.04s/it]"
     ]
    },
    {
     "name": "stderr",
     "output_type": "stream",
     "text": [
      "\r",
      "     18/100         0G       1.51      1.343      1.453        177        640:  11%|█         | 3/28 [05:28<34:10, 82.04s/it]"
     ]
    },
    {
     "name": "stderr",
     "output_type": "stream",
     "text": [
      "\r",
      "     18/100         0G       1.51      1.343      1.453        177        640:  14%|█▍        | 4/28 [05:28<32:49, 82.04s/it]"
     ]
    },
    {
     "name": "stderr",
     "output_type": "stream",
     "text": [
      "\r",
      "     18/100         0G      1.496      1.356      1.451        140        640:  14%|█▍        | 4/28 [06:48<32:49, 82.04s/it]"
     ]
    },
    {
     "name": "stderr",
     "output_type": "stream",
     "text": [
      "\r",
      "     18/100         0G      1.496      1.356      1.451        140        640:  18%|█▊        | 5/28 [06:48<31:09, 81.27s/it]"
     ]
    },
    {
     "name": "stderr",
     "output_type": "stream",
     "text": [
      "\r",
      "     18/100         0G      1.463      1.329      1.432        202        640:  18%|█▊        | 5/28 [08:10<31:09, 81.27s/it]"
     ]
    },
    {
     "name": "stderr",
     "output_type": "stream",
     "text": [
      "\r",
      "     18/100         0G      1.463      1.329      1.432        202        640:  21%|██▏       | 6/28 [08:10<29:55, 81.62s/it]"
     ]
    },
    {
     "name": "stderr",
     "output_type": "stream",
     "text": [
      "\r",
      "     18/100         0G      1.459      1.307      1.432        185        640:  21%|██▏       | 6/28 [09:32<29:55, 81.62s/it]"
     ]
    },
    {
     "name": "stderr",
     "output_type": "stream",
     "text": [
      "\r",
      "     18/100         0G      1.459      1.307      1.432        185        640:  25%|██▌       | 7/28 [09:32<28:36, 81.74s/it]"
     ]
    },
    {
     "name": "stderr",
     "output_type": "stream",
     "text": [
      "\r",
      "     18/100         0G      1.453       1.31      1.427        209        640:  25%|██▌       | 7/28 [10:55<28:36, 81.74s/it]"
     ]
    },
    {
     "name": "stderr",
     "output_type": "stream",
     "text": [
      "\r",
      "     18/100         0G      1.453       1.31      1.427        209        640:  29%|██▊       | 8/28 [10:55<27:18, 81.93s/it]"
     ]
    },
    {
     "name": "stderr",
     "output_type": "stream",
     "text": [
      "\r",
      "     18/100         0G      1.447      1.301      1.416        145        640:  29%|██▊       | 8/28 [12:14<27:18, 81.93s/it]"
     ]
    },
    {
     "name": "stderr",
     "output_type": "stream",
     "text": [
      "\r",
      "     18/100         0G      1.447      1.301      1.416        145        640:  32%|███▏      | 9/28 [12:14<25:37, 80.92s/it]"
     ]
    },
    {
     "name": "stderr",
     "output_type": "stream",
     "text": [
      "\r",
      "     18/100         0G      1.451      1.304      1.421        270        640:  32%|███▏      | 9/28 [13:35<25:37, 80.92s/it]"
     ]
    },
    {
     "name": "stderr",
     "output_type": "stream",
     "text": [
      "\r",
      "     18/100         0G      1.451      1.304      1.421        270        640:  36%|███▌      | 10/28 [13:35<24:21, 81.21s/it]"
     ]
    },
    {
     "name": "stderr",
     "output_type": "stream",
     "text": [
      "\r",
      "     18/100         0G       1.45      1.297      1.419        196        640:  36%|███▌      | 10/28 [14:57<24:21, 81.21s/it]"
     ]
    },
    {
     "name": "stderr",
     "output_type": "stream",
     "text": [
      "\r",
      "     18/100         0G       1.45      1.297      1.419        196        640:  39%|███▉      | 11/28 [14:57<23:01, 81.29s/it]"
     ]
    },
    {
     "name": "stderr",
     "output_type": "stream",
     "text": [
      "\r",
      "     18/100         0G      1.433      1.292       1.41        151        640:  39%|███▉      | 11/28 [16:19<23:01, 81.29s/it]"
     ]
    },
    {
     "name": "stderr",
     "output_type": "stream",
     "text": [
      "\r",
      "     18/100         0G      1.433      1.292       1.41        151        640:  43%|████▎     | 12/28 [16:19<21:45, 81.56s/it]"
     ]
    },
    {
     "name": "stderr",
     "output_type": "stream",
     "text": [
      "\r",
      "     18/100         0G      1.429      1.284      1.404        169        640:  43%|████▎     | 12/28 [17:38<21:45, 81.56s/it]"
     ]
    },
    {
     "name": "stderr",
     "output_type": "stream",
     "text": [
      "\r",
      "     18/100         0G      1.429      1.284      1.404        169        640:  46%|████▋     | 13/28 [17:38<20:12, 80.82s/it]"
     ]
    },
    {
     "name": "stderr",
     "output_type": "stream",
     "text": [
      "\r",
      "     18/100         0G       1.42       1.28      1.402        155        640:  46%|████▋     | 13/28 [19:01<20:12, 80.82s/it]"
     ]
    },
    {
     "name": "stderr",
     "output_type": "stream",
     "text": [
      "\r",
      "     18/100         0G       1.42       1.28      1.402        155        640:  50%|█████     | 14/28 [19:01<18:59, 81.43s/it]"
     ]
    },
    {
     "name": "stderr",
     "output_type": "stream",
     "text": [
      "\r",
      "     18/100         0G      1.421      1.307      1.408        125        640:  50%|█████     | 14/28 [20:29<18:59, 81.43s/it]"
     ]
    },
    {
     "name": "stderr",
     "output_type": "stream",
     "text": [
      "\r",
      "     18/100         0G      1.421      1.307      1.408        125        640:  54%|█████▎    | 15/28 [20:29<18:04, 83.46s/it]"
     ]
    },
    {
     "name": "stderr",
     "output_type": "stream",
     "text": [
      "\r",
      "     18/100         0G      1.423      1.315      1.415        141        640:  54%|█████▎    | 15/28 [21:51<18:04, 83.46s/it]"
     ]
    },
    {
     "name": "stderr",
     "output_type": "stream",
     "text": [
      "\r",
      "     18/100         0G      1.423      1.315      1.415        141        640:  57%|█████▋    | 16/28 [21:51<16:35, 82.95s/it]"
     ]
    },
    {
     "name": "stderr",
     "output_type": "stream",
     "text": [
      "\r",
      "     18/100         0G      1.426      1.308      1.418        187        640:  57%|█████▋    | 16/28 [23:11<16:35, 82.95s/it]"
     ]
    },
    {
     "name": "stderr",
     "output_type": "stream",
     "text": [
      "\r",
      "     18/100         0G      1.426      1.308      1.418        187        640:  61%|██████    | 17/28 [23:11<15:02, 82.02s/it]"
     ]
    },
    {
     "name": "stderr",
     "output_type": "stream",
     "text": [
      "\r",
      "     18/100         0G      1.422      1.311      1.413        161        640:  61%|██████    | 17/28 [24:32<15:02, 82.02s/it]"
     ]
    },
    {
     "name": "stderr",
     "output_type": "stream",
     "text": [
      "\r",
      "     18/100         0G      1.422      1.311      1.413        161        640:  64%|██████▍   | 18/28 [24:32<13:39, 81.92s/it]"
     ]
    },
    {
     "name": "stderr",
     "output_type": "stream",
     "text": [
      "\r",
      "     18/100         0G      1.431      1.334      1.421         78        640:  64%|██████▍   | 18/28 [25:54<13:39, 81.92s/it]"
     ]
    },
    {
     "name": "stderr",
     "output_type": "stream",
     "text": [
      "\r",
      "     18/100         0G      1.431      1.334      1.421         78        640:  68%|██████▊   | 19/28 [25:54<12:16, 81.82s/it]"
     ]
    },
    {
     "name": "stderr",
     "output_type": "stream",
     "text": [
      "\r",
      "     18/100         0G      1.427      1.329       1.42        170        640:  68%|██████▊   | 19/28 [27:16<12:16, 81.82s/it]"
     ]
    },
    {
     "name": "stderr",
     "output_type": "stream",
     "text": [
      "\r",
      "     18/100         0G      1.427      1.329       1.42        170        640:  71%|███████▏  | 20/28 [27:16<10:54, 81.84s/it]"
     ]
    },
    {
     "name": "stderr",
     "output_type": "stream",
     "text": [
      "\r",
      "     18/100         0G      1.434      1.327      1.417        230        640:  71%|███████▏  | 20/28 [28:36<10:54, 81.84s/it]"
     ]
    },
    {
     "name": "stderr",
     "output_type": "stream",
     "text": [
      "\r",
      "     18/100         0G      1.434      1.327      1.417        230        640:  75%|███████▌  | 21/28 [28:36<09:28, 81.21s/it]"
     ]
    },
    {
     "name": "stderr",
     "output_type": "stream",
     "text": [
      "\r",
      "     18/100         0G      1.437      1.327      1.419        150        640:  75%|███████▌  | 21/28 [29:58<09:28, 81.21s/it]"
     ]
    },
    {
     "name": "stderr",
     "output_type": "stream",
     "text": [
      "\r",
      "     18/100         0G      1.437      1.327      1.419        150        640:  79%|███████▊  | 22/28 [29:58<08:09, 81.53s/it]"
     ]
    },
    {
     "name": "stderr",
     "output_type": "stream",
     "text": [
      "\r",
      "     18/100         0G      1.437      1.326      1.419        167        640:  79%|███████▊  | 22/28 [31:20<08:09, 81.53s/it]"
     ]
    }
   ],
   "source": [
    "# YOLOv8 large modelini yükle ve eğit\n",
    "model = YOLO(\"yolov8l.pt\")  # YOLOv8'in large modelini kullanıyor\n",
    "model.train(data=config_path, epochs=100)"
   ]
  },
  {
   "cell_type": "code",
   "execution_count": null,
   "id": "0baa8814",
   "metadata": {
    "papermill": {
     "duration": null,
     "end_time": null,
     "exception": null,
     "start_time": null,
     "status": "pending"
    },
    "tags": []
   },
   "outputs": [],
   "source": [
    "test_path = \"/kaggle/input/aquarium_combinedv2-raw-1024yolov8/test\"\n",
    "results = model.predict(source=test_path, conf=0.5)\n",
    "\n",
    "# Tahmin sonuçlarını göster\n",
    "results.show()"
   ]
  },
  {
   "cell_type": "code",
   "execution_count": null,
   "id": "05a6221c",
   "metadata": {
    "papermill": {
     "duration": null,
     "end_time": null,
     "exception": null,
     "start_time": null,
     "status": "pending"
    },
    "tags": []
   },
   "outputs": [],
   "source": []
  },
  {
   "cell_type": "code",
   "execution_count": null,
   "id": "22b6e9a8",
   "metadata": {
    "execution": {
     "iopub.status.busy": "2024-07-22T08:21:53.591037Z",
     "iopub.status.idle": "2024-07-22T08:21:53.591514Z",
     "shell.execute_reply": "2024-07-22T08:21:53.591303Z",
     "shell.execute_reply.started": "2024-07-22T08:21:53.591282Z"
    },
    "papermill": {
     "duration": null,
     "end_time": null,
     "exception": null,
     "start_time": null,
     "status": "pending"
    },
    "tags": []
   },
   "outputs": [],
   "source": [
    "\"\""
   ]
  }
 ],
 "metadata": {
  "kaggle": {
   "accelerator": "none",
   "dataSources": [
    {
     "datasetId": 5426970,
     "sourceId": 9008066,
     "sourceType": "datasetVersion"
    }
   ],
   "dockerImageVersionId": 30746,
   "isGpuEnabled": false,
   "isInternetEnabled": true,
   "language": "python",
   "sourceType": "notebook"
  },
  "kernelspec": {
   "display_name": "Python 3",
   "language": "python",
   "name": "python3"
  },
  "language_info": {
   "codemirror_mode": {
    "name": "ipython",
    "version": 3
   },
   "file_extension": ".py",
   "mimetype": "text/x-python",
   "name": "python",
   "nbconvert_exporter": "python",
   "pygments_lexer": "ipython3",
   "version": "3.10.13"
  },
  "papermill": {
   "default_parameters": {},
   "duration": null,
   "end_time": null,
   "environment_variables": {},
   "exception": null,
   "input_path": "__notebook__.ipynb",
   "output_path": "__notebook__.ipynb",
   "parameters": {},
   "start_time": "2024-07-22T11:38:41.471292",
   "version": "2.5.0"
  }
 },
 "nbformat": 4,
 "nbformat_minor": 5
}